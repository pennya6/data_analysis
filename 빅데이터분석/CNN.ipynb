{
  "nbformat": 4,
  "nbformat_minor": 0,
  "metadata": {
    "colab": {
      "name": "CNN.ipynb",
      "provenance": [],
      "collapsed_sections": [],
      "authorship_tag": "ABX9TyOjRo06+7SYqPSdWKvzE/xj",
      "include_colab_link": true
    },
    "kernelspec": {
      "name": "python3",
      "display_name": "Python 3"
    },
    "language_info": {
      "name": "python"
    },
    "widgets": {
      "application/vnd.jupyter.widget-state+json": {
        "d680a9d82d3047e7a2dfed4cd31d3dfb": {
          "model_module": "@jupyter-widgets/controls",
          "model_name": "HBoxModel",
          "model_module_version": "1.5.0",
          "state": {
            "_view_name": "HBoxView",
            "_dom_classes": [],
            "_model_name": "HBoxModel",
            "_view_module": "@jupyter-widgets/controls",
            "_model_module_version": "1.5.0",
            "_view_count": null,
            "_view_module_version": "1.5.0",
            "box_style": "",
            "layout": "IPY_MODEL_1cb825c31135471e860a41599e84069e",
            "_model_module": "@jupyter-widgets/controls",
            "children": [
              "IPY_MODEL_4cf309e081a14292bf4d97c89608a6e3",
              "IPY_MODEL_fd0a13b9379a4074a9bbee1c2fdf0b83",
              "IPY_MODEL_d3b6e47e99214a50bf9ca3422802807b"
            ]
          }
        },
        "1cb825c31135471e860a41599e84069e": {
          "model_module": "@jupyter-widgets/base",
          "model_name": "LayoutModel",
          "model_module_version": "1.2.0",
          "state": {
            "_view_name": "LayoutView",
            "grid_template_rows": null,
            "right": null,
            "justify_content": null,
            "_view_module": "@jupyter-widgets/base",
            "overflow": null,
            "_model_module_version": "1.2.0",
            "_view_count": null,
            "flex_flow": null,
            "width": null,
            "min_width": null,
            "border": null,
            "align_items": null,
            "bottom": null,
            "_model_module": "@jupyter-widgets/base",
            "top": null,
            "grid_column": null,
            "overflow_y": null,
            "overflow_x": null,
            "grid_auto_flow": null,
            "grid_area": null,
            "grid_template_columns": null,
            "flex": null,
            "_model_name": "LayoutModel",
            "justify_items": null,
            "grid_row": null,
            "max_height": null,
            "align_content": null,
            "visibility": null,
            "align_self": null,
            "height": null,
            "min_height": null,
            "padding": null,
            "grid_auto_rows": null,
            "grid_gap": null,
            "max_width": null,
            "order": null,
            "_view_module_version": "1.2.0",
            "grid_template_areas": null,
            "object_position": null,
            "object_fit": null,
            "grid_auto_columns": null,
            "margin": null,
            "display": null,
            "left": null
          }
        },
        "4cf309e081a14292bf4d97c89608a6e3": {
          "model_module": "@jupyter-widgets/controls",
          "model_name": "HTMLModel",
          "model_module_version": "1.5.0",
          "state": {
            "_view_name": "HTMLView",
            "style": "IPY_MODEL_89b3d8c551c04ddc8eb8edb04d23da81",
            "_dom_classes": [],
            "description": "",
            "_model_name": "HTMLModel",
            "placeholder": "​",
            "_view_module": "@jupyter-widgets/controls",
            "_model_module_version": "1.5.0",
            "value": "Dl Completed...: 100%",
            "_view_count": null,
            "_view_module_version": "1.5.0",
            "description_tooltip": null,
            "_model_module": "@jupyter-widgets/controls",
            "layout": "IPY_MODEL_76e95711639f4f7bba93601f5c2f64df"
          }
        },
        "fd0a13b9379a4074a9bbee1c2fdf0b83": {
          "model_module": "@jupyter-widgets/controls",
          "model_name": "FloatProgressModel",
          "model_module_version": "1.5.0",
          "state": {
            "_view_name": "ProgressView",
            "style": "IPY_MODEL_259d06374c564025aa322febc7276c83",
            "_dom_classes": [],
            "description": "",
            "_model_name": "FloatProgressModel",
            "bar_style": "success",
            "max": 4,
            "_view_module": "@jupyter-widgets/controls",
            "_model_module_version": "1.5.0",
            "value": 4,
            "_view_count": null,
            "_view_module_version": "1.5.0",
            "orientation": "horizontal",
            "min": 0,
            "description_tooltip": null,
            "_model_module": "@jupyter-widgets/controls",
            "layout": "IPY_MODEL_15f69c7ea11b4825aeb15dbc225cbd0d"
          }
        },
        "d3b6e47e99214a50bf9ca3422802807b": {
          "model_module": "@jupyter-widgets/controls",
          "model_name": "HTMLModel",
          "model_module_version": "1.5.0",
          "state": {
            "_view_name": "HTMLView",
            "style": "IPY_MODEL_726c8925f2794617a3d7e57367fc6b5e",
            "_dom_classes": [],
            "description": "",
            "_model_name": "HTMLModel",
            "placeholder": "​",
            "_view_module": "@jupyter-widgets/controls",
            "_model_module_version": "1.5.0",
            "value": " 4/4 [00:00&lt;00:00,  5.24 file/s]",
            "_view_count": null,
            "_view_module_version": "1.5.0",
            "description_tooltip": null,
            "_model_module": "@jupyter-widgets/controls",
            "layout": "IPY_MODEL_4d0f4b206fa748c28a30ae4702057086"
          }
        },
        "89b3d8c551c04ddc8eb8edb04d23da81": {
          "model_module": "@jupyter-widgets/controls",
          "model_name": "DescriptionStyleModel",
          "model_module_version": "1.5.0",
          "state": {
            "_view_name": "StyleView",
            "_model_name": "DescriptionStyleModel",
            "description_width": "",
            "_view_module": "@jupyter-widgets/base",
            "_model_module_version": "1.5.0",
            "_view_count": null,
            "_view_module_version": "1.2.0",
            "_model_module": "@jupyter-widgets/controls"
          }
        },
        "76e95711639f4f7bba93601f5c2f64df": {
          "model_module": "@jupyter-widgets/base",
          "model_name": "LayoutModel",
          "model_module_version": "1.2.0",
          "state": {
            "_view_name": "LayoutView",
            "grid_template_rows": null,
            "right": null,
            "justify_content": null,
            "_view_module": "@jupyter-widgets/base",
            "overflow": null,
            "_model_module_version": "1.2.0",
            "_view_count": null,
            "flex_flow": null,
            "width": null,
            "min_width": null,
            "border": null,
            "align_items": null,
            "bottom": null,
            "_model_module": "@jupyter-widgets/base",
            "top": null,
            "grid_column": null,
            "overflow_y": null,
            "overflow_x": null,
            "grid_auto_flow": null,
            "grid_area": null,
            "grid_template_columns": null,
            "flex": null,
            "_model_name": "LayoutModel",
            "justify_items": null,
            "grid_row": null,
            "max_height": null,
            "align_content": null,
            "visibility": null,
            "align_self": null,
            "height": null,
            "min_height": null,
            "padding": null,
            "grid_auto_rows": null,
            "grid_gap": null,
            "max_width": null,
            "order": null,
            "_view_module_version": "1.2.0",
            "grid_template_areas": null,
            "object_position": null,
            "object_fit": null,
            "grid_auto_columns": null,
            "margin": null,
            "display": null,
            "left": null
          }
        },
        "259d06374c564025aa322febc7276c83": {
          "model_module": "@jupyter-widgets/controls",
          "model_name": "ProgressStyleModel",
          "model_module_version": "1.5.0",
          "state": {
            "_view_name": "StyleView",
            "_model_name": "ProgressStyleModel",
            "description_width": "",
            "_view_module": "@jupyter-widgets/base",
            "_model_module_version": "1.5.0",
            "_view_count": null,
            "_view_module_version": "1.2.0",
            "bar_color": null,
            "_model_module": "@jupyter-widgets/controls"
          }
        },
        "15f69c7ea11b4825aeb15dbc225cbd0d": {
          "model_module": "@jupyter-widgets/base",
          "model_name": "LayoutModel",
          "model_module_version": "1.2.0",
          "state": {
            "_view_name": "LayoutView",
            "grid_template_rows": null,
            "right": null,
            "justify_content": null,
            "_view_module": "@jupyter-widgets/base",
            "overflow": null,
            "_model_module_version": "1.2.0",
            "_view_count": null,
            "flex_flow": null,
            "width": null,
            "min_width": null,
            "border": null,
            "align_items": null,
            "bottom": null,
            "_model_module": "@jupyter-widgets/base",
            "top": null,
            "grid_column": null,
            "overflow_y": null,
            "overflow_x": null,
            "grid_auto_flow": null,
            "grid_area": null,
            "grid_template_columns": null,
            "flex": null,
            "_model_name": "LayoutModel",
            "justify_items": null,
            "grid_row": null,
            "max_height": null,
            "align_content": null,
            "visibility": null,
            "align_self": null,
            "height": null,
            "min_height": null,
            "padding": null,
            "grid_auto_rows": null,
            "grid_gap": null,
            "max_width": null,
            "order": null,
            "_view_module_version": "1.2.0",
            "grid_template_areas": null,
            "object_position": null,
            "object_fit": null,
            "grid_auto_columns": null,
            "margin": null,
            "display": null,
            "left": null
          }
        },
        "726c8925f2794617a3d7e57367fc6b5e": {
          "model_module": "@jupyter-widgets/controls",
          "model_name": "DescriptionStyleModel",
          "model_module_version": "1.5.0",
          "state": {
            "_view_name": "StyleView",
            "_model_name": "DescriptionStyleModel",
            "description_width": "",
            "_view_module": "@jupyter-widgets/base",
            "_model_module_version": "1.5.0",
            "_view_count": null,
            "_view_module_version": "1.2.0",
            "_model_module": "@jupyter-widgets/controls"
          }
        },
        "4d0f4b206fa748c28a30ae4702057086": {
          "model_module": "@jupyter-widgets/base",
          "model_name": "LayoutModel",
          "model_module_version": "1.2.0",
          "state": {
            "_view_name": "LayoutView",
            "grid_template_rows": null,
            "right": null,
            "justify_content": null,
            "_view_module": "@jupyter-widgets/base",
            "overflow": null,
            "_model_module_version": "1.2.0",
            "_view_count": null,
            "flex_flow": null,
            "width": null,
            "min_width": null,
            "border": null,
            "align_items": null,
            "bottom": null,
            "_model_module": "@jupyter-widgets/base",
            "top": null,
            "grid_column": null,
            "overflow_y": null,
            "overflow_x": null,
            "grid_auto_flow": null,
            "grid_area": null,
            "grid_template_columns": null,
            "flex": null,
            "_model_name": "LayoutModel",
            "justify_items": null,
            "grid_row": null,
            "max_height": null,
            "align_content": null,
            "visibility": null,
            "align_self": null,
            "height": null,
            "min_height": null,
            "padding": null,
            "grid_auto_rows": null,
            "grid_gap": null,
            "max_width": null,
            "order": null,
            "_view_module_version": "1.2.0",
            "grid_template_areas": null,
            "object_position": null,
            "object_fit": null,
            "grid_auto_columns": null,
            "margin": null,
            "display": null,
            "left": null
          }
        }
      }
    }
  },
  "cells": [
    {
      "cell_type": "markdown",
      "metadata": {
        "id": "view-in-github",
        "colab_type": "text"
      },
      "source": [
        "<a href=\"https://colab.research.google.com/github/pennya6/data_analysis/blob/master/%EB%B9%85%EB%8D%B0%EC%9D%B4%ED%84%B0%EB%B6%84%EC%84%9D/CNN.ipynb\" target=\"_parent\"><img src=\"https://colab.research.google.com/assets/colab-badge.svg\" alt=\"Open In Colab\"/></a>"
      ]
    },
    {
      "cell_type": "markdown",
      "metadata": {
        "id": "8WN2_KOd-mjG"
      },
      "source": [
        "MNIST 데이터 CNN"
      ]
    },
    {
      "cell_type": "code",
      "metadata": {
        "id": "FOEhJPsq-hog"
      },
      "source": [
        "import tensorflow_datasets as tfds\n",
        "import numpy as np\n",
        "import pandas as pd\n",
        "import tensorflow as tf"
      ],
      "execution_count": 2,
      "outputs": []
    },
    {
      "cell_type": "code",
      "metadata": {
        "colab": {
          "base_uri": "https://localhost:8080/",
          "height": 199,
          "referenced_widgets": [
            "d680a9d82d3047e7a2dfed4cd31d3dfb",
            "1cb825c31135471e860a41599e84069e",
            "4cf309e081a14292bf4d97c89608a6e3",
            "fd0a13b9379a4074a9bbee1c2fdf0b83",
            "d3b6e47e99214a50bf9ca3422802807b",
            "89b3d8c551c04ddc8eb8edb04d23da81",
            "76e95711639f4f7bba93601f5c2f64df",
            "259d06374c564025aa322febc7276c83",
            "15f69c7ea11b4825aeb15dbc225cbd0d",
            "726c8925f2794617a3d7e57367fc6b5e",
            "4d0f4b206fa748c28a30ae4702057086"
          ]
        },
        "id": "o5HfLrMm-lTJ",
        "outputId": "877ed442-d824-4958-be5c-9450bcd4d50c"
      },
      "source": [
        "mnist_builder=tfds.builder('mnist')\n",
        "mnist_builder.download_and_prepare()\n",
        "datasets=mnist_builder.as_dataset(shuffle_files=False)"
      ],
      "execution_count": 3,
      "outputs": [
        {
          "output_type": "stream",
          "name": "stdout",
          "text": [
            "\u001b[1mDownloading and preparing dataset mnist/3.0.1 (download: 11.06 MiB, generated: 21.00 MiB, total: 32.06 MiB) to /root/tensorflow_datasets/mnist/3.0.1...\u001b[0m\n"
          ]
        },
        {
          "output_type": "stream",
          "name": "stderr",
          "text": [
            "WARNING:absl:Dataset mnist is hosted on GCS. It will automatically be downloaded to your\n",
            "local data directory. If you'd instead prefer to read directly from our public\n",
            "GCS bucket (recommended if you're running on GCP), you can instead pass\n",
            "`try_gcs=True` to `tfds.load` or set `data_dir=gs://tfds-data/datasets`.\n",
            "\n"
          ]
        },
        {
          "output_type": "display_data",
          "data": {
            "application/vnd.jupyter.widget-view+json": {
              "model_id": "d680a9d82d3047e7a2dfed4cd31d3dfb",
              "version_minor": 0,
              "version_major": 2
            },
            "text/plain": [
              "Dl Completed...:   0%|          | 0/4 [00:00<?, ? file/s]"
            ]
          },
          "metadata": {}
        },
        {
          "output_type": "stream",
          "name": "stdout",
          "text": [
            "\n",
            "\u001b[1mDataset mnist downloaded and prepared to /root/tensorflow_datasets/mnist/3.0.1. Subsequent calls will reuse this data.\u001b[0m\n"
          ]
        }
      ]
    },
    {
      "cell_type": "code",
      "metadata": {
        "colab": {
          "base_uri": "https://localhost:8080/"
        },
        "id": "KFUttSM6-lVo",
        "outputId": "46feb08b-dd27-483a-b142-0a694a053df5"
      },
      "source": [
        "datasets"
      ],
      "execution_count": 4,
      "outputs": [
        {
          "output_type": "execute_result",
          "data": {
            "text/plain": [
              "{'test': <PrefetchDataset shapes: {image: (28, 28, 1), label: ()}, types: {image: tf.uint8, label: tf.int64}>,\n",
              " 'train': <PrefetchDataset shapes: {image: (28, 28, 1), label: ()}, types: {image: tf.uint8, label: tf.int64}>}"
            ]
          },
          "metadata": {},
          "execution_count": 4
        }
      ]
    },
    {
      "cell_type": "code",
      "metadata": {
        "id": "MQnP_cgF-lYr"
      },
      "source": [
        "#딕셔너리에 있는 밸류값 뽑아서 만들어주기\n",
        "# test key의 value를 뽑아서 test 데이터로 변경\n",
        "mnist_train_orig=datasets['train']\n",
        "mnist_test_orig=datasets['test']"
      ],
      "execution_count": 6,
      "outputs": []
    },
    {
      "cell_type": "code",
      "metadata": {
        "colab": {
          "base_uri": "https://localhost:8080/"
        },
        "id": "5ffp-Yj0-lbW",
        "outputId": "295d4194-4c35-4874-ec20-84589f033f7a"
      },
      "source": [
        "mnist_test_orig"
      ],
      "execution_count": 7,
      "outputs": [
        {
          "output_type": "execute_result",
          "data": {
            "text/plain": [
              "<PrefetchDataset shapes: {image: (28, 28, 1), label: ()}, types: {image: tf.uint8, label: tf.int64}>"
            ]
          },
          "metadata": {},
          "execution_count": 7
        }
      ]
    },
    {
      "cell_type": "code",
      "metadata": {
        "id": "ch18zTgFFiOA"
      },
      "source": [
        "#데이터셋 표준화\n",
        "# 텐서플로우는 타입에 예민하기 때문에 cast이후 나눠주기\n",
        "mnist_train=mnist_train_orig.map(lambda item : (tf.cast(item['image'],tf.float32)/255.0,tf.cast(item['label'],tf.int32)))\n",
        "mnist_test=mnist_test_orig.map(lambda item : (tf.cast(item['image'],tf.float32)/255.0,tf.cast(item['label'],tf.int32)))"
      ],
      "execution_count": 8,
      "outputs": []
    },
    {
      "cell_type": "code",
      "metadata": {
        "id": "gJHYP4p9FjGC"
      },
      "source": [
        "BUFFER_SIZE=10000\n",
        "BATCH_SIZE=64\n",
        "tf.random.set_seed(1)\n",
        "mnist_train=mnist_train.shuffle(buffer_size=BUFFER_SIZE,reshuffle_each_iteration=False)\n",
        "mnist_valid=mnist_train.take(10000).batch(BATCH_SIZE)\n",
        "mnist_train=mnist_train.skip(10000).batch(BATCH_SIZE)"
      ],
      "execution_count": 9,
      "outputs": []
    },
    {
      "cell_type": "code",
      "metadata": {
        "id": "sxhugPIJFjIl"
      },
      "source": [
        "cnn=tf.keras.Sequential()\n",
        "#padding='same'은 28*28 비율을 입력층과 동일하게 하겠다. strides는 1, 필터는 32개, 필터의 크기는 5*5\n",
        "cnn.add(tf.keras.layers.Conv2D(filters=32,kernel_size=(5,5),strides=(1,1),padding='same',data_format='channels_last',name='conv_1',activation='relu'))\n",
        "cnn.add(tf.keras.layers.MaxPool2D(pool_size=(2,2),name='pool_1'))\n",
        "cnn.add(tf.keras.layers.Conv2D(filters=64,kernel_size=(5,5),strides=(1,1),padding='same',name='conv_2',activation='relu'))\n",
        "cnn.add(tf.keras.layers.MaxPool2D(pool_size=(2,2),name='pool_2'))\n",
        "\n",
        "cnn.add(tf.keras.layers.Flatten()) #MLP처럼 펼쳐주는 작업, 입력층과 비슷한 느낌\n",
        "cnn.add(tf.keras.layers.Dense(units=1024,name='fc_1',activation='relu')) #은닉층 유닛수는 1024\n",
        "cnn.add(tf.keras.layers.Dropout(rate=0.5)) #드롭아웃 0.5의 확률로 랜덤하게 사용함\n",
        "cnn.add(tf.keras.layers.Dense(units=10,name='fc_2',activation='softmax')) #출력층 다진분류이기 때문에 softmax사용"
      ],
      "execution_count": 10,
      "outputs": []
    },
    {
      "cell_type": "code",
      "metadata": {
        "id": "wsSRgoWlJXfx"
      },
      "source": [
        "cnn.build(input_shape=(None,28,28,1))"
      ],
      "execution_count": 14,
      "outputs": []
    },
    {
      "cell_type": "code",
      "metadata": {
        "colab": {
          "base_uri": "https://localhost:8080/"
        },
        "id": "9WxSb3_4FjLj",
        "outputId": "ca03acff-ccab-47c0-b639-4100670c502a"
      },
      "source": [
        "cnn.summary()"
      ],
      "execution_count": 15,
      "outputs": [
        {
          "output_type": "stream",
          "name": "stdout",
          "text": [
            "Model: \"sequential\"\n",
            "_________________________________________________________________\n",
            " Layer (type)                Output Shape              Param #   \n",
            "=================================================================\n",
            " conv_1 (Conv2D)             (None, 28, 28, 32)        832       \n",
            "                                                                 \n",
            " pool_1 (MaxPooling2D)       (None, 14, 14, 32)        0         \n",
            "                                                                 \n",
            " conv_2 (Conv2D)             (None, 14, 14, 64)        51264     \n",
            "                                                                 \n",
            " pool_2 (MaxPooling2D)       (None, 7, 7, 64)          0         \n",
            "                                                                 \n",
            " flatten (Flatten)           (None, 3136)              0         \n",
            "                                                                 \n",
            " fc_1 (Dense)                (None, 1024)              3212288   \n",
            "                                                                 \n",
            " dropout (Dropout)           (None, 1024)              0         \n",
            "                                                                 \n",
            " fc_2 (Dense)                (None, 10)                10250     \n",
            "                                                                 \n",
            "=================================================================\n",
            "Total params: 3,274,634\n",
            "Trainable params: 3,274,634\n",
            "Non-trainable params: 0\n",
            "_________________________________________________________________\n"
          ]
        }
      ]
    },
    {
      "cell_type": "code",
      "metadata": {
        "colab": {
          "base_uri": "https://localhost:8080/"
        },
        "id": "xK-QIZDqJJPA",
        "outputId": "52d2bc07-c171-4bd3-8930-2184de035442"
      },
      "source": [
        "cnn.compile(optimizer=tf.keras.optimizers.Adam(),\n",
        "            loss=tf.keras.losses.SparseCategoricalCrossentropy(),\n",
        "            metrics=['accuracy'])\n",
        "NUM_EPOCHS=20\n",
        "history=cnn.fit(mnist_train,epochs=NUM_EPOCHS,\n",
        "                validation_data=mnist_valid,shuffle=True)"
      ],
      "execution_count": 18,
      "outputs": [
        {
          "output_type": "stream",
          "name": "stdout",
          "text": [
            "Epoch 1/20\n",
            "782/782 [==============================] - 160s 201ms/step - loss: 0.1395 - accuracy: 0.9564 - val_loss: 0.0484 - val_accuracy: 0.9846\n",
            "Epoch 2/20\n",
            "782/782 [==============================] - 153s 195ms/step - loss: 0.0456 - accuracy: 0.9860 - val_loss: 0.0427 - val_accuracy: 0.9873\n",
            "Epoch 3/20\n",
            "782/782 [==============================] - 152s 194ms/step - loss: 0.0304 - accuracy: 0.9903 - val_loss: 0.0351 - val_accuracy: 0.9889\n",
            "Epoch 4/20\n",
            "782/782 [==============================] - 153s 195ms/step - loss: 0.0220 - accuracy: 0.9933 - val_loss: 0.0402 - val_accuracy: 0.9887\n",
            "Epoch 5/20\n",
            "782/782 [==============================] - 153s 195ms/step - loss: 0.0172 - accuracy: 0.9946 - val_loss: 0.0442 - val_accuracy: 0.9885\n",
            "Epoch 6/20\n",
            "782/782 [==============================] - 153s 194ms/step - loss: 0.0169 - accuracy: 0.9949 - val_loss: 0.0404 - val_accuracy: 0.9893\n",
            "Epoch 7/20\n",
            "782/782 [==============================] - 153s 194ms/step - loss: 0.0129 - accuracy: 0.9960 - val_loss: 0.0387 - val_accuracy: 0.9913\n",
            "Epoch 8/20\n",
            "782/782 [==============================] - 153s 195ms/step - loss: 0.0097 - accuracy: 0.9971 - val_loss: 0.0401 - val_accuracy: 0.9911\n",
            "Epoch 9/20\n",
            "782/782 [==============================] - 153s 194ms/step - loss: 0.0117 - accuracy: 0.9961 - val_loss: 0.0433 - val_accuracy: 0.9902\n",
            "Epoch 10/20\n",
            "782/782 [==============================] - 153s 195ms/step - loss: 0.0084 - accuracy: 0.9971 - val_loss: 0.0530 - val_accuracy: 0.9894\n",
            "Epoch 11/20\n",
            "782/782 [==============================] - 153s 195ms/step - loss: 0.0093 - accuracy: 0.9971 - val_loss: 0.0488 - val_accuracy: 0.9902\n",
            "Epoch 12/20\n",
            "782/782 [==============================] - 153s 195ms/step - loss: 0.0064 - accuracy: 0.9979 - val_loss: 0.0522 - val_accuracy: 0.9903\n",
            "Epoch 13/20\n",
            "782/782 [==============================] - 153s 194ms/step - loss: 0.0062 - accuracy: 0.9979 - val_loss: 0.0594 - val_accuracy: 0.9889\n",
            "Epoch 14/20\n",
            "782/782 [==============================] - 153s 194ms/step - loss: 0.0070 - accuracy: 0.9979 - val_loss: 0.0540 - val_accuracy: 0.9902\n",
            "Epoch 15/20\n",
            "782/782 [==============================] - 154s 196ms/step - loss: 0.0069 - accuracy: 0.9979 - val_loss: 0.0588 - val_accuracy: 0.9901\n",
            "Epoch 16/20\n",
            "782/782 [==============================] - 152s 194ms/step - loss: 0.0078 - accuracy: 0.9977 - val_loss: 0.0649 - val_accuracy: 0.9874\n",
            "Epoch 17/20\n",
            "782/782 [==============================] - 153s 195ms/step - loss: 0.0073 - accuracy: 0.9978 - val_loss: 0.0695 - val_accuracy: 0.9889\n",
            "Epoch 18/20\n",
            "782/782 [==============================] - 154s 196ms/step - loss: 0.0060 - accuracy: 0.9983 - val_loss: 0.0616 - val_accuracy: 0.9909\n",
            "Epoch 19/20\n",
            "782/782 [==============================] - 154s 196ms/step - loss: 0.0064 - accuracy: 0.9982 - val_loss: 0.0657 - val_accuracy: 0.9910\n",
            "Epoch 20/20\n",
            "782/782 [==============================] - ETA: 0s - loss: 0.0043 - accuracy: 0.9989"
          ]
        }
      ]
    },
    {
      "cell_type": "code",
      "metadata": {
        "colab": {
          "base_uri": "https://localhost:8080/"
        },
        "id": "1DxjiG2NJ-UG",
        "outputId": "8bbbb562-91ba-480c-dbb1-e140ca5d8705"
      },
      "source": [
        "cnn.evaluate(mnist_test.batch(20))"
      ],
      "execution_count": 19,
      "outputs": [
        {
          "output_type": "stream",
          "name": "stdout",
          "text": [
            "500/500 [==============================] - 11s 21ms/step - loss: 0.0429 - accuracy: 0.9928\n"
          ]
        },
        {
          "output_type": "execute_result",
          "data": {
            "text/plain": [
              "[0.042916372418403625, 0.9927999973297119]"
            ]
          },
          "metadata": {},
          "execution_count": 19
        }
      ]
    }
  ]
}