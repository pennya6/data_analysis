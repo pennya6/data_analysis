{
 "cells": [
  {
   "cell_type": "markdown",
   "id": "f881f3d8",
   "metadata": {},
   "source": [
    "# 2021-09-27 실습"
   ]
  },
  {
   "cell_type": "code",
   "execution_count": 27,
   "id": "78101ab1",
   "metadata": {},
   "outputs": [],
   "source": [
    "import math\n",
    "class Circle:\n",
    "    def __init__(self,r):\n",
    "        self.radius=r #public\n",
    "        \n",
    "    def get_radius(self):\n",
    "        return self.radius\n",
    "    \n",
    "    def getArea(self):\n",
    "        return self.radius**2*math.pi\n",
    "    \n",
    "    def __le__(self,other):\n",
    "        return self.radius<=other.radius"
   ]
  },
  {
   "cell_type": "code",
   "execution_count": 28,
   "id": "e3bf3ad4",
   "metadata": {},
   "outputs": [
    {
     "data": {
      "text/plain": [
       "5.0"
      ]
     },
     "execution_count": 28,
     "metadata": {},
     "output_type": "execute_result"
    }
   ],
   "source": [
    "my_circle=Circle(5.)\n",
    "my_circle.radius\n",
    "my_circle.get_radius()"
   ]
  },
  {
   "cell_type": "code",
   "execution_count": 29,
   "id": "3c54174a",
   "metadata": {},
   "outputs": [
    {
     "data": {
      "text/plain": [
       "78.53981633974483"
      ]
     },
     "execution_count": 29,
     "metadata": {},
     "output_type": "execute_result"
    }
   ],
   "source": [
    "my_circle.getArea()"
   ]
  },
  {
   "cell_type": "code",
   "execution_count": 30,
   "id": "0363d2bb",
   "metadata": {},
   "outputs": [],
   "source": [
    "c1=Circle(5.2)\n",
    "c2=Circle(2.0)"
   ]
  },
  {
   "cell_type": "code",
   "execution_count": 31,
   "id": "7cabcf86",
   "metadata": {},
   "outputs": [
    {
     "data": {
      "text/plain": [
       "False"
      ]
     },
     "execution_count": 31,
     "metadata": {},
     "output_type": "execute_result"
    }
   ],
   "source": [
    "c1<=c2"
   ]
  },
  {
   "cell_type": "code",
   "execution_count": 33,
   "id": "85aa5239",
   "metadata": {},
   "outputs": [
    {
     "data": {
      "text/plain": [
       "False"
      ]
     },
     "execution_count": 33,
     "metadata": {},
     "output_type": "execute_result"
    }
   ],
   "source": [
    "c1.__le__(c2)"
   ]
  },
  {
   "cell_type": "code",
   "execution_count": 34,
   "id": "602f39ee",
   "metadata": {},
   "outputs": [],
   "source": [
    "import numpy as np"
   ]
  },
  {
   "cell_type": "code",
   "execution_count": 38,
   "id": "af402368",
   "metadata": {},
   "outputs": [],
   "source": [
    "a=np.array([1,2,3])"
   ]
  },
  {
   "cell_type": "code",
   "execution_count": 39,
   "id": "4298e5ca",
   "metadata": {},
   "outputs": [
    {
     "data": {
      "text/plain": [
       "array([1, 2, 3])"
      ]
     },
     "execution_count": 39,
     "metadata": {},
     "output_type": "execute_result"
    }
   ],
   "source": [
    "a"
   ]
  },
  {
   "cell_type": "code",
   "execution_count": 40,
   "id": "5aae6924",
   "metadata": {},
   "outputs": [
    {
     "data": {
      "text/plain": [
       "numpy.ndarray"
      ]
     },
     "execution_count": 40,
     "metadata": {},
     "output_type": "execute_result"
    }
   ],
   "source": [
    "type(a)"
   ]
  },
  {
   "cell_type": "code",
   "execution_count": 42,
   "id": "a4407751",
   "metadata": {},
   "outputs": [
    {
     "data": {
      "text/plain": [
       "1"
      ]
     },
     "execution_count": 42,
     "metadata": {},
     "output_type": "execute_result"
    }
   ],
   "source": [
    "#몇 차원인가?\n",
    "a.ndim"
   ]
  },
  {
   "cell_type": "code",
   "execution_count": 43,
   "id": "3ddb72ca",
   "metadata": {},
   "outputs": [
    {
     "data": {
      "text/plain": [
       "dtype('int32')"
      ]
     },
     "execution_count": 43,
     "metadata": {},
     "output_type": "execute_result"
    }
   ],
   "source": [
    "a.dtype"
   ]
  },
  {
   "cell_type": "code",
   "execution_count": 44,
   "id": "2a1ad0cf",
   "metadata": {},
   "outputs": [
    {
     "data": {
      "text/plain": [
       "(3,)"
      ]
     },
     "execution_count": 44,
     "metadata": {},
     "output_type": "execute_result"
    }
   ],
   "source": [
    "a.shape"
   ]
  },
  {
   "cell_type": "code",
   "execution_count": null,
   "id": "3849ce6b",
   "metadata": {},
   "outputs": [],
   "source": []
  },
  {
   "cell_type": "code",
   "execution_count": null,
   "id": "40594d6c",
   "metadata": {},
   "outputs": [],
   "source": []
  },
  {
   "cell_type": "code",
   "execution_count": null,
   "id": "f317c0df",
   "metadata": {},
   "outputs": [],
   "source": []
  },
  {
   "cell_type": "code",
   "execution_count": null,
   "id": "6c8f56f3",
   "metadata": {},
   "outputs": [],
   "source": []
  }
 ],
 "metadata": {
  "kernelspec": {
   "display_name": "Python 3 (ipykernel)",
   "language": "python",
   "name": "python3"
  },
  "language_info": {
   "codemirror_mode": {
    "name": "ipython",
    "version": 3
   },
   "file_extension": ".py",
   "mimetype": "text/x-python",
   "name": "python",
   "nbconvert_exporter": "python",
   "pygments_lexer": "ipython3",
   "version": "3.8.8"
  }
 },
 "nbformat": 4,
 "nbformat_minor": 5
}
