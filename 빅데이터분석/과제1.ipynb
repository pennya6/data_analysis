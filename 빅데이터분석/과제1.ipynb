{
 "cells": [
  {
   "cell_type": "markdown",
   "id": "0ac6bac1",
   "metadata": {},
   "source": [
    "# 과제 #1 : python  \n",
    "### 작성자 : 김시연\n",
    "### 학과 : 컴퓨터공학부\n",
    "### 학번 : 201958008"
   ]
  },
  {
   "cell_type": "markdown",
   "id": "e47e3c2b",
   "metadata": {},
   "source": [
    "#### [1] 2개의 원소를 갖는 튜플 리스트 -> 두개의 리스트로 반환하는 unzip함수 작성\n"
   ]
  },
  {
   "cell_type": "code",
   "execution_count": 1,
   "id": "429d6c14",
   "metadata": {},
   "outputs": [],
   "source": [
    "data =[(3,6),(2.1,5),(9.3,10),(4,2),(-2,7)]"
   ]
  },
  {
   "cell_type": "code",
   "execution_count": 2,
   "id": "7329ee5a",
   "metadata": {},
   "outputs": [],
   "source": [
    "x,y=zip(*data)"
   ]
  },
  {
   "cell_type": "code",
   "execution_count": 3,
   "id": "368a4882",
   "metadata": {},
   "outputs": [
    {
     "data": {
      "text/plain": [
       "(3, 2.1, 9.3, 4, -2)"
      ]
     },
     "execution_count": 3,
     "metadata": {},
     "output_type": "execute_result"
    }
   ],
   "source": [
    "x"
   ]
  },
  {
   "cell_type": "code",
   "execution_count": 4,
   "id": "01ead38b",
   "metadata": {},
   "outputs": [
    {
     "data": {
      "text/plain": [
       "(6, 5, 10, 2, 7)"
      ]
     },
     "execution_count": 4,
     "metadata": {},
     "output_type": "execute_result"
    }
   ],
   "source": [
    "y"
   ]
  },
  {
   "cell_type": "markdown",
   "id": "4bb8e09f",
   "metadata": {},
   "source": [
    "#### [2] 파일을 읽어 각 키워드의 빈도수를 기준으로 정렬하는 keyword_count함수, mystery.py파일 결과 출력"
   ]
  },
  {
   "cell_type": "code",
   "execution_count": 136,
   "id": "305bf3de",
   "metadata": {},
   "outputs": [],
   "source": [
    "def keyword_count(path):\n",
    "    #파일 불러오기\n",
    "    file =open(path,'r')\n",
    "    lines=file.read()\n",
    "    file.close()\n",
    "    #파일내용중 :을 빈칸으로 대체\n",
    "    lines=lines.replace(\":\",\" \")\n",
    "    lines=lines.replace(\"'\",\" \")\n",
    "    lines=lines.replace('\"',\"\")\n",
    "    lines_list=lines.split()\n",
    "    #키워드 셋으로 저장\n",
    "    keyword_list=set(keyword.kwlist)\n",
    "    #키워드별 빈도수 저장 딕셔너리 생성\n",
    "    keyword_dict={}\n",
    "    \n",
    "    #불러온 파일안에 키워드가 있는지 확인하는 반복문\n",
    "    for i in lines_list: \n",
    "        if i in (keyword_list):\n",
    "            if keyword_dict.get(i)==None:\n",
    "                keyword_dict[i]=1\n",
    "            else:\n",
    "                keyword_dict[i]+=1\n",
    "            \n",
    "    key_x_list=list(keyword_dict.keys()) #key값 리스트로 분리\n",
    "    key_y_list=list(keyword_dict.values()) #밸류값 리스트로 분리\n",
    "    zip_list=zip(key_x_list,key_y_list) #분리한 리스트들 zip함수로 하나의 리스트로 합치기\n",
    "    zip_list=list(zip_list) #list형식으로 바꾸기\n",
    "    sorted_zip_list=sorted(zip_list,key=lambda x:x[1],reverse=True) #역순으로 count된 값에 맞게 정렬\n",
    "    return sorted_zip_list"
   ]
  },
  {
   "cell_type": "code",
   "execution_count": 137,
   "id": "a52727d5",
   "metadata": {},
   "outputs": [
    {
     "name": "stdout",
     "output_type": "stream",
     "text": [
      "[('def', 36), ('return', 18), ('in', 16), ('if', 13), ('for', 10), ('from', 7), ('import', 6), ('as', 6), ('class', 6), ('and', 6), ('not', 6), ('raise', 5), ('is', 5), ('True', 4), ('with', 4), ('else', 3), ('None', 3), ('try', 2), ('except', 2), ('assert', 1), ('yield', 1), ('del', 1)]\n"
     ]
    }
   ],
   "source": [
    "print(keyword_count('mystery.py'))"
   ]
  },
  {
   "cell_type": "markdown",
   "id": "b86388b0",
   "metadata": {},
   "source": [
    "#### [3] 클래스 RegularPolygon 구현\n",
    "##### 데이터 필드 : 변의 개수(3),변의 길이(1)\n",
    "##### getIntAngle -> 내각 반환 / getPerimeter - > 둘레 반환 / getArea -> 면적 반환"
   ]
  },
  {
   "cell_type": "markdown",
   "id": "719a835e",
   "metadata": {},
   "source": [
    "##### (a) RegularPolygon(6,3) 변의 개수와 길이, 내각의 크기, 둘레, 넓이 "
   ]
  },
  {
   "cell_type": "code",
   "execution_count": 174,
   "id": "f01571d6",
   "metadata": {},
   "outputs": [],
   "source": [
    "import math"
   ]
  },
  {
   "cell_type": "code",
   "execution_count": 178,
   "id": "0b801021",
   "metadata": {},
   "outputs": [],
   "source": [
    "class RegularPolygon:\n",
    "    \"\"\"\n",
    "    정다각형(등변 & 등각)\n",
    "    \n",
    "    파라미터\n",
    "    --------\n",
    "    n: int, default:3\n",
    "       변의 개수\n",
    "    s: float, default:1.0\n",
    "       변의 길이\n",
    "    \"\"\"\n",
    "    def  __init__(self,n=3,s=1.0):\n",
    "        self.n=n\n",
    "        self.s=s\n",
    "    def getter_n(self):\n",
    "        return self.n\n",
    "    def getter_s(self):\n",
    "        return self.s\n",
    "    def setter_n(self,n_n):\n",
    "        self.n=n_n\n",
    "    def setter_s(self,n_s):\n",
    "        self.s=n_s\n",
    "        \n",
    "    #내각반환 메소드\n",
    "    def getIntAngle(self):\n",
    "        return 180*(self.n-2)/self.n\n",
    "    \n",
    "    #둘레반환 메소드\n",
    "    def getPerimeter(self):\n",
    "        return self.n*self.s\n",
    "        \n",
    "    #면적반환 메소드\n",
    "    def getArea(self):\n",
    "        return (self.n*self.s**2)/(4*math.tan(math.pi/self.n))\n"
   ]
  },
  {
   "cell_type": "code",
   "execution_count": 139,
   "id": "48d9be26",
   "metadata": {},
   "outputs": [],
   "source": [
    "RegularPolygon?"
   ]
  },
  {
   "cell_type": "code",
   "execution_count": 179,
   "id": "92b4c563",
   "metadata": {},
   "outputs": [],
   "source": [
    "#객체 생성\n",
    "a=RegularPolygon(6,3)"
   ]
  },
  {
   "cell_type": "code",
   "execution_count": 181,
   "id": "0516233f",
   "metadata": {},
   "outputs": [
    {
     "name": "stdout",
     "output_type": "stream",
     "text": [
      "변의개수= 6\n",
      "변의길이= 3\n",
      "내각= 120.0 도\n",
      "둘레= 18\n",
      "면적= 23.382685902179844\n"
     ]
    }
   ],
   "source": [
    "print(\"변의개수=\",a.getter_n())\n",
    "print(\"변의길이=\",a.getter_s())\n",
    "print(\"내각=\",a.getIntAngle(),\"도\")\n",
    "print(\"둘레=\",a.getPerimeter())\n",
    "print(\"면적=\",a.getArea())"
   ]
  },
  {
   "cell_type": "markdown",
   "id": "154c8147",
   "metadata": {},
   "source": [
    "##### (b) RegularPolygon(4)객체에 대하여 위와 동일한 출력을 하시오."
   ]
  },
  {
   "cell_type": "code",
   "execution_count": 182,
   "id": "35b6968a",
   "metadata": {},
   "outputs": [],
   "source": [
    "#객체 생성\n",
    "b=RegularPolygon(4)"
   ]
  },
  {
   "cell_type": "code",
   "execution_count": 183,
   "id": "d1351a19",
   "metadata": {},
   "outputs": [
    {
     "name": "stdout",
     "output_type": "stream",
     "text": [
      "변의개수= 4\n",
      "변의길이= 1.0\n",
      "내각= 90.0 도\n",
      "둘레= 4.0\n",
      "면적= 1.0000000000000002\n"
     ]
    }
   ],
   "source": [
    "print(\"변의개수=\",b.getter_n())\n",
    "print(\"변의길이=\",b.getter_s())\n",
    "print(\"내각=\",b.getIntAngle(),\"도\")\n",
    "print(\"둘레=\",b.getPerimeter())\n",
    "print(\"면적=\",b.getArea())"
   ]
  },
  {
   "cell_type": "markdown",
   "id": "d93d1672",
   "metadata": {},
   "source": [
    "##### (c) RegularPolygon()객체를 생성한후 변의 길이를 5로 지정하고 동일한 출력을 하시오"
   ]
  },
  {
   "cell_type": "code",
   "execution_count": 184,
   "id": "c2d6f7ed",
   "metadata": {},
   "outputs": [],
   "source": [
    "#객체 생성\n",
    "c=RegularPolygon()"
   ]
  },
  {
   "cell_type": "code",
   "execution_count": 185,
   "id": "9dfa4210",
   "metadata": {},
   "outputs": [],
   "source": [
    "c.setter_s(5)"
   ]
  },
  {
   "cell_type": "code",
   "execution_count": 186,
   "id": "c55e7ade",
   "metadata": {},
   "outputs": [
    {
     "name": "stdout",
     "output_type": "stream",
     "text": [
      "변의개수= 3\n",
      "변의길이= 5\n",
      "내각= 60.0 도\n",
      "둘레= 15\n",
      "면적= 10.825317547305486\n"
     ]
    }
   ],
   "source": [
    "print(\"변의개수=\",c.getter_n())\n",
    "print(\"변의길이=\",c.getter_s())\n",
    "print(\"내각=\",c.getIntAngle(),\"도\")\n",
    "print(\"둘레=\",c.getPerimeter())\n",
    "print(\"면적=\",c.getArea())"
   ]
  }
 ],
 "metadata": {
  "kernelspec": {
   "display_name": "Python 3 (ipykernel)",
   "language": "python",
   "name": "python3"
  },
  "language_info": {
   "codemirror_mode": {
    "name": "ipython",
    "version": 3
   },
   "file_extension": ".py",
   "mimetype": "text/x-python",
   "name": "python",
   "nbconvert_exporter": "python",
   "pygments_lexer": "ipython3",
   "version": "3.8.8"
  }
 },
 "nbformat": 4,
 "nbformat_minor": 5
}
