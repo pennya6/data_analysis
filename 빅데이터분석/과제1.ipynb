{
 "cells": [
  {
   "cell_type": "markdown",
   "id": "0ac6bac1",
   "metadata": {},
   "source": [
    "# 과제 #1 : python  \n",
    "### 작성자 : 김시연\n",
    "### 학과 : 컴퓨터공학부\n",
    "### 학번 : 201958008"
   ]
  },
  {
   "cell_type": "markdown",
   "id": "e47e3c2b",
   "metadata": {},
   "source": [
    "#### [1] 2개의 원소를 갖는 튜플 리스트 -> 두개의 리스트로 반환하는 unzip함수 작성\n"
   ]
  },
  {
   "cell_type": "code",
   "execution_count": 1,
   "id": "429d6c14",
   "metadata": {},
   "outputs": [],
   "source": [
    "data =[(3,6),(2.1,5),(9.3,10),(4,2),(-2,7)]"
   ]
  },
  {
   "cell_type": "code",
   "execution_count": 2,
   "id": "7329ee5a",
   "metadata": {},
   "outputs": [],
   "source": [
    "x,y=zip(*data)"
   ]
  },
  {
   "cell_type": "code",
   "execution_count": 3,
   "id": "368a4882",
   "metadata": {},
   "outputs": [
    {
     "data": {
      "text/plain": [
       "(3, 2.1, 9.3, 4, -2)"
      ]
     },
     "execution_count": 3,
     "metadata": {},
     "output_type": "execute_result"
    }
   ],
   "source": [
    "x"
   ]
  },
  {
   "cell_type": "code",
   "execution_count": 4,
   "id": "01ead38b",
   "metadata": {},
   "outputs": [
    {
     "data": {
      "text/plain": [
       "(6, 5, 10, 2, 7)"
      ]
     },
     "execution_count": 4,
     "metadata": {},
     "output_type": "execute_result"
    }
   ],
   "source": [
    "y"
   ]
  },
  {
   "cell_type": "markdown",
   "id": "4bb8e09f",
   "metadata": {},
   "source": [
    "#### [2] 파일을 읽어 각 키워드의 빈도수를 기준으로 정렬하는 keyword_count함수, mystery.py파일 결과 출력"
   ]
  },
  {
   "cell_type": "code",
   "execution_count": 32,
   "id": "d21884b0",
   "metadata": {},
   "outputs": [],
   "source": [
    "#파일 불러오기\n",
    "file =open('mystery.py','r')\n",
    "lines=file.read()\n",
    "file.close()"
   ]
  },
  {
   "cell_type": "code",
   "execution_count": 39,
   "id": "d2059c38",
   "metadata": {
    "scrolled": true
   },
   "outputs": [],
   "source": [
    "#파일내용중 :을 빈칸으로 대체\n",
    "lines=lines.replace(\":\",\" \")"
   ]
  },
  {
   "cell_type": "code",
   "execution_count": 40,
   "id": "8c1ff5a1",
   "metadata": {
    "scrolled": true
   },
   "outputs": [
    {
     "data": {
      "text/plain": [
       "'\"\"\"Sorted collections recipes implementations.\\n\\n\"\"\"\\n\\nfrom copy import deepcopy\\nfrom itertools import count\\nfrom sortedcontainers import SortedKeyList, SortedDict, SortedSet\\nfrom sortedcontainers.sortedlist import recursive_repr\\n\\n###############################################################################\\n# BEGIN Python 2/3 Shims\\n###############################################################################\\n\\ntry \\n    from collections import abc\\nexcept ImportError \\n    import collections as abc\\n\\n###############################################################################\\n# END Python 2/3 Shims\\n###############################################################################\\n\\n\\nclass IndexableDict(SortedDict) \\n    \"\"\"Dictionary that supports numerical indexing.\\n\\n    Keys are numerically indexable using dict views. For example  \\n\\n        >>> indexable_dict = IndexableDict.fromkeys(\\'abcde\\')\\n        >>> keys = indexable_dict.keys()\\n        >>> sorted(keys[ ]) == [\\'a\\', \\'b\\', \\'c\\', \\'d\\', \\'e\\']\\n        True\\n\\n    The dict views support the sequence abstract base class.\\n\\n    \"\"\"\\n    def __init__(self, *args, **kwargs) \\n        super(IndexableDict, self).__init__(hash, *args, **kwargs)\\n\\n\\nclass IndexableSet(SortedSet) \\n    \"\"\"Set that supports numerical indexing.\\n\\n    Values are numerically indexable. For example  \\n\\n        >>> indexable_set = IndexableSet(\\'abcde\\')\\n        >>> sorted(indexable_set[ ]) == [\\'a\\', \\'b\\', \\'c\\', \\'d\\', \\'e\\']\\n        True\\n\\n    `IndexableSet` implements the sequence abstract base class.\\n\\n    \"\"\"\\n    # pylint  disable=too-many-ancestors\\n    def __init__(self, *args, **kwargs) \\n        super(IndexableSet, self).__init__(*args, key=hash, **kwargs)\\n\\n\\nclass ItemSortedDict(SortedDict) \\n    \"\"\"Sorted dictionary with key-function support for item pairs.\\n\\n    Requires key function callable specified as the first argument. The\\n    callable must accept two arguments, key and value, and return a value used\\n    to determine the sort order. For example  \\n\\n        def multiply(key, value) \\n            return key * value\\n        mapping = ItemSortedDict(multiply, [(3, 2), (4, 1), (2, 5)])\\n        list(mapping) == [4, 3, 2]\\n\\n    Above, the key/value item pairs are ordered by ``key * value`` according to\\n    the callable given as the first argument.\\n\\n    \"\"\"\\n    def __init__(self, *args, **kwargs) \\n        assert args and callable(args[0])\\n        args = list(args)\\n        func = self._func = args[0]\\n        def key_func(key) \\n            \"Apply key function to (key, value) item pair.\"\\n            return func(key, self[key])\\n        args[0] = key_func\\n        super(ItemSortedDict, self).__init__(*args, **kwargs)\\n\\n    def __delitem__(self, key) \\n        \"``del mapping[key]``\"\\n        if key not in self \\n            raise KeyError(key)\\n        self._list_remove(key)\\n        dict.__delitem__(self, key)\\n\\n    def __setitem__(self, key, value) \\n        \"``mapping[key] = value``\"\\n        if key in self \\n            self._list_remove(key)\\n            dict.__delitem__(self, key)\\n        dict.__setitem__(self, key, value)\\n        self._list_add(key)\\n\\n    _setitem = __setitem__\\n\\n    def copy(self) \\n        \"Return shallow copy of the mapping.\"\\n        return self.__class__(self._func, iter(self.items()))\\n\\n    __copy__ = copy\\n\\n    def __deepcopy__(self, memo) \\n        items = (deepcopy(item, memo) for item in self.items())\\n        return self.__class__(self._func, items)\\n\\n\\nclass ValueSortedDict(SortedDict) \\n    \"\"\"Sorted dictionary that maintains (key, value) item pairs sorted by value.\\n\\n    - ``ValueSortedDict()`` -> new empty dictionary.\\n\\n    - ``ValueSortedDict(mapping)`` -> new dictionary initialized from a mapping\\n      object\\'s (key, value) pairs.\\n\\n    - ``ValueSortedDict(iterable)`` -> new dictionary initialized as if via  \\n\\n        d = ValueSortedDict()\\n        for k, v in iterable \\n            d[k] = v\\n\\n    - ``ValueSortedDict(**kwargs)`` -> new dictionary initialized with the\\n      name=value pairs in the keyword argument list.  For example  \\n\\n        ValueSortedDict(one=1, two=2)\\n\\n    An optional key function callable may be specified as the first\\n    argument. When so, the callable will be applied to the value of each item\\n    pair to determine the comparable for sort order as with Python\\'s builtin\\n    ``sorted`` function.\\n\\n    \"\"\"\\n    def __init__(self, *args, **kwargs) \\n        args = list(args)\\n        if args and callable(args[0]) \\n            func = self._func = args[0]\\n            def key_func(key) \\n                \"Apply key function to ``mapping[value]``.\"\\n                return func(self[key])\\n            args[0] = key_func\\n        else \\n            self._func = None\\n            def key_func(key) \\n                \"Return mapping value for key.\"\\n                return self[key]\\n            if args and args[0] is None \\n                args[0] = key_func\\n            else \\n                args.insert(0, key_func)\\n        super(ValueSortedDict, self).__init__(*args, **kwargs)\\n\\n    def __delitem__(self, key) \\n        \"``del mapping[key]``\"\\n        if key not in self \\n            raise KeyError(key)\\n        self._list_remove(key)\\n        dict.__delitem__(self, key)\\n\\n    def __setitem__(self, key, value) \\n        \"``mapping[key] = value``\"\\n        if key in self \\n            self._list_remove(key)\\n            dict.__delitem__(self, key)\\n        dict.__setitem__(self, key, value)\\n        self._list_add(key)\\n\\n    _setitem = __setitem__\\n\\n    def copy(self) \\n        \"Return shallow copy of the mapping.\"\\n        return self.__class__(self._func, iter(self.items()))\\n\\n    __copy__ = copy\\n\\n    def __reduce__(self) \\n        items = [(key, self[key]) for key in self._list]\\n        args = (self._func, items)\\n        return (self.__class__, args)\\n\\n    @recursive_repr()\\n    def __repr__(self) \\n        temp = \\'{0}({1}, {{{2}}})\\'\\n        items = \\', \\'.join(\\'{0}  {1}\\'.format(repr(key), repr(self[key]))\\n                          for key in self._list)\\n        return temp.format(\\n            self.__class__.__name__,\\n            repr(self._func),\\n            items\\n        )\\n\\n\\nclass OrderedSet(abc.MutableSet, abc.Sequence) \\n    \"\"\"Like OrderedDict, OrderedSet maintains the insertion order of elements.\\n\\n    For example  \\n\\n        >>> ordered_set = OrderedSet(\\'abcde\\')\\n        >>> list(ordered_set) == list(\\'abcde\\')\\n        True\\n        >>> ordered_set = OrderedSet(\\'edcba\\')\\n        >>> list(ordered_set) == list(\\'edcba\\')\\n        True\\n\\n    OrderedSet also implements the collections.Sequence interface.\\n\\n    \"\"\"\\n    # pylint  disable=too-many-ancestors\\n    def __init__(self, iterable=()) \\n        # pylint  disable=super-init-not-called\\n        self._keys = {}\\n        self._nums = SortedDict()\\n        self._keys_view = self._nums.keys()\\n        self._count = count()\\n        self |= iterable\\n\\n    def __contains__(self, key) \\n        \"``key in ordered_set``\"\\n        return key in self._keys\\n\\n    count = __contains__\\n\\n    def __iter__(self) \\n        \"``iter(ordered_set)``\"\\n        return iter(self._nums.values())\\n\\n    def __reversed__(self) \\n        \"``reversed(ordered_set)``\"\\n        _nums = self._nums\\n        for key in reversed(_nums) \\n            yield _nums[key]\\n\\n    def __getitem__(self, index) \\n        \"``ordered_set[index]`` -> element; lookup element at index.\"\\n        num = self._keys_view[index]\\n        return self._nums[num]\\n\\n    def __len__(self) \\n        \"``len(ordered_set)``\"\\n        return len(self._keys)\\n\\n    def index(self, value) \\n        \"Return index of value.\"\\n        # pylint  disable=arguments-differ\\n        try \\n            return self._keys[value]\\n        except KeyError \\n            raise ValueError(\\'%r is not in %s\\' % (value, type(self).__name__))\\n\\n    def add(self, value) \\n        \"Add element, value, to set.\"\\n        if value not in self._keys \\n            num = next(self._count)\\n            self._keys[value] = num\\n            self._nums[num] = value\\n\\n    def discard(self, value) \\n        \"Remove element, value, from set if it is a member.\"\\n        num = self._keys.pop(value, None)\\n        if num is not None \\n            del self._nums[num]\\n\\n    def __repr__(self) \\n        \"Text representation of set.\"\\n        return \\'%s(%r)\\' % (type(self).__name__, list(self))\\n\\n    __str__ = __repr__\\n\\n\\nclass SegmentList(SortedKeyList) \\n    \"\"\"List that supports fast random insertion and deletion of elements.\\n\\n    SegmentList is a special case of a SortedList initialized with a key\\n    function that always returns 0. As such, several SortedList methods are not\\n    implemented for SegmentList.\\n\\n    \"\"\"\\n    # pylint  disable=too-many-ancestors\\n    def __init__(self, iterable=()) \\n        super(SegmentList, self).__init__(iterable, self.zero)\\n\\n    @staticmethod\\n    def zero(_) \\n        \"Return 0.\"\\n        return 0\\n\\n    def __setitem__(self, index, value) \\n        if isinstance(index, slice) \\n            raise NotImplementedError\\n        pos, idx = self._pos(index)\\n        self._lists[pos][idx] = value\\n\\n    def append(self, value) \\n        if self._len \\n            pos = len(self._lists) - 1\\n            self._lists[pos].append(value)\\n            self._keys[pos].append(0)\\n            self._expand(pos)\\n        else \\n            self._lists.append([value])\\n            self._keys.append([0])\\n            self._maxes.append(0)\\n        self._len += 1\\n\\n    def extend(self, values) \\n        for value in values \\n            self.append(value)\\n\\n    def insert(self, index, value) \\n        if index == self._len \\n            self.append(value)\\n            return\\n        pos, idx = self._pos(index)\\n        self._lists[pos].insert(idx, value)\\n        self._keys[pos].insert(idx, 0)\\n        self._expand(pos)\\n        self._len += 1\\n\\n    def reverse(self) \\n        values = list(self)\\n        values.reverse()\\n        self.clear()\\n        self.extend(values)\\n\\n    def sort(self, key=None, reverse=False) \\n        \"Stable sort in place.\"\\n        values = sorted(self, key=key, reverse=reverse)\\n        self.clear()\\n        self.extend(values)\\n\\n    def _not_implemented(self, *args, **kwargs) \\n        \"Not implemented.\"\\n        raise NotImplementedError\\n\\n    add = _not_implemented\\n    bisect = _not_implemented\\n    bisect_left = _not_implemented\\n    bisect_right = _not_implemented\\n    bisect_key = _not_implemented\\n    bisect_key_left = _not_implemented\\n    bisect_key_right = _not_implemented\\n    irange = _not_implemented\\n    irange_key = _not_implemented\\n    update = _not_implemented\\n'"
      ]
     },
     "execution_count": 40,
     "metadata": {},
     "output_type": "execute_result"
    }
   ],
   "source": [
    "#파일 내용 확인\n",
    "lines"
   ]
  },
  {
   "cell_type": "code",
   "execution_count": 41,
   "id": "1caa8941",
   "metadata": {},
   "outputs": [],
   "source": [
    "import keyword"
   ]
  },
  {
   "cell_type": "code",
   "execution_count": null,
   "id": "7f8a6887",
   "metadata": {},
   "outputs": [],
   "source": []
  },
  {
   "cell_type": "code",
   "execution_count": null,
   "id": "48904b31",
   "metadata": {},
   "outputs": [],
   "source": []
  },
  {
   "cell_type": "code",
   "execution_count": null,
   "id": "c9768818",
   "metadata": {},
   "outputs": [],
   "source": []
  }
 ],
 "metadata": {
  "kernelspec": {
   "display_name": "Python 3 (ipykernel)",
   "language": "python",
   "name": "python3"
  },
  "language_info": {
   "codemirror_mode": {
    "name": "ipython",
    "version": 3
   },
   "file_extension": ".py",
   "mimetype": "text/x-python",
   "name": "python",
   "nbconvert_exporter": "python",
   "pygments_lexer": "ipython3",
   "version": "3.8.8"
  }
 },
 "nbformat": 4,
 "nbformat_minor": 5
}
