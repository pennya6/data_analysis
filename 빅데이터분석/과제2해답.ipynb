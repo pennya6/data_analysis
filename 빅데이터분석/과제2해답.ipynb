{
 "cells": [
  {
   "cell_type": "code",
   "execution_count": 1,
   "id": "47e61f7a",
   "metadata": {},
   "outputs": [],
   "source": [
    "import numpy as np\n",
    "import pandas as pd\n",
    "import matplotlib.pyplot as plt"
   ]
  },
  {
   "cell_type": "markdown",
   "id": "055b5b3b",
   "metadata": {},
   "source": [
    "### [A]Numpy "
   ]
  },
  {
   "cell_type": "markdown",
   "id": "12124236",
   "metadata": {},
   "source": [
    "### 1) 1차원 배열 a,b,c,d 만들기 "
   ]
  },
  {
   "cell_type": "code",
   "execution_count": 14,
   "id": "fcf06e82",
   "metadata": {},
   "outputs": [],
   "source": [
    "a=np.concatenate([np.full(15,3),np.full(5,4)])"
   ]
  },
  {
   "cell_type": "code",
   "execution_count": 15,
   "id": "2fdb7575",
   "metadata": {},
   "outputs": [
    {
     "data": {
      "text/plain": [
       "array([3, 3, 3, 3, 3, 3, 3, 3, 3, 3, 3, 3, 3, 3, 3, 4, 4, 4, 4, 4])"
      ]
     },
     "execution_count": 15,
     "metadata": {},
     "output_type": "execute_result"
    }
   ],
   "source": [
    "a"
   ]
  },
  {
   "cell_type": "code",
   "execution_count": 16,
   "id": "f76c67cb",
   "metadata": {},
   "outputs": [],
   "source": [
    "np.random.seed(1)\n",
    "b=np.random.randint(1,3,20)"
   ]
  },
  {
   "cell_type": "code",
   "execution_count": 17,
   "id": "06c9ec77",
   "metadata": {},
   "outputs": [
    {
     "data": {
      "text/plain": [
       "array([2, 2, 1, 1, 2, 2, 2, 2, 2, 1, 1, 2, 1, 2, 2, 1, 1, 2, 1, 1])"
      ]
     },
     "execution_count": 17,
     "metadata": {},
     "output_type": "execute_result"
    }
   ],
   "source": [
    "b"
   ]
  },
  {
   "cell_type": "code",
   "execution_count": 18,
   "id": "24b44055",
   "metadata": {},
   "outputs": [],
   "source": [
    "np.random.seed(2)\n",
    "c=np.random.randint(1,101,20)"
   ]
  },
  {
   "cell_type": "code",
   "execution_count": 19,
   "id": "86e5ad22",
   "metadata": {},
   "outputs": [
    {
     "data": {
      "text/plain": [
       "array([41, 16, 73, 23, 44, 83, 76,  8, 35, 50, 96, 76, 86, 48, 64, 32, 91,\n",
       "       21, 38, 40])"
      ]
     },
     "execution_count": 19,
     "metadata": {},
     "output_type": "execute_result"
    }
   ],
   "source": [
    "c"
   ]
  },
  {
   "cell_type": "code",
   "execution_count": 20,
   "id": "2c64e998",
   "metadata": {},
   "outputs": [],
   "source": [
    "np.random.seed(3)\n",
    "d=np.floor(np.random.random(20)*100)+1"
   ]
  },
  {
   "cell_type": "code",
   "execution_count": 21,
   "id": "74f3e245",
   "metadata": {},
   "outputs": [
    {
     "data": {
      "text/plain": [
       "array([56., 71., 30., 52., 90., 90., 13., 21.,  6., 45.,  3., 46., 65.,\n",
       "       28., 68., 60.,  3., 56., 26., 42.])"
      ]
     },
     "execution_count": 21,
     "metadata": {},
     "output_type": "execute_result"
    }
   ],
   "source": [
    "d"
   ]
  },
  {
   "cell_type": "markdown",
   "id": "793e7cde",
   "metadata": {},
   "source": [
    "### 2) 2차원 배열 m만들기"
   ]
  },
  {
   "cell_type": "code",
   "execution_count": 37,
   "id": "7699fe29",
   "metadata": {},
   "outputs": [],
   "source": [
    "a=a.reshape((20,1))\n",
    "b=b.reshape((20,1))\n",
    "c=c.reshape((20,1))\n",
    "d=d.reshape((20,1))"
   ]
  },
  {
   "cell_type": "code",
   "execution_count": 38,
   "id": "2cadd4f0",
   "metadata": {},
   "outputs": [],
   "source": [
    "m=np.concatenate([a,b,c,d],axis=1)\n",
    "# m= np.hstack([a,b,c,d])\n",
    "# m=np.c_[a,b,c,d]"
   ]
  },
  {
   "cell_type": "code",
   "execution_count": 39,
   "id": "5ce7928c",
   "metadata": {},
   "outputs": [
    {
     "data": {
      "text/plain": [
       "array([[ 3.,  2., 41., 56.],\n",
       "       [ 3.,  2., 16., 71.],\n",
       "       [ 3.,  1., 73., 30.],\n",
       "       [ 3.,  1., 23., 52.],\n",
       "       [ 3.,  2., 44., 90.],\n",
       "       [ 3.,  2., 83., 90.],\n",
       "       [ 3.,  2., 76., 13.],\n",
       "       [ 3.,  2.,  8., 21.],\n",
       "       [ 3.,  2., 35.,  6.],\n",
       "       [ 3.,  1., 50., 45.],\n",
       "       [ 3.,  1., 96.,  3.],\n",
       "       [ 3.,  2., 76., 46.],\n",
       "       [ 3.,  1., 86., 65.],\n",
       "       [ 3.,  2., 48., 28.],\n",
       "       [ 3.,  2., 64., 68.],\n",
       "       [ 4.,  1., 32., 60.],\n",
       "       [ 4.,  1., 91.,  3.],\n",
       "       [ 4.,  2., 21., 56.],\n",
       "       [ 4.,  1., 38., 26.],\n",
       "       [ 4.,  1., 40., 42.]])"
      ]
     },
     "execution_count": 39,
     "metadata": {},
     "output_type": "execute_result"
    }
   ],
   "source": [
    "m"
   ]
  },
  {
   "cell_type": "markdown",
   "id": "703effdc",
   "metadata": {},
   "source": [
    "### 3) m의 열 평균 구하기 "
   ]
  },
  {
   "cell_type": "code",
   "execution_count": 25,
   "id": "99756646",
   "metadata": {},
   "outputs": [
    {
     "data": {
      "text/plain": [
       "array([ 3.25,  1.55, 52.05, 43.55])"
      ]
     },
     "execution_count": 25,
     "metadata": {},
     "output_type": "execute_result"
    }
   ],
   "source": [
    "np.mean(m,axis=0)"
   ]
  },
  {
   "cell_type": "markdown",
   "id": "a16e9453",
   "metadata": {},
   "source": [
    "### 4) m3를 만들고 열평균 구하기 "
   ]
  },
  {
   "cell_type": "code",
   "execution_count": 26,
   "id": "2470f424",
   "metadata": {},
   "outputs": [],
   "source": [
    "m3=m[:15,:]"
   ]
  },
  {
   "cell_type": "code",
   "execution_count": 27,
   "id": "eeef9d75",
   "metadata": {},
   "outputs": [
    {
     "data": {
      "text/plain": [
       "array([[ 3.,  2., 41., 56.],\n",
       "       [ 3.,  2., 16., 71.],\n",
       "       [ 3.,  1., 73., 30.],\n",
       "       [ 3.,  1., 23., 52.],\n",
       "       [ 3.,  2., 44., 90.],\n",
       "       [ 3.,  2., 83., 90.],\n",
       "       [ 3.,  2., 76., 13.],\n",
       "       [ 3.,  2.,  8., 21.],\n",
       "       [ 3.,  2., 35.,  6.],\n",
       "       [ 3.,  1., 50., 45.],\n",
       "       [ 3.,  1., 96.,  3.],\n",
       "       [ 3.,  2., 76., 46.],\n",
       "       [ 3.,  1., 86., 65.],\n",
       "       [ 3.,  2., 48., 28.],\n",
       "       [ 3.,  2., 64., 68.]])"
      ]
     },
     "execution_count": 27,
     "metadata": {},
     "output_type": "execute_result"
    }
   ],
   "source": [
    "m3"
   ]
  },
  {
   "cell_type": "code",
   "execution_count": 30,
   "id": "ec0ba0dd",
   "metadata": {},
   "outputs": [
    {
     "data": {
      "text/plain": [
       "array([ 3.        ,  1.66666667, 54.6       , 45.6       ])"
      ]
     },
     "execution_count": 30,
     "metadata": {},
     "output_type": "execute_result"
    }
   ],
   "source": [
    "np.mean(m3,axis=0)"
   ]
  },
  {
   "cell_type": "markdown",
   "id": "4c47bddc",
   "metadata": {},
   "source": [
    "### 5) m1을 만륻고 각 열의 최댓값 구하기"
   ]
  },
  {
   "cell_type": "code",
   "execution_count": 43,
   "id": "2d4cfbeb",
   "metadata": {},
   "outputs": [],
   "source": [
    "m1=m[m[:,1]==1]"
   ]
  },
  {
   "cell_type": "code",
   "execution_count": 44,
   "id": "758c9f1a",
   "metadata": {},
   "outputs": [
    {
     "data": {
      "text/plain": [
       "array([[ 3.,  1., 73., 30.],\n",
       "       [ 3.,  1., 23., 52.],\n",
       "       [ 3.,  1., 50., 45.],\n",
       "       [ 3.,  1., 96.,  3.],\n",
       "       [ 3.,  1., 86., 65.],\n",
       "       [ 4.,  1., 32., 60.],\n",
       "       [ 4.,  1., 91.,  3.],\n",
       "       [ 4.,  1., 38., 26.],\n",
       "       [ 4.,  1., 40., 42.]])"
      ]
     },
     "execution_count": 44,
     "metadata": {},
     "output_type": "execute_result"
    }
   ],
   "source": [
    "m1"
   ]
  },
  {
   "cell_type": "code",
   "execution_count": 46,
   "id": "ab1c2e22",
   "metadata": {},
   "outputs": [
    {
     "data": {
      "text/plain": [
       "array([ 3.44444444,  1.        , 58.77777778, 36.22222222])"
      ]
     },
     "execution_count": 46,
     "metadata": {},
     "output_type": "execute_result"
    }
   ],
   "source": [
    "np.mean(m1,axis=0)"
   ]
  },
  {
   "cell_type": "markdown",
   "id": "147be53c",
   "metadata": {},
   "source": [
    "### 6) 칼럼2 < 칼럼 3인 행 번호 구하기 "
   ]
  },
  {
   "cell_type": "code",
   "execution_count": 48,
   "id": "510332b5",
   "metadata": {},
   "outputs": [
    {
     "data": {
      "text/plain": [
       "(array([ 0,  1,  3,  4,  5,  7, 14, 15, 17, 19], dtype=int64),)"
      ]
     },
     "execution_count": 48,
     "metadata": {},
     "output_type": "execute_result"
    }
   ],
   "source": [
    "np.where(m[:,2]<m[:,3])"
   ]
  },
  {
   "cell_type": "markdown",
   "id": "285a6174",
   "metadata": {},
   "source": [
    "### [B] pandas "
   ]
  },
  {
   "cell_type": "markdown",
   "id": "366983d1",
   "metadata": {},
   "source": [
    "### 1) titanic, titanic2 만들기"
   ]
  },
  {
   "cell_type": "code",
   "execution_count": 58,
   "id": "f05e2463",
   "metadata": {},
   "outputs": [],
   "source": [
    "titanic = pd.read_csv('titanic.csv')"
   ]
  },
  {
   "cell_type": "code",
   "execution_count": 59,
   "id": "0fffbf06",
   "metadata": {},
   "outputs": [],
   "source": [
    "titanic2 = titanic.drop(['Name', 'Ticket', 'Cabin'], axis=1)"
   ]
  },
  {
   "cell_type": "code",
   "execution_count": 60,
   "id": "708cc9fa",
   "metadata": {},
   "outputs": [
    {
     "data": {
      "text/html": [
       "<div>\n",
       "<style scoped>\n",
       "    .dataframe tbody tr th:only-of-type {\n",
       "        vertical-align: middle;\n",
       "    }\n",
       "\n",
       "    .dataframe tbody tr th {\n",
       "        vertical-align: top;\n",
       "    }\n",
       "\n",
       "    .dataframe thead th {\n",
       "        text-align: right;\n",
       "    }\n",
       "</style>\n",
       "<table border=\"1\" class=\"dataframe\">\n",
       "  <thead>\n",
       "    <tr style=\"text-align: right;\">\n",
       "      <th></th>\n",
       "      <th>PassengerId</th>\n",
       "      <th>Survived</th>\n",
       "      <th>Pclass</th>\n",
       "      <th>Sex</th>\n",
       "      <th>Age</th>\n",
       "      <th>SibSp</th>\n",
       "      <th>Parch</th>\n",
       "      <th>Fare</th>\n",
       "      <th>Embarked</th>\n",
       "    </tr>\n",
       "  </thead>\n",
       "  <tbody>\n",
       "    <tr>\n",
       "      <th>888</th>\n",
       "      <td>889</td>\n",
       "      <td>0</td>\n",
       "      <td>3</td>\n",
       "      <td>female</td>\n",
       "      <td>NaN</td>\n",
       "      <td>1</td>\n",
       "      <td>2</td>\n",
       "      <td>23.45</td>\n",
       "      <td>S</td>\n",
       "    </tr>\n",
       "    <tr>\n",
       "      <th>889</th>\n",
       "      <td>890</td>\n",
       "      <td>1</td>\n",
       "      <td>1</td>\n",
       "      <td>male</td>\n",
       "      <td>26.0</td>\n",
       "      <td>0</td>\n",
       "      <td>0</td>\n",
       "      <td>30.00</td>\n",
       "      <td>C</td>\n",
       "    </tr>\n",
       "    <tr>\n",
       "      <th>890</th>\n",
       "      <td>891</td>\n",
       "      <td>0</td>\n",
       "      <td>3</td>\n",
       "      <td>male</td>\n",
       "      <td>32.0</td>\n",
       "      <td>0</td>\n",
       "      <td>0</td>\n",
       "      <td>7.75</td>\n",
       "      <td>Q</td>\n",
       "    </tr>\n",
       "  </tbody>\n",
       "</table>\n",
       "</div>"
      ],
      "text/plain": [
       "     PassengerId  Survived  Pclass     Sex   Age  SibSp  Parch   Fare Embarked\n",
       "888          889         0       3  female   NaN      1      2  23.45        S\n",
       "889          890         1       1    male  26.0      0      0  30.00        C\n",
       "890          891         0       3    male  32.0      0      0   7.75        Q"
      ]
     },
     "execution_count": 60,
     "metadata": {},
     "output_type": "execute_result"
    }
   ],
   "source": [
    "titanic2.tail(3)"
   ]
  },
  {
   "cell_type": "markdown",
   "id": "5af21d76",
   "metadata": {},
   "source": [
    "### 2) age, embarked 결측치채운 titanic 3만들기 "
   ]
  },
  {
   "cell_type": "code",
   "execution_count": 61,
   "id": "ee1b01ba",
   "metadata": {},
   "outputs": [
    {
     "name": "stdout",
     "output_type": "stream",
     "text": [
      "<class 'pandas.core.frame.DataFrame'>\n",
      "RangeIndex: 891 entries, 0 to 890\n",
      "Data columns (total 9 columns):\n",
      " #   Column       Non-Null Count  Dtype  \n",
      "---  ------       --------------  -----  \n",
      " 0   PassengerId  891 non-null    int64  \n",
      " 1   Survived     891 non-null    int64  \n",
      " 2   Pclass       891 non-null    int64  \n",
      " 3   Sex          891 non-null    object \n",
      " 4   Age          714 non-null    float64\n",
      " 5   SibSp        891 non-null    int64  \n",
      " 6   Parch        891 non-null    int64  \n",
      " 7   Fare         891 non-null    float64\n",
      " 8   Embarked     889 non-null    object \n",
      "dtypes: float64(2), int64(5), object(2)\n",
      "memory usage: 62.8+ KB\n"
     ]
    }
   ],
   "source": [
    "titanic2.info()"
   ]
  },
  {
   "cell_type": "code",
   "execution_count": 62,
   "id": "295b459e",
   "metadata": {},
   "outputs": [],
   "source": [
    "age_mean = titanic2['Age'].mean()"
   ]
  },
  {
   "cell_type": "code",
   "execution_count": 63,
   "id": "ca996d71",
   "metadata": {},
   "outputs": [
    {
     "data": {
      "text/plain": [
       "S    644\n",
       "C    168\n",
       "Q     77\n",
       "Name: Embarked, dtype: int64"
      ]
     },
     "execution_count": 63,
     "metadata": {},
     "output_type": "execute_result"
    }
   ],
   "source": [
    "titanic2['Embarked'].value_counts()"
   ]
  },
  {
   "cell_type": "code",
   "execution_count": 64,
   "id": "c123a693",
   "metadata": {},
   "outputs": [],
   "source": [
    "values = {'Age':age_mean, 'Embarked':'S'}"
   ]
  },
  {
   "cell_type": "code",
   "execution_count": 65,
   "id": "9f76941d",
   "metadata": {},
   "outputs": [],
   "source": [
    "titanic3 = titanic2.fillna(values)"
   ]
  },
  {
   "cell_type": "markdown",
   "id": "cc3eae42",
   "metadata": {},
   "source": [
    "### 3) 집계하기 "
   ]
  },
  {
   "cell_type": "code",
   "execution_count": 66,
   "id": "61b3b562",
   "metadata": {},
   "outputs": [
    {
     "data": {
      "text/plain": [
       "Survived\n",
       "0    549\n",
       "1    342\n",
       "Name: Survived, dtype: int64"
      ]
     },
     "execution_count": 66,
     "metadata": {},
     "output_type": "execute_result"
    }
   ],
   "source": [
    "titanic3.groupby('Survived')['Survived'].count()"
   ]
  },
  {
   "cell_type": "code",
   "execution_count": 67,
   "id": "db65649e",
   "metadata": {},
   "outputs": [
    {
     "data": {
      "text/plain": [
       "0    549\n",
       "1    342\n",
       "Name: Survived, dtype: int64"
      ]
     },
     "execution_count": 67,
     "metadata": {},
     "output_type": "execute_result"
    }
   ],
   "source": [
    "titanic3['Survived'].value_counts()"
   ]
  },
  {
   "cell_type": "code",
   "execution_count": 68,
   "id": "a0ffc068",
   "metadata": {},
   "outputs": [
    {
     "data": {
      "text/plain": [
       "Survived\n",
       "0    30.415100\n",
       "1    28.549778\n",
       "Name: Age, dtype: float64"
      ]
     },
     "execution_count": 68,
     "metadata": {},
     "output_type": "execute_result"
    }
   ],
   "source": [
    "titanic3.groupby('Survived')['Age'].mean()"
   ]
  },
  {
   "cell_type": "code",
   "execution_count": 69,
   "id": "d54ce7bf",
   "metadata": {},
   "outputs": [
    {
     "data": {
      "text/plain": [
       "1    216\n",
       "2    184\n",
       "3    491\n",
       "Name: Pclass, dtype: int64"
      ]
     },
     "execution_count": 69,
     "metadata": {},
     "output_type": "execute_result"
    }
   ],
   "source": [
    "titanic3['Pclass'].value_counts().sort_index() #sort_index()로 인덱스 기준으로 정렬"
   ]
  },
  {
   "cell_type": "code",
   "execution_count": 70,
   "id": "da3fd269",
   "metadata": {},
   "outputs": [
    {
     "data": {
      "text/plain": [
       "Survived  Pclass\n",
       "0         1          80\n",
       "          2          97\n",
       "          3         372\n",
       "1         1         136\n",
       "          2          87\n",
       "          3         119\n",
       "Name: Pclass, dtype: int64"
      ]
     },
     "execution_count": 70,
     "metadata": {},
     "output_type": "execute_result"
    }
   ],
   "source": [
    "titanic3.groupby('Survived')['Pclass'].value_counts().sort_index()"
   ]
  },
  {
   "cell_type": "markdown",
   "id": "250620d8",
   "metadata": {},
   "source": [
    "### 4) 데이터프레임 조인"
   ]
  },
  {
   "cell_type": "code",
   "execution_count": 71,
   "id": "38bbfde6",
   "metadata": {},
   "outputs": [],
   "source": [
    "titanic4 = titanic3[titanic3.Age > 70]"
   ]
  },
  {
   "cell_type": "code",
   "execution_count": 72,
   "id": "f2995318",
   "metadata": {},
   "outputs": [
    {
     "data": {
      "text/html": [
       "<div>\n",
       "<style scoped>\n",
       "    .dataframe tbody tr th:only-of-type {\n",
       "        vertical-align: middle;\n",
       "    }\n",
       "\n",
       "    .dataframe tbody tr th {\n",
       "        vertical-align: top;\n",
       "    }\n",
       "\n",
       "    .dataframe thead th {\n",
       "        text-align: right;\n",
       "    }\n",
       "</style>\n",
       "<table border=\"1\" class=\"dataframe\">\n",
       "  <thead>\n",
       "    <tr style=\"text-align: right;\">\n",
       "      <th></th>\n",
       "      <th>PassengerId</th>\n",
       "      <th>Survived</th>\n",
       "      <th>Pclass</th>\n",
       "      <th>Sex</th>\n",
       "      <th>Age</th>\n",
       "      <th>SibSp</th>\n",
       "      <th>Parch</th>\n",
       "      <th>Fare</th>\n",
       "      <th>Embarked</th>\n",
       "    </tr>\n",
       "  </thead>\n",
       "  <tbody>\n",
       "    <tr>\n",
       "      <th>96</th>\n",
       "      <td>97</td>\n",
       "      <td>0</td>\n",
       "      <td>1</td>\n",
       "      <td>male</td>\n",
       "      <td>71.0</td>\n",
       "      <td>0</td>\n",
       "      <td>0</td>\n",
       "      <td>34.6542</td>\n",
       "      <td>C</td>\n",
       "    </tr>\n",
       "    <tr>\n",
       "      <th>116</th>\n",
       "      <td>117</td>\n",
       "      <td>0</td>\n",
       "      <td>3</td>\n",
       "      <td>male</td>\n",
       "      <td>70.5</td>\n",
       "      <td>0</td>\n",
       "      <td>0</td>\n",
       "      <td>7.7500</td>\n",
       "      <td>Q</td>\n",
       "    </tr>\n",
       "    <tr>\n",
       "      <th>493</th>\n",
       "      <td>494</td>\n",
       "      <td>0</td>\n",
       "      <td>1</td>\n",
       "      <td>male</td>\n",
       "      <td>71.0</td>\n",
       "      <td>0</td>\n",
       "      <td>0</td>\n",
       "      <td>49.5042</td>\n",
       "      <td>C</td>\n",
       "    </tr>\n",
       "    <tr>\n",
       "      <th>630</th>\n",
       "      <td>631</td>\n",
       "      <td>1</td>\n",
       "      <td>1</td>\n",
       "      <td>male</td>\n",
       "      <td>80.0</td>\n",
       "      <td>0</td>\n",
       "      <td>0</td>\n",
       "      <td>30.0000</td>\n",
       "      <td>S</td>\n",
       "    </tr>\n",
       "    <tr>\n",
       "      <th>851</th>\n",
       "      <td>852</td>\n",
       "      <td>0</td>\n",
       "      <td>3</td>\n",
       "      <td>male</td>\n",
       "      <td>74.0</td>\n",
       "      <td>0</td>\n",
       "      <td>0</td>\n",
       "      <td>7.7750</td>\n",
       "      <td>S</td>\n",
       "    </tr>\n",
       "  </tbody>\n",
       "</table>\n",
       "</div>"
      ],
      "text/plain": [
       "     PassengerId  Survived  Pclass   Sex   Age  SibSp  Parch     Fare Embarked\n",
       "96            97         0       1  male  71.0      0      0  34.6542        C\n",
       "116          117         0       3  male  70.5      0      0   7.7500        Q\n",
       "493          494         0       1  male  71.0      0      0  49.5042        C\n",
       "630          631         1       1  male  80.0      0      0  30.0000        S\n",
       "851          852         0       3  male  74.0      0      0   7.7750        S"
      ]
     },
     "execution_count": 72,
     "metadata": {},
     "output_type": "execute_result"
    }
   ],
   "source": [
    "titanic4"
   ]
  },
  {
   "cell_type": "code",
   "execution_count": 73,
   "id": "76fc7d9d",
   "metadata": {},
   "outputs": [],
   "source": [
    "titanic5 = titanic[['PassengerId', 'Name']]"
   ]
  },
  {
   "cell_type": "code",
   "execution_count": 74,
   "id": "39c092f1",
   "metadata": {},
   "outputs": [
    {
     "data": {
      "text/html": [
       "<div>\n",
       "<style scoped>\n",
       "    .dataframe tbody tr th:only-of-type {\n",
       "        vertical-align: middle;\n",
       "    }\n",
       "\n",
       "    .dataframe tbody tr th {\n",
       "        vertical-align: top;\n",
       "    }\n",
       "\n",
       "    .dataframe thead th {\n",
       "        text-align: right;\n",
       "    }\n",
       "</style>\n",
       "<table border=\"1\" class=\"dataframe\">\n",
       "  <thead>\n",
       "    <tr style=\"text-align: right;\">\n",
       "      <th></th>\n",
       "      <th>PassengerId</th>\n",
       "      <th>Survived</th>\n",
       "      <th>Pclass</th>\n",
       "      <th>Sex</th>\n",
       "      <th>Age</th>\n",
       "      <th>SibSp</th>\n",
       "      <th>Parch</th>\n",
       "      <th>Fare</th>\n",
       "      <th>Embarked</th>\n",
       "      <th>Name</th>\n",
       "    </tr>\n",
       "  </thead>\n",
       "  <tbody>\n",
       "    <tr>\n",
       "      <th>0</th>\n",
       "      <td>97</td>\n",
       "      <td>0</td>\n",
       "      <td>1</td>\n",
       "      <td>male</td>\n",
       "      <td>71.0</td>\n",
       "      <td>0</td>\n",
       "      <td>0</td>\n",
       "      <td>34.6542</td>\n",
       "      <td>C</td>\n",
       "      <td>Goldschmidt, Mr. George B</td>\n",
       "    </tr>\n",
       "    <tr>\n",
       "      <th>1</th>\n",
       "      <td>117</td>\n",
       "      <td>0</td>\n",
       "      <td>3</td>\n",
       "      <td>male</td>\n",
       "      <td>70.5</td>\n",
       "      <td>0</td>\n",
       "      <td>0</td>\n",
       "      <td>7.7500</td>\n",
       "      <td>Q</td>\n",
       "      <td>Connors, Mr. Patrick</td>\n",
       "    </tr>\n",
       "    <tr>\n",
       "      <th>2</th>\n",
       "      <td>494</td>\n",
       "      <td>0</td>\n",
       "      <td>1</td>\n",
       "      <td>male</td>\n",
       "      <td>71.0</td>\n",
       "      <td>0</td>\n",
       "      <td>0</td>\n",
       "      <td>49.5042</td>\n",
       "      <td>C</td>\n",
       "      <td>Artagaveytia, Mr. Ramon</td>\n",
       "    </tr>\n",
       "    <tr>\n",
       "      <th>3</th>\n",
       "      <td>631</td>\n",
       "      <td>1</td>\n",
       "      <td>1</td>\n",
       "      <td>male</td>\n",
       "      <td>80.0</td>\n",
       "      <td>0</td>\n",
       "      <td>0</td>\n",
       "      <td>30.0000</td>\n",
       "      <td>S</td>\n",
       "      <td>Barkworth, Mr. Algernon Henry Wilson</td>\n",
       "    </tr>\n",
       "    <tr>\n",
       "      <th>4</th>\n",
       "      <td>852</td>\n",
       "      <td>0</td>\n",
       "      <td>3</td>\n",
       "      <td>male</td>\n",
       "      <td>74.0</td>\n",
       "      <td>0</td>\n",
       "      <td>0</td>\n",
       "      <td>7.7750</td>\n",
       "      <td>S</td>\n",
       "      <td>Svensson, Mr. Johan</td>\n",
       "    </tr>\n",
       "  </tbody>\n",
       "</table>\n",
       "</div>"
      ],
      "text/plain": [
       "   PassengerId  Survived  Pclass   Sex   Age  SibSp  Parch     Fare Embarked  \\\n",
       "0           97         0       1  male  71.0      0      0  34.6542        C   \n",
       "1          117         0       3  male  70.5      0      0   7.7500        Q   \n",
       "2          494         0       1  male  71.0      0      0  49.5042        C   \n",
       "3          631         1       1  male  80.0      0      0  30.0000        S   \n",
       "4          852         0       3  male  74.0      0      0   7.7750        S   \n",
       "\n",
       "                                   Name  \n",
       "0             Goldschmidt, Mr. George B  \n",
       "1                  Connors, Mr. Patrick  \n",
       "2               Artagaveytia, Mr. Ramon  \n",
       "3  Barkworth, Mr. Algernon Henry Wilson  \n",
       "4                   Svensson, Mr. Johan  "
      ]
     },
     "execution_count": 74,
     "metadata": {},
     "output_type": "execute_result"
    }
   ],
   "source": [
    "pd.merge(titanic4, titanic5) #내부조인"
   ]
  },
  {
   "cell_type": "markdown",
   "id": "28cde0d6",
   "metadata": {},
   "source": [
    "### [C] Matplotlib "
   ]
  },
  {
   "cell_type": "code",
   "execution_count": 75,
   "id": "79d57b86",
   "metadata": {},
   "outputs": [],
   "source": [
    "df = pd.read_csv('ThoraricSurgery.csv')"
   ]
  },
  {
   "cell_type": "code",
   "execution_count": 76,
   "id": "28493e0f",
   "metadata": {},
   "outputs": [
    {
     "data": {
      "text/plain": [
       "Text(0, 0.5, 'PRE4')"
      ]
     },
     "execution_count": 76,
     "metadata": {},
     "output_type": "execute_result"
    },
    {
     "data": {
      "image/png": "[encoded data removed]",
      "text/plain": [
       "<Figure size 432x288 with 1 Axes>"
      ]
     },
     "metadata": {
      "needs_background": "light"
     },
     "output_type": "display_data"
    }
   ],
   "source": [
    "plt.scatter(df.AGE, df.PRE4)\n",
    "plt.xlabel('AGE')\n",
    "plt.ylabel('PRE4')"
   ]
  },
  {
   "cell_type": "markdown",
   "id": "1a9469f5",
   "metadata": {},
   "source": [
    "### 2) age히스토그램 "
   ]
  },
  {
   "cell_type": "code",
   "execution_count": 79,
   "id": "75c2e71b",
   "metadata": {},
   "outputs": [
    {
     "data": {
      "text/plain": [
       "Text(0, 0.5, 'frequency')"
      ]
     },
     "execution_count": 79,
     "metadata": {},
     "output_type": "execute_result"
    },
    {
     "data": {
      "image/png": "[encoded data removed]",
      "text/plain": [
       "<Figure size 720x288 with 2 Axes>"
      ]
     },
     "metadata": {
      "needs_background": "light"
     },
     "output_type": "display_data"
    }
   ],
   "source": [
    "plt.figure(figsize=(10,4))\n",
    "plt.subplot(1,2, 1)\n",
    "plt.hist(df.AGE, alpha = 0.6, color='purple')\n",
    "plt.title('Histogram of AGE #1')\n",
    "plt.xlabel('AGE')\n",
    "plt.ylabel('frequency')\n",
    "\n",
    "#bins을 통해 10,20... 세대별 정해서 히스토그램 그리기하기\n",
    "plt.subplot(1,2,2)\n",
    "plt.hist(df.AGE, bins=[10,20,30,40,50,60,70,80,90], alpha=0.6, color='purple')\n",
    "plt.title('Histogram of AGE #2')\n",
    "plt.xlabel('AGE')\n",
    "plt.ylabel('frequency')"
   ]
  },
  {
   "cell_type": "markdown",
   "id": "a21c2617",
   "metadata": {},
   "source": [
    "### 3)Risk1Yr에 대한 파이차트 "
   ]
  },
  {
   "cell_type": "code",
   "execution_count": 80,
   "id": "faf1b81c",
   "metadata": {},
   "outputs": [],
   "source": [
    "counts = df.Risk1Yr.value_counts()"
   ]
  },
  {
   "cell_type": "code",
   "execution_count": 81,
   "id": "a20ba83f",
   "metadata": {},
   "outputs": [
    {
     "data": {
      "text/plain": [
       "F    400\n",
       "T     70\n",
       "Name: Risk1Yr, dtype: int64"
      ]
     },
     "execution_count": 81,
     "metadata": {},
     "output_type": "execute_result"
    }
   ],
   "source": [
    "counts"
   ]
  },
  {
   "cell_type": "code",
   "execution_count": 82,
   "id": "8ef5436e",
   "metadata": {},
   "outputs": [
    {
     "data": {
      "text/plain": [
       "Index(['F', 'T'], dtype='object')"
      ]
     },
     "execution_count": 82,
     "metadata": {},
     "output_type": "execute_result"
    }
   ],
   "source": [
    "counts.index #인덱스랑 값을 따로 분류해서 하는게 편리한듯 하다."
   ]
  },
  {
   "cell_type": "code",
   "execution_count": 83,
   "id": "26d9c6d0",
   "metadata": {},
   "outputs": [
    {
     "data": {
      "text/plain": [
       "array([400,  70], dtype=int64)"
      ]
     },
     "execution_count": 83,
     "metadata": {},
     "output_type": "execute_result"
    }
   ],
   "source": [
    "counts.values"
   ]
  },
  {
   "cell_type": "code",
   "execution_count": 84,
   "id": "1a5e24ec",
   "metadata": {},
   "outputs": [
    {
     "data": {
      "image/png": "[encoded data removed]",
      "text/plain": [
       "<Figure size 432x288 with 1 Axes>"
      ]
     },
     "metadata": {},
     "output_type": "display_data"
    }
   ],
   "source": [
    "plt.pie(counts.values, labels=counts.index, autopct = '%.1f%%'); #autopct을 통해 소수점 정하기"
   ]
  },
  {
   "cell_type": "markdown",
   "id": "83381375",
   "metadata": {},
   "source": [
    "### 4) PRE14별 PRE5 평균의 막대 그래프 "
   ]
  },
  {
   "cell_type": "code",
   "execution_count": 85,
   "id": "c0cdf524",
   "metadata": {},
   "outputs": [],
   "source": [
    "dat = df.groupby('PRE14')['PRE5'].mean() #groupby 그룹별 집계"
   ]
  },
  {
   "cell_type": "code",
   "execution_count": 86,
   "id": "74da4ab9",
   "metadata": {},
   "outputs": [
    {
     "data": {
      "text/plain": [
       "PRE14\n",
       "OC11    3.995650\n",
       "OC12    4.987549\n",
       "OC13    6.090526\n",
       "OC14    2.502353\n",
       "Name: PRE5, dtype: float64"
      ]
     },
     "execution_count": 86,
     "metadata": {},
     "output_type": "execute_result"
    }
   ],
   "source": [
    "dat"
   ]
  },
  {
   "cell_type": "code",
   "execution_count": 87,
   "id": "b638376f",
   "metadata": {},
   "outputs": [
    {
     "data": {
      "text/plain": [
       "Text(0, 0.5, 'Average of PRE5')"
      ]
     },
     "execution_count": 87,
     "metadata": {},
     "output_type": "execute_result"
    },
    {
     "data": {
      "image/png": "[encoded data removed]",
      "text/plain": [
       "<Figure size 432x288 with 1 Axes>"
      ]
     },
     "metadata": {
      "needs_background": "light"
     },
     "output_type": "display_data"
    }
   ],
   "source": [
    "plt.bar(dat.index, dat.values, color='orange')\n",
    "plt.xlabel('PRE14')\n",
    "plt.ylabel('Average of PRE5')"
   ]
  }
 ],
 "metadata": {
  "kernelspec": {
   "display_name": "Python 3 (ipykernel)",
   "language": "python",
   "name": "python3"
  },
  "language_info": {
   "codemirror_mode": {
    "name": "ipython",
    "version": 3
   },
   "file_extension": ".py",
   "mimetype": "text/x-python",
   "name": "python",
   "nbconvert_exporter": "python",
   "pygments_lexer": "ipython3",
   "version": "3.8.8"
  }
 },
 "nbformat": 4,
 "nbformat_minor": 5
}
