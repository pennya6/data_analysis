{
 "cells": [
  {
   "cell_type": "markdown",
   "id": "db64123d",
   "metadata": {},
   "source": [
    "### 과제 #2 : Numpy/Pandas/Matplotlib "
   ]
  },
  {
   "cell_type": "markdown",
   "id": "e64e4cbd",
   "metadata": {},
   "source": [
    "#### 컴퓨터공학부 201958008 김시연 "
   ]
  },
  {
   "cell_type": "markdown",
   "id": "e79ef8b4",
   "metadata": {},
   "source": [
    "#### [A]Numpy\n",
    "#### 1) 모양이 (20,)인 4개의 1차원 배열 a,b,c,d\n",
    "#### a:처음 15개 3, 나머지4\n",
    "#### b:정수집합 {1,2}에서 랜덤하게 뽑은 난수배열 seed=1\n",
    "#### C:{1,2,.....99,100} 랜덤 난수 배열 seed=2\n",
    "#### D:[0,1) 난수 배열 seed=3 에 100 곱하고 소수점 이하 버리고 정수+1"
   ]
  },
  {
   "cell_type": "code",
   "execution_count": 1,
   "id": "fbcbb862",
   "metadata": {},
   "outputs": [],
   "source": [
    "import numpy as np\n",
    "import pandas as pd"
   ]
  },
  {
   "cell_type": "code",
   "execution_count": 2,
   "id": "db78cdaa",
   "metadata": {},
   "outputs": [],
   "source": [
    "#a 만들기\n",
    "a=np.full((20,),3,dtype=np.int32) #일단 20으로 다 뽑기"
   ]
  },
  {
   "cell_type": "code",
   "execution_count": 3,
   "id": "f652699a",
   "metadata": {},
   "outputs": [
    {
     "data": {
      "text/plain": [
       "array([3, 3, 3, 3, 3, 3, 3, 3, 3, 3, 3, 3, 3, 3, 3, 3, 3, 3, 3, 3])"
      ]
     },
     "execution_count": 3,
     "metadata": {},
     "output_type": "execute_result"
    }
   ],
   "source": [
    "a"
   ]
  },
  {
   "cell_type": "code",
   "execution_count": 4,
   "id": "3e711c72",
   "metadata": {},
   "outputs": [],
   "source": [
    "for i in range(15,20): #이후에 5개 4로 변경\n",
    "    a[i]=4"
   ]
  },
  {
   "cell_type": "code",
   "execution_count": 5,
   "id": "f9f7d847",
   "metadata": {},
   "outputs": [
    {
     "data": {
      "text/plain": [
       "array([3, 3, 3, 3, 3, 3, 3, 3, 3, 3, 3, 3, 3, 3, 3, 4, 4, 4, 4, 4])"
      ]
     },
     "execution_count": 5,
     "metadata": {},
     "output_type": "execute_result"
    }
   ],
   "source": [
    "a"
   ]
  },
  {
   "cell_type": "code",
   "execution_count": 6,
   "id": "2803a52f",
   "metadata": {},
   "outputs": [],
   "source": [
    "#b 만들기\n",
    "np.random.seed(1) #seed 설정\n",
    "b=np.random.randint(1,3,(20,))"
   ]
  },
  {
   "cell_type": "code",
   "execution_count": 7,
   "id": "c8cb83ae",
   "metadata": {},
   "outputs": [
    {
     "data": {
      "text/plain": [
       "array([2, 2, 1, 1, 2, 2, 2, 2, 2, 1, 1, 2, 1, 2, 2, 1, 1, 2, 1, 1])"
      ]
     },
     "execution_count": 7,
     "metadata": {},
     "output_type": "execute_result"
    }
   ],
   "source": [
    "b"
   ]
  },
  {
   "cell_type": "code",
   "execution_count": 9,
   "id": "30246f44",
   "metadata": {},
   "outputs": [],
   "source": [
    "#c 만들기\n",
    "np.random.seed(2)\n",
    "c=np.random.randint(1,101,(20,))"
   ]
  },
  {
   "cell_type": "code",
   "execution_count": 10,
   "id": "dbef461e",
   "metadata": {},
   "outputs": [
    {
     "data": {
      "text/plain": [
       "array([41, 16, 73, 23, 44, 83, 76,  8, 35, 50, 96, 76, 86, 48, 64, 32, 91,\n",
       "       21, 38, 40])"
      ]
     },
     "execution_count": 10,
     "metadata": {},
     "output_type": "execute_result"
    }
   ],
   "source": [
    "c"
   ]
  },
  {
   "cell_type": "code",
   "execution_count": 18,
   "id": "c3fd99d8",
   "metadata": {},
   "outputs": [],
   "source": [
    "#d만들기\n",
    "np.random.seed(3)\n",
    "d=np.random.random((20,1))"
   ]
  },
  {
   "cell_type": "code",
   "execution_count": 19,
   "id": "90e97bac",
   "metadata": {},
   "outputs": [
    {
     "data": {
      "text/plain": [
       "array([[0.5507979 ],\n",
       "       [0.70814782],\n",
       "       [0.29090474],\n",
       "       [0.51082761],\n",
       "       [0.89294695],\n",
       "       [0.89629309],\n",
       "       [0.12558531],\n",
       "       [0.20724288],\n",
       "       [0.0514672 ],\n",
       "       [0.44080984],\n",
       "       [0.02987621],\n",
       "       [0.45683322],\n",
       "       [0.64914405],\n",
       "       [0.27848728],\n",
       "       [0.6762549 ],\n",
       "       [0.59086282],\n",
       "       [0.02398188],\n",
       "       [0.55885409],\n",
       "       [0.25925245],\n",
       "       [0.4151012 ]])"
      ]
     },
     "execution_count": 19,
     "metadata": {},
     "output_type": "execute_result"
    }
   ],
   "source": [
    "d"
   ]
  },
  {
   "cell_type": "code",
   "execution_count": 20,
   "id": "c622c50c",
   "metadata": {},
   "outputs": [],
   "source": [
    "d=d*100"
   ]
  },
  {
   "cell_type": "code",
   "execution_count": 36,
   "id": "4bc27987",
   "metadata": {},
   "outputs": [],
   "source": [
    "d=d.astype('int64')+1 #정수 부분만 취해서 +1"
   ]
  },
  {
   "cell_type": "code",
   "execution_count": 37,
   "id": "c4eeac43",
   "metadata": {},
   "outputs": [
    {
     "data": {
      "text/plain": [
       "array([[56],\n",
       "       [71],\n",
       "       [30],\n",
       "       [52],\n",
       "       [90],\n",
       "       [90],\n",
       "       [13],\n",
       "       [21],\n",
       "       [ 6],\n",
       "       [45],\n",
       "       [ 3],\n",
       "       [46],\n",
       "       [65],\n",
       "       [28],\n",
       "       [68],\n",
       "       [60],\n",
       "       [ 3],\n",
       "       [56],\n",
       "       [26],\n",
       "       [42]], dtype=int64)"
      ]
     },
     "execution_count": 37,
     "metadata": {},
     "output_type": "execute_result"
    }
   ],
   "source": [
    "d"
   ]
  },
  {
   "cell_type": "markdown",
   "id": "67a672c5",
   "metadata": {},
   "source": [
    "#### 2) 4개의 배열의 차원을 2로 변경, (20,1)로 재구조 -> 이후 칼럼으로 이어 붙여 (20,4) 2차원 배열 m 만들라"
   ]
  },
  {
   "cell_type": "code",
   "execution_count": 43,
   "id": "ce6827c5",
   "metadata": {},
   "outputs": [],
   "source": [
    "#기존의 배열 차원 (20,1)로 재구조\n",
    "a=a.reshape(20,1)\n",
    "b=b.reshape(20,1)\n",
    "c=c.reshape(20,1)\n",
    "d=d.reshape(20,1)"
   ]
  },
  {
   "cell_type": "code",
   "execution_count": 50,
   "id": "95318011",
   "metadata": {},
   "outputs": [],
   "source": [
    "m=np.concatenate([a,b],axis=1)\n",
    "m=np.concatenate([m,c,d],axis=1)"
   ]
  },
  {
   "cell_type": "code",
   "execution_count": 51,
   "id": "6b83da6b",
   "metadata": {},
   "outputs": [
    {
     "data": {
      "text/plain": [
       "array([[ 3,  2, 41, 56],\n",
       "       [ 3,  2, 16, 71],\n",
       "       [ 3,  1, 73, 30],\n",
       "       [ 3,  1, 23, 52],\n",
       "       [ 3,  2, 44, 90],\n",
       "       [ 3,  2, 83, 90],\n",
       "       [ 3,  2, 76, 13],\n",
       "       [ 3,  2,  8, 21],\n",
       "       [ 3,  2, 35,  6],\n",
       "       [ 3,  1, 50, 45],\n",
       "       [ 3,  1, 96,  3],\n",
       "       [ 3,  2, 76, 46],\n",
       "       [ 3,  1, 86, 65],\n",
       "       [ 3,  2, 48, 28],\n",
       "       [ 3,  2, 64, 68],\n",
       "       [ 4,  1, 32, 60],\n",
       "       [ 4,  1, 91,  3],\n",
       "       [ 4,  2, 21, 56],\n",
       "       [ 4,  1, 38, 26],\n",
       "       [ 4,  1, 40, 42]], dtype=int64)"
      ]
     },
     "execution_count": 51,
     "metadata": {},
     "output_type": "execute_result"
    }
   ],
   "source": [
    "m"
   ]
  },
  {
   "cell_type": "markdown",
   "id": "bf09bd9a",
   "metadata": {},
   "source": [
    "#### 3) m배열의 열별 평균 "
   ]
  },
  {
   "cell_type": "code",
   "execution_count": 54,
   "id": "4a333866",
   "metadata": {},
   "outputs": [
    {
     "data": {
      "text/plain": [
       "array([ 3.25,  1.55, 52.05, 43.55])"
      ]
     },
     "execution_count": 54,
     "metadata": {},
     "output_type": "execute_result"
    }
   ],
   "source": [
    "np.average(m,axis=0)"
   ]
  },
  {
   "cell_type": "markdown",
   "id": "fd657bb5",
   "metadata": {},
   "source": [
    "#### 4) 0번째 칼럼의 값이 3인 15개의 행을 가져와 m3을 만들고 평균을 구하라"
   ]
  },
  {
   "cell_type": "code",
   "execution_count": 145,
   "id": "31a3347c",
   "metadata": {},
   "outputs": [],
   "source": [
    "m3=np.zeros(60,dtype=object)"
   ]
  },
  {
   "cell_type": "code",
   "execution_count": 146,
   "id": "b915e17b",
   "metadata": {
    "scrolled": true
   },
   "outputs": [],
   "source": [
    "m3=m3.reshape(15,4)"
   ]
  },
  {
   "cell_type": "code",
   "execution_count": 147,
   "id": "c6bcb33b",
   "metadata": {},
   "outputs": [],
   "source": [
    "for i in range(len(m)):\n",
    "    if m[i,0]==3:\n",
    "        #print(m[i,0])\n",
    "        #m3=np.concatenate((m3,m[i]),axis=0)\n",
    "        m3[i]=m[i]"
   ]
  },
  {
   "cell_type": "code",
   "execution_count": 148,
   "id": "718f4e55",
   "metadata": {},
   "outputs": [
    {
     "data": {
      "text/plain": [
       "array([[3, 2, 41, 56],\n",
       "       [3, 2, 16, 71],\n",
       "       [3, 1, 73, 30],\n",
       "       [3, 1, 23, 52],\n",
       "       [3, 2, 44, 90],\n",
       "       [3, 2, 83, 90],\n",
       "       [3, 2, 76, 13],\n",
       "       [3, 2, 8, 21],\n",
       "       [3, 2, 35, 6],\n",
       "       [3, 1, 50, 45],\n",
       "       [3, 1, 96, 3],\n",
       "       [3, 2, 76, 46],\n",
       "       [3, 1, 86, 65],\n",
       "       [3, 2, 48, 28],\n",
       "       [3, 2, 64, 68]], dtype=object)"
      ]
     },
     "execution_count": 148,
     "metadata": {},
     "output_type": "execute_result"
    }
   ],
   "source": [
    "m3"
   ]
  },
  {
   "cell_type": "code",
   "execution_count": 153,
   "id": "07335eb3",
   "metadata": {},
   "outputs": [
    {
     "data": {
      "text/plain": [
       "array([25.5, 23.0, 26.75, 19.75, 34.75, 44.5, 23.5, 8.5, 11.5, 24.75,\n",
       "       25.75, 31.75, 38.75, 20.25, 34.25], dtype=object)"
      ]
     },
     "execution_count": 153,
     "metadata": {},
     "output_type": "execute_result"
    }
   ],
   "source": [
    "np.average(m3,axis=1)"
   ]
  },
  {
   "cell_type": "markdown",
   "id": "627d56d9",
   "metadata": {},
   "source": [
    "#### 5) 1번째 칼럼의 값이 1인 값을 가져 m1을 만들고 최댓값을 구하라 "
   ]
  },
  {
   "cell_type": "code",
   "execution_count": 251,
   "id": "eac3a769",
   "metadata": {},
   "outputs": [],
   "source": [
    "m1=np.zeros(80,dtype=object)"
   ]
  },
  {
   "cell_type": "code",
   "execution_count": 252,
   "id": "dfe94fd4",
   "metadata": {},
   "outputs": [],
   "source": [
    "m1=m1.reshape(20,4)"
   ]
  },
  {
   "cell_type": "code",
   "execution_count": 253,
   "id": "e3bcf8dd",
   "metadata": {},
   "outputs": [
    {
     "data": {
      "text/plain": [
       "array([[0, 0, 0, 0],\n",
       "       [0, 0, 0, 0],\n",
       "       [0, 0, 0, 0],\n",
       "       [0, 0, 0, 0],\n",
       "       [0, 0, 0, 0],\n",
       "       [0, 0, 0, 0],\n",
       "       [0, 0, 0, 0],\n",
       "       [0, 0, 0, 0],\n",
       "       [0, 0, 0, 0],\n",
       "       [0, 0, 0, 0],\n",
       "       [0, 0, 0, 0],\n",
       "       [0, 0, 0, 0],\n",
       "       [0, 0, 0, 0],\n",
       "       [0, 0, 0, 0],\n",
       "       [0, 0, 0, 0],\n",
       "       [0, 0, 0, 0],\n",
       "       [0, 0, 0, 0],\n",
       "       [0, 0, 0, 0],\n",
       "       [0, 0, 0, 0],\n",
       "       [0, 0, 0, 0]], dtype=object)"
      ]
     },
     "execution_count": 253,
     "metadata": {},
     "output_type": "execute_result"
    }
   ],
   "source": [
    "m1"
   ]
  },
  {
   "cell_type": "code",
   "execution_count": 254,
   "id": "3f9e64e8",
   "metadata": {},
   "outputs": [],
   "source": [
    "a=0"
   ]
  },
  {
   "cell_type": "code",
   "execution_count": 255,
   "id": "8e9bcc1c",
   "metadata": {},
   "outputs": [
    {
     "data": {
      "text/plain": [
       "array([ 3,  2, 16, 71], dtype=int64)"
      ]
     },
     "execution_count": 255,
     "metadata": {},
     "output_type": "execute_result"
    }
   ],
   "source": [
    "m[1]"
   ]
  },
  {
   "cell_type": "code",
   "execution_count": 256,
   "id": "f5e7656a",
   "metadata": {},
   "outputs": [],
   "source": [
    "for i in range(len(m)):\n",
    "    if m[i,1]==1:\n",
    "        a=a+1\n",
    "        m1[i]=m[i]\n",
    "        #m1=np.vstack(m[i])"
   ]
  },
  {
   "cell_type": "code",
   "execution_count": 273,
   "id": "bb694ccc",
   "metadata": {},
   "outputs": [],
   "source": [
    "m1=np.delete(m1,7,axis=0)"
   ]
  },
  {
   "cell_type": "code",
   "execution_count": 274,
   "id": "dcd28fe7",
   "metadata": {},
   "outputs": [
    {
     "data": {
      "text/plain": [
       "array([[3, 1, 73, 30],\n",
       "       [3, 1, 23, 52],\n",
       "       [3, 1, 50, 45],\n",
       "       [3, 1, 96, 3],\n",
       "       [3, 1, 86, 65],\n",
       "       [4, 1, 32, 60],\n",
       "       [4, 1, 91, 3],\n",
       "       [4, 1, 38, 26],\n",
       "       [4, 1, 40, 42]], dtype=object)"
      ]
     },
     "execution_count": 274,
     "metadata": {},
     "output_type": "execute_result"
    }
   ],
   "source": [
    "m1"
   ]
  },
  {
   "cell_type": "code",
   "execution_count": 276,
   "id": "9b8bbbdb",
   "metadata": {},
   "outputs": [
    {
     "data": {
      "text/plain": [
       "array([73, 52, 50, 96, 86, 60, 91, 38, 42], dtype=object)"
      ]
     },
     "execution_count": 276,
     "metadata": {},
     "output_type": "execute_result"
    }
   ],
   "source": [
    "np.max(m1,axis=1)"
   ]
  },
  {
   "cell_type": "markdown",
   "id": "13d14f42",
   "metadata": {},
   "source": [
    "#### 6) 3번째 값이 2번째 열의 값보다 더큰 행의 행 인덱스를 구하라"
   ]
  },
  {
   "cell_type": "code",
   "execution_count": 278,
   "id": "e7a1b210",
   "metadata": {},
   "outputs": [
    {
     "data": {
      "text/plain": [
       "array([[ 3,  2, 41, 56],\n",
       "       [ 3,  2, 16, 71],\n",
       "       [ 3,  1, 73, 30],\n",
       "       [ 3,  1, 23, 52],\n",
       "       [ 3,  2, 44, 90],\n",
       "       [ 3,  2, 83, 90],\n",
       "       [ 3,  2, 76, 13],\n",
       "       [ 3,  2,  8, 21],\n",
       "       [ 3,  2, 35,  6],\n",
       "       [ 3,  1, 50, 45],\n",
       "       [ 3,  1, 96,  3],\n",
       "       [ 3,  2, 76, 46],\n",
       "       [ 3,  1, 86, 65],\n",
       "       [ 3,  2, 48, 28],\n",
       "       [ 3,  2, 64, 68],\n",
       "       [ 4,  1, 32, 60],\n",
       "       [ 4,  1, 91,  3],\n",
       "       [ 4,  2, 21, 56],\n",
       "       [ 4,  1, 38, 26],\n",
       "       [ 4,  1, 40, 42]], dtype=int64)"
      ]
     },
     "execution_count": 278,
     "metadata": {},
     "output_type": "execute_result"
    }
   ],
   "source": [
    "m"
   ]
  },
  {
   "cell_type": "code",
   "execution_count": 289,
   "id": "a2fbb374",
   "metadata": {},
   "outputs": [
    {
     "name": "stdout",
     "output_type": "stream",
     "text": [
      "2\n",
      "6\n",
      "8\n",
      "9\n",
      "10\n",
      "11\n",
      "12\n",
      "13\n",
      "16\n",
      "18\n"
     ]
    }
   ],
   "source": [
    "for i in range(len(m)):\n",
    "    if m[i,2]>m[i,3]:\n",
    "        print(i)"
   ]
  },
  {
   "cell_type": "markdown",
   "id": "ea0fc2f9",
   "metadata": {},
   "source": [
    "#### [B] pandas\n",
    "#### 1) 타이타익 데이터를 가져와 데이터프레임을 만들고 Name, Ticket, Cabin 칼럼을 삭제한 titanic2를 만들고 마지막 행 3개 출력"
   ]
  },
  {
   "cell_type": "code",
   "execution_count": 290,
   "id": "161ed798",
   "metadata": {},
   "outputs": [],
   "source": [
    "titanic=pd.read_csv('titanic.csv')"
   ]
  },
  {
   "cell_type": "code",
   "execution_count": 291,
   "id": "3ddb7b39",
   "metadata": {},
   "outputs": [
    {
     "data": {
      "text/html": [
       "<div>\n",
       "<style scoped>\n",
       "    .dataframe tbody tr th:only-of-type {\n",
       "        vertical-align: middle;\n",
       "    }\n",
       "\n",
       "    .dataframe tbody tr th {\n",
       "        vertical-align: top;\n",
       "    }\n",
       "\n",
       "    .dataframe thead th {\n",
       "        text-align: right;\n",
       "    }\n",
       "</style>\n",
       "<table border=\"1\" class=\"dataframe\">\n",
       "  <thead>\n",
       "    <tr style=\"text-align: right;\">\n",
       "      <th></th>\n",
       "      <th>PassengerId</th>\n",
       "      <th>Survived</th>\n",
       "      <th>Pclass</th>\n",
       "      <th>Name</th>\n",
       "      <th>Sex</th>\n",
       "      <th>Age</th>\n",
       "      <th>SibSp</th>\n",
       "      <th>Parch</th>\n",
       "      <th>Ticket</th>\n",
       "      <th>Fare</th>\n",
       "      <th>Cabin</th>\n",
       "      <th>Embarked</th>\n",
       "    </tr>\n",
       "  </thead>\n",
       "  <tbody>\n",
       "    <tr>\n",
       "      <th>0</th>\n",
       "      <td>1</td>\n",
       "      <td>0</td>\n",
       "      <td>3</td>\n",
       "      <td>Braund, Mr. Owen Harris</td>\n",
       "      <td>male</td>\n",
       "      <td>22.0</td>\n",
       "      <td>1</td>\n",
       "      <td>0</td>\n",
       "      <td>A/5 21171</td>\n",
       "      <td>7.2500</td>\n",
       "      <td>NaN</td>\n",
       "      <td>S</td>\n",
       "    </tr>\n",
       "    <tr>\n",
       "      <th>1</th>\n",
       "      <td>2</td>\n",
       "      <td>1</td>\n",
       "      <td>1</td>\n",
       "      <td>Cumings, Mrs. John Bradley (Florence Briggs Th...</td>\n",
       "      <td>female</td>\n",
       "      <td>38.0</td>\n",
       "      <td>1</td>\n",
       "      <td>0</td>\n",
       "      <td>PC 17599</td>\n",
       "      <td>71.2833</td>\n",
       "      <td>C85</td>\n",
       "      <td>C</td>\n",
       "    </tr>\n",
       "    <tr>\n",
       "      <th>2</th>\n",
       "      <td>3</td>\n",
       "      <td>1</td>\n",
       "      <td>3</td>\n",
       "      <td>Heikkinen, Miss. Laina</td>\n",
       "      <td>female</td>\n",
       "      <td>26.0</td>\n",
       "      <td>0</td>\n",
       "      <td>0</td>\n",
       "      <td>STON/O2. 3101282</td>\n",
       "      <td>7.9250</td>\n",
       "      <td>NaN</td>\n",
       "      <td>S</td>\n",
       "    </tr>\n",
       "    <tr>\n",
       "      <th>3</th>\n",
       "      <td>4</td>\n",
       "      <td>1</td>\n",
       "      <td>1</td>\n",
       "      <td>Futrelle, Mrs. Jacques Heath (Lily May Peel)</td>\n",
       "      <td>female</td>\n",
       "      <td>35.0</td>\n",
       "      <td>1</td>\n",
       "      <td>0</td>\n",
       "      <td>113803</td>\n",
       "      <td>53.1000</td>\n",
       "      <td>C123</td>\n",
       "      <td>S</td>\n",
       "    </tr>\n",
       "    <tr>\n",
       "      <th>4</th>\n",
       "      <td>5</td>\n",
       "      <td>0</td>\n",
       "      <td>3</td>\n",
       "      <td>Allen, Mr. William Henry</td>\n",
       "      <td>male</td>\n",
       "      <td>35.0</td>\n",
       "      <td>0</td>\n",
       "      <td>0</td>\n",
       "      <td>373450</td>\n",
       "      <td>8.0500</td>\n",
       "      <td>NaN</td>\n",
       "      <td>S</td>\n",
       "    </tr>\n",
       "  </tbody>\n",
       "</table>\n",
       "</div>"
      ],
      "text/plain": [
       "   PassengerId  Survived  Pclass  \\\n",
       "0            1         0       3   \n",
       "1            2         1       1   \n",
       "2            3         1       3   \n",
       "3            4         1       1   \n",
       "4            5         0       3   \n",
       "\n",
       "                                                Name     Sex   Age  SibSp  \\\n",
       "0                            Braund, Mr. Owen Harris    male  22.0      1   \n",
       "1  Cumings, Mrs. John Bradley (Florence Briggs Th...  female  38.0      1   \n",
       "2                             Heikkinen, Miss. Laina  female  26.0      0   \n",
       "3       Futrelle, Mrs. Jacques Heath (Lily May Peel)  female  35.0      1   \n",
       "4                           Allen, Mr. William Henry    male  35.0      0   \n",
       "\n",
       "   Parch            Ticket     Fare Cabin Embarked  \n",
       "0      0         A/5 21171   7.2500   NaN        S  \n",
       "1      0          PC 17599  71.2833   C85        C  \n",
       "2      0  STON/O2. 3101282   7.9250   NaN        S  \n",
       "3      0            113803  53.1000  C123        S  \n",
       "4      0            373450   8.0500   NaN        S  "
      ]
     },
     "execution_count": 291,
     "metadata": {},
     "output_type": "execute_result"
    }
   ],
   "source": [
    "titanic.head()"
   ]
  },
  {
   "cell_type": "code",
   "execution_count": 293,
   "id": "98eb57b9",
   "metadata": {},
   "outputs": [],
   "source": [
    "titanic2=titanic.drop(['Cabin'],axis=1)\n",
    "titanic2=titanic.drop(['Name'],axis=1)\n",
    "titanic2=titanic.drop(['Ticket'],axis=1)"
   ]
  },
  {
   "cell_type": "code",
   "execution_count": 295,
   "id": "5e0e599e",
   "metadata": {},
   "outputs": [
    {
     "data": {
      "text/html": [
       "<div>\n",
       "<style scoped>\n",
       "    .dataframe tbody tr th:only-of-type {\n",
       "        vertical-align: middle;\n",
       "    }\n",
       "\n",
       "    .dataframe tbody tr th {\n",
       "        vertical-align: top;\n",
       "    }\n",
       "\n",
       "    .dataframe thead th {\n",
       "        text-align: right;\n",
       "    }\n",
       "</style>\n",
       "<table border=\"1\" class=\"dataframe\">\n",
       "  <thead>\n",
       "    <tr style=\"text-align: right;\">\n",
       "      <th></th>\n",
       "      <th>PassengerId</th>\n",
       "      <th>Survived</th>\n",
       "      <th>Pclass</th>\n",
       "      <th>Name</th>\n",
       "      <th>Sex</th>\n",
       "      <th>Age</th>\n",
       "      <th>SibSp</th>\n",
       "      <th>Parch</th>\n",
       "      <th>Fare</th>\n",
       "      <th>Cabin</th>\n",
       "      <th>Embarked</th>\n",
       "    </tr>\n",
       "  </thead>\n",
       "  <tbody>\n",
       "    <tr>\n",
       "      <th>888</th>\n",
       "      <td>889</td>\n",
       "      <td>0</td>\n",
       "      <td>3</td>\n",
       "      <td>Johnston, Miss. Catherine Helen \"Carrie\"</td>\n",
       "      <td>female</td>\n",
       "      <td>NaN</td>\n",
       "      <td>1</td>\n",
       "      <td>2</td>\n",
       "      <td>23.45</td>\n",
       "      <td>NaN</td>\n",
       "      <td>S</td>\n",
       "    </tr>\n",
       "    <tr>\n",
       "      <th>889</th>\n",
       "      <td>890</td>\n",
       "      <td>1</td>\n",
       "      <td>1</td>\n",
       "      <td>Behr, Mr. Karl Howell</td>\n",
       "      <td>male</td>\n",
       "      <td>26.0</td>\n",
       "      <td>0</td>\n",
       "      <td>0</td>\n",
       "      <td>30.00</td>\n",
       "      <td>C148</td>\n",
       "      <td>C</td>\n",
       "    </tr>\n",
       "    <tr>\n",
       "      <th>890</th>\n",
       "      <td>891</td>\n",
       "      <td>0</td>\n",
       "      <td>3</td>\n",
       "      <td>Dooley, Mr. Patrick</td>\n",
       "      <td>male</td>\n",
       "      <td>32.0</td>\n",
       "      <td>0</td>\n",
       "      <td>0</td>\n",
       "      <td>7.75</td>\n",
       "      <td>NaN</td>\n",
       "      <td>Q</td>\n",
       "    </tr>\n",
       "  </tbody>\n",
       "</table>\n",
       "</div>"
      ],
      "text/plain": [
       "     PassengerId  Survived  Pclass                                      Name  \\\n",
       "888          889         0       3  Johnston, Miss. Catherine Helen \"Carrie\"   \n",
       "889          890         1       1                     Behr, Mr. Karl Howell   \n",
       "890          891         0       3                       Dooley, Mr. Patrick   \n",
       "\n",
       "        Sex   Age  SibSp  Parch   Fare Cabin Embarked  \n",
       "888  female   NaN      1      2  23.45   NaN        S  \n",
       "889    male  26.0      0      0  30.00  C148        C  \n",
       "890    male  32.0      0      0   7.75   NaN        Q  "
      ]
     },
     "execution_count": 295,
     "metadata": {},
     "output_type": "execute_result"
    }
   ],
   "source": [
    "titanic2.tail(3)"
   ]
  },
  {
   "cell_type": "markdown",
   "id": "6ad23149",
   "metadata": {},
   "source": [
    "#### 2) age 결측치 -> 평균 / embarked 결측치 -> 최빈값 인 titanic3 만들라"
   ]
  },
  {
   "cell_type": "code",
   "execution_count": 306,
   "id": "f77a78d5",
   "metadata": {},
   "outputs": [],
   "source": [
    "am=titanic2['Age'].mean()"
   ]
  },
  {
   "cell_type": "code",
   "execution_count": 313,
   "id": "b4f9f662",
   "metadata": {},
   "outputs": [
    {
     "data": {
      "text/plain": [
       "S    644\n",
       "C    168\n",
       "Q     77\n",
       "Name: Embarked, dtype: int64"
      ]
     },
     "execution_count": 313,
     "metadata": {},
     "output_type": "execute_result"
    }
   ],
   "source": [
    "titanic2[\"Embarked\"].value_counts()"
   ]
  },
  {
   "cell_type": "code",
   "execution_count": 315,
   "id": "4ab1db5a",
   "metadata": {},
   "outputs": [],
   "source": [
    "values={\"Age\":am,\"Embarked\":\"S\"}"
   ]
  },
  {
   "cell_type": "code",
   "execution_count": 316,
   "id": "0885a1cd",
   "metadata": {},
   "outputs": [],
   "source": [
    "titanic3=titanic2.fillna(value=values)"
   ]
  },
  {
   "cell_type": "code",
   "execution_count": 318,
   "id": "64e5b4a5",
   "metadata": {},
   "outputs": [
    {
     "name": "stdout",
     "output_type": "stream",
     "text": [
      "<class 'pandas.core.frame.DataFrame'>\n",
      "RangeIndex: 891 entries, 0 to 890\n",
      "Data columns (total 11 columns):\n",
      " #   Column       Non-Null Count  Dtype  \n",
      "---  ------       --------------  -----  \n",
      " 0   PassengerId  891 non-null    int64  \n",
      " 1   Survived     891 non-null    int64  \n",
      " 2   Pclass       891 non-null    int64  \n",
      " 3   Name         891 non-null    object \n",
      " 4   Sex          891 non-null    object \n",
      " 5   Age          891 non-null    float64\n",
      " 6   SibSp        891 non-null    int64  \n",
      " 7   Parch        891 non-null    int64  \n",
      " 8   Fare         891 non-null    float64\n",
      " 9   Cabin        204 non-null    object \n",
      " 10  Embarked     891 non-null    object \n",
      "dtypes: float64(2), int64(5), object(4)\n",
      "memory usage: 76.7+ KB\n"
     ]
    }
   ],
   "source": [
    "titanic3.info()"
   ]
  },
  {
   "cell_type": "markdown",
   "id": "7f809237",
   "metadata": {},
   "source": [
    "#### 3) titanic3 의 집계 실시 -> Survived 그룹별 분포 / Survived 그룹별 Age 평균 / Pclass그룹별 분포 / Survived x Pclass 별 분포"
   ]
  },
  {
   "cell_type": "code",
   "execution_count": 319,
   "id": "760d1cb5",
   "metadata": {},
   "outputs": [
    {
     "name": "stdout",
     "output_type": "stream",
     "text": [
      "<class 'pandas.core.frame.DataFrame'>\n",
      "RangeIndex: 891 entries, 0 to 890\n",
      "Data columns (total 11 columns):\n",
      " #   Column       Non-Null Count  Dtype  \n",
      "---  ------       --------------  -----  \n",
      " 0   PassengerId  891 non-null    int64  \n",
      " 1   Survived     891 non-null    int64  \n",
      " 2   Pclass       891 non-null    int64  \n",
      " 3   Name         891 non-null    object \n",
      " 4   Sex          891 non-null    object \n",
      " 5   Age          891 non-null    float64\n",
      " 6   SibSp        891 non-null    int64  \n",
      " 7   Parch        891 non-null    int64  \n",
      " 8   Fare         891 non-null    float64\n",
      " 9   Cabin        204 non-null    object \n",
      " 10  Embarked     891 non-null    object \n",
      "dtypes: float64(2), int64(5), object(4)\n",
      "memory usage: 76.7+ KB\n"
     ]
    }
   ],
   "source": [
    "titanic3.info()"
   ]
  },
  {
   "cell_type": "code",
   "execution_count": 334,
   "id": "57b2bb17",
   "metadata": {},
   "outputs": [
    {
     "data": {
      "text/plain": [
       "0    549\n",
       "1    342\n",
       "Name: Survived, dtype: int64"
      ]
     },
     "execution_count": 334,
     "metadata": {},
     "output_type": "execute_result"
    }
   ],
   "source": [
    "#Survived 그룹별 분포\n",
    "titanic3.Survived.value_counts()"
   ]
  },
  {
   "cell_type": "code",
   "execution_count": 335,
   "id": "b18b9e6e",
   "metadata": {},
   "outputs": [
    {
     "data": {
      "text/plain": [
       "0"
      ]
     },
     "execution_count": 335,
     "metadata": {},
     "output_type": "execute_result"
    }
   ],
   "source": [
    "titanic3.Survived[0]"
   ]
  },
  {
   "cell_type": "code",
   "execution_count": 336,
   "id": "8286426a",
   "metadata": {},
   "outputs": [],
   "source": [
    "s_avg0,count0=0,0\n",
    "s_avg1,count1=0,0"
   ]
  },
  {
   "cell_type": "code",
   "execution_count": 337,
   "id": "3412f81a",
   "metadata": {},
   "outputs": [],
   "source": [
    "for i in range(len(titanic3)):\n",
    "    if titanic3.Survived[i]==0:\n",
    "        s_avg0=s_avg0+titanic3.Age[i]\n",
    "        count0=count0+1\n",
    "    else:\n",
    "        s_avg1=s_avg1+titanic3.Age[i]\n",
    "        count1=count1+1"
   ]
  },
  {
   "cell_type": "code",
   "execution_count": 338,
   "id": "ff8c5a21",
   "metadata": {},
   "outputs": [],
   "source": [
    "s_avg0=s_avg0/count0\n",
    "s_avg1=s_avg1/count1"
   ]
  },
  {
   "cell_type": "code",
   "execution_count": 340,
   "id": "15264268",
   "metadata": {},
   "outputs": [
    {
     "name": "stdout",
     "output_type": "stream",
     "text": [
      "30.415099646415896 28.54977812177503\n"
     ]
    }
   ],
   "source": [
    "#Survived 그룹별 Age 평균\n",
    "print(s_avg0,s_avg1)"
   ]
  },
  {
   "cell_type": "code",
   "execution_count": 356,
   "id": "861ae1b2",
   "metadata": {},
   "outputs": [
    {
     "data": {
      "text/plain": [
       "2    184\n",
       "1    216\n",
       "3    491\n",
       "Name: Pclass, dtype: int64"
      ]
     },
     "execution_count": 356,
     "metadata": {},
     "output_type": "execute_result"
    }
   ],
   "source": [
    "# Pclass그룹별 분포\n",
    "titanic3.Pclass.value_counts(ascending=True)"
   ]
  },
  {
   "cell_type": "code",
   "execution_count": 363,
   "id": "4bcb8e38",
   "metadata": {},
   "outputs": [
    {
     "data": {
      "text/plain": [
       "Survived  Pclass\n",
       "0         3         372\n",
       "1         1         136\n",
       "          3         119\n",
       "0         2          97\n",
       "1         2          87\n",
       "0         1          80\n",
       "dtype: int64"
      ]
     },
     "execution_count": 363,
     "metadata": {},
     "output_type": "execute_result"
    }
   ],
   "source": [
    "#Survived x Pclass 별 분포\n",
    "titanic3[[\"Survived\",\"Pclass\"]].value_counts()"
   ]
  },
  {
   "cell_type": "markdown",
   "id": "2751b6cd",
   "metadata": {},
   "source": [
    "#### 4) Age>70인 행만 출력하고 titanic 4 만들고 titanic에서 PassengerID 와 Name만 추출하여 titanic 5만들고 PassengerID값으로 내부조인하라"
   ]
  },
  {
   "cell_type": "code",
   "execution_count": 368,
   "id": "63ca144d",
   "metadata": {
    "scrolled": true
   },
   "outputs": [
    {
     "data": {
      "text/plain": [
       "PassengerId                                                    2\n",
       "Survived                                                       1\n",
       "Pclass                                                         1\n",
       "Name           Cumings, Mrs. John Bradley (Florence Briggs Th...\n",
       "Sex                                                       female\n",
       "Age                                                         38.0\n",
       "SibSp                                                          1\n",
       "Parch                                                          0\n",
       "Fare                                                     71.2833\n",
       "Cabin                                                        C85\n",
       "Embarked                                                       C\n",
       "Name: 1, dtype: object"
      ]
     },
     "execution_count": 368,
     "metadata": {},
     "output_type": "execute_result"
    }
   ],
   "source": [
    "titanic3.loc[1]"
   ]
  },
  {
   "cell_type": "code",
   "execution_count": 385,
   "id": "46194e66",
   "metadata": {},
   "outputs": [],
   "source": [
    "titanic4=pd.DataFrame(index=titanic3.columns)"
   ]
  },
  {
   "cell_type": "code",
   "execution_count": 389,
   "id": "cbba0a50",
   "metadata": {},
   "outputs": [
    {
     "data": {
      "text/html": [
       "<div>\n",
       "<style scoped>\n",
       "    .dataframe tbody tr th:only-of-type {\n",
       "        vertical-align: middle;\n",
       "    }\n",
       "\n",
       "    .dataframe tbody tr th {\n",
       "        vertical-align: top;\n",
       "    }\n",
       "\n",
       "    .dataframe thead th {\n",
       "        text-align: right;\n",
       "    }\n",
       "</style>\n",
       "<table border=\"1\" class=\"dataframe\">\n",
       "  <thead>\n",
       "    <tr style=\"text-align: right;\">\n",
       "      <th></th>\n",
       "    </tr>\n",
       "  </thead>\n",
       "  <tbody>\n",
       "    <tr>\n",
       "      <th>PassengerId</th>\n",
       "    </tr>\n",
       "    <tr>\n",
       "      <th>Survived</th>\n",
       "    </tr>\n",
       "    <tr>\n",
       "      <th>Pclass</th>\n",
       "    </tr>\n",
       "    <tr>\n",
       "      <th>Name</th>\n",
       "    </tr>\n",
       "    <tr>\n",
       "      <th>Sex</th>\n",
       "    </tr>\n",
       "    <tr>\n",
       "      <th>Age</th>\n",
       "    </tr>\n",
       "    <tr>\n",
       "      <th>SibSp</th>\n",
       "    </tr>\n",
       "    <tr>\n",
       "      <th>Parch</th>\n",
       "    </tr>\n",
       "    <tr>\n",
       "      <th>Fare</th>\n",
       "    </tr>\n",
       "    <tr>\n",
       "      <th>Cabin</th>\n",
       "    </tr>\n",
       "    <tr>\n",
       "      <th>Embarked</th>\n",
       "    </tr>\n",
       "  </tbody>\n",
       "</table>\n",
       "</div>"
      ],
      "text/plain": [
       "Empty DataFrame\n",
       "Columns: []\n",
       "Index: [PassengerId, Survived, Pclass, Name, Sex, Age, SibSp, Parch, Fare, Cabin, Embarked]"
      ]
     },
     "execution_count": 389,
     "metadata": {},
     "output_type": "execute_result"
    }
   ],
   "source": [
    "titanic4"
   ]
  },
  {
   "cell_type": "code",
   "execution_count": 388,
   "id": "6105b43e",
   "metadata": {},
   "outputs": [
    {
     "ename": "TypeError",
     "evalue": "assign() takes 1 positional argument but 2 were given",
     "output_type": "error",
     "traceback": [
      "\u001b[1;31m---------------------------------------------------------------------------\u001b[0m",
      "\u001b[1;31mTypeError\u001b[0m                                 Traceback (most recent call last)",
      "\u001b[1;32m~\\AppData\\Local\\Temp/ipykernel_26840/2714103137.py\u001b[0m in \u001b[0;36m<module>\u001b[1;34m\u001b[0m\n\u001b[0;32m      1\u001b[0m \u001b[1;32mfor\u001b[0m \u001b[0mi\u001b[0m \u001b[1;32min\u001b[0m \u001b[0mrange\u001b[0m\u001b[1;33m(\u001b[0m\u001b[0mlen\u001b[0m\u001b[1;33m(\u001b[0m\u001b[0mtitanic3\u001b[0m\u001b[1;33m)\u001b[0m\u001b[1;33m)\u001b[0m\u001b[1;33m:\u001b[0m\u001b[1;33m\u001b[0m\u001b[1;33m\u001b[0m\u001b[0m\n\u001b[0;32m      2\u001b[0m     \u001b[1;32mif\u001b[0m \u001b[0mtitanic3\u001b[0m\u001b[1;33m.\u001b[0m\u001b[0mAge\u001b[0m\u001b[1;33m[\u001b[0m\u001b[0mi\u001b[0m\u001b[1;33m]\u001b[0m\u001b[1;33m>\u001b[0m\u001b[1;36m70\u001b[0m\u001b[1;33m:\u001b[0m\u001b[1;33m\u001b[0m\u001b[1;33m\u001b[0m\u001b[0m\n\u001b[1;32m----> 3\u001b[1;33m         \u001b[0mtitanic4\u001b[0m\u001b[1;33m=\u001b[0m\u001b[0mtitanic4\u001b[0m\u001b[1;33m.\u001b[0m\u001b[0massign\u001b[0m\u001b[1;33m(\u001b[0m\u001b[0mtitanic3\u001b[0m\u001b[1;33m.\u001b[0m\u001b[0mloc\u001b[0m\u001b[1;33m[\u001b[0m\u001b[0mi\u001b[0m\u001b[1;33m]\u001b[0m\u001b[1;33m)\u001b[0m\u001b[1;33m\u001b[0m\u001b[1;33m\u001b[0m\u001b[0m\n\u001b[0m",
      "\u001b[1;31mTypeError\u001b[0m: assign() takes 1 positional argument but 2 were given"
     ]
    }
   ],
   "source": [
    "for i in range(len(titanic3)):\n",
    "    if titanic3.Age[i]>70:\n",
    "        titanic4=titanic4.assign(titanic3.loc[i])"
   ]
  },
  {
   "cell_type": "markdown",
   "id": "f8df026d",
   "metadata": {},
   "source": [
    "#### [C] Matplotlib\n",
    "####  1) AGE&PRE4 산점도"
   ]
  },
  {
   "cell_type": "code",
   "execution_count": 451,
   "id": "27d68d1e",
   "metadata": {},
   "outputs": [],
   "source": [
    "TS=pd.read_csv('ThoraricSurgery.csv')"
   ]
  },
  {
   "cell_type": "code",
   "execution_count": 452,
   "id": "76cb028d",
   "metadata": {},
   "outputs": [
    {
     "data": {
      "text/html": [
       "<div>\n",
       "<style scoped>\n",
       "    .dataframe tbody tr th:only-of-type {\n",
       "        vertical-align: middle;\n",
       "    }\n",
       "\n",
       "    .dataframe tbody tr th {\n",
       "        vertical-align: top;\n",
       "    }\n",
       "\n",
       "    .dataframe thead th {\n",
       "        text-align: right;\n",
       "    }\n",
       "</style>\n",
       "<table border=\"1\" class=\"dataframe\">\n",
       "  <thead>\n",
       "    <tr style=\"text-align: right;\">\n",
       "      <th></th>\n",
       "      <th>id</th>\n",
       "      <th>DGN</th>\n",
       "      <th>PRE4</th>\n",
       "      <th>PRE5</th>\n",
       "      <th>PRE6</th>\n",
       "      <th>PRE7</th>\n",
       "      <th>PRE8</th>\n",
       "      <th>PRE9</th>\n",
       "      <th>PRE10</th>\n",
       "      <th>PRE11</th>\n",
       "      <th>PRE14</th>\n",
       "      <th>PRE17</th>\n",
       "      <th>PRE19</th>\n",
       "      <th>PRE25</th>\n",
       "      <th>PRE30</th>\n",
       "      <th>PRE32</th>\n",
       "      <th>AGE</th>\n",
       "      <th>Risk1Yr</th>\n",
       "    </tr>\n",
       "  </thead>\n",
       "  <tbody>\n",
       "    <tr>\n",
       "      <th>0</th>\n",
       "      <td>1</td>\n",
       "      <td>DGN2</td>\n",
       "      <td>2.88</td>\n",
       "      <td>2.16</td>\n",
       "      <td>PRZ1</td>\n",
       "      <td>F</td>\n",
       "      <td>F</td>\n",
       "      <td>F</td>\n",
       "      <td>T</td>\n",
       "      <td>T</td>\n",
       "      <td>OC14</td>\n",
       "      <td>F</td>\n",
       "      <td>F</td>\n",
       "      <td>F</td>\n",
       "      <td>T</td>\n",
       "      <td>F</td>\n",
       "      <td>60</td>\n",
       "      <td>F</td>\n",
       "    </tr>\n",
       "    <tr>\n",
       "      <th>1</th>\n",
       "      <td>2</td>\n",
       "      <td>DGN3</td>\n",
       "      <td>3.40</td>\n",
       "      <td>1.88</td>\n",
       "      <td>PRZ0</td>\n",
       "      <td>F</td>\n",
       "      <td>F</td>\n",
       "      <td>F</td>\n",
       "      <td>F</td>\n",
       "      <td>F</td>\n",
       "      <td>OC12</td>\n",
       "      <td>F</td>\n",
       "      <td>F</td>\n",
       "      <td>F</td>\n",
       "      <td>T</td>\n",
       "      <td>F</td>\n",
       "      <td>51</td>\n",
       "      <td>F</td>\n",
       "    </tr>\n",
       "    <tr>\n",
       "      <th>2</th>\n",
       "      <td>3</td>\n",
       "      <td>DGN3</td>\n",
       "      <td>2.76</td>\n",
       "      <td>2.08</td>\n",
       "      <td>PRZ1</td>\n",
       "      <td>F</td>\n",
       "      <td>F</td>\n",
       "      <td>F</td>\n",
       "      <td>T</td>\n",
       "      <td>F</td>\n",
       "      <td>OC11</td>\n",
       "      <td>F</td>\n",
       "      <td>F</td>\n",
       "      <td>F</td>\n",
       "      <td>T</td>\n",
       "      <td>F</td>\n",
       "      <td>59</td>\n",
       "      <td>F</td>\n",
       "    </tr>\n",
       "    <tr>\n",
       "      <th>3</th>\n",
       "      <td>4</td>\n",
       "      <td>DGN3</td>\n",
       "      <td>3.68</td>\n",
       "      <td>3.04</td>\n",
       "      <td>PRZ0</td>\n",
       "      <td>F</td>\n",
       "      <td>F</td>\n",
       "      <td>F</td>\n",
       "      <td>F</td>\n",
       "      <td>F</td>\n",
       "      <td>OC11</td>\n",
       "      <td>F</td>\n",
       "      <td>F</td>\n",
       "      <td>F</td>\n",
       "      <td>F</td>\n",
       "      <td>F</td>\n",
       "      <td>54</td>\n",
       "      <td>F</td>\n",
       "    </tr>\n",
       "    <tr>\n",
       "      <th>4</th>\n",
       "      <td>5</td>\n",
       "      <td>DGN3</td>\n",
       "      <td>2.44</td>\n",
       "      <td>0.96</td>\n",
       "      <td>PRZ2</td>\n",
       "      <td>F</td>\n",
       "      <td>T</td>\n",
       "      <td>F</td>\n",
       "      <td>T</td>\n",
       "      <td>T</td>\n",
       "      <td>OC11</td>\n",
       "      <td>F</td>\n",
       "      <td>F</td>\n",
       "      <td>F</td>\n",
       "      <td>T</td>\n",
       "      <td>F</td>\n",
       "      <td>73</td>\n",
       "      <td>T</td>\n",
       "    </tr>\n",
       "    <tr>\n",
       "      <th>...</th>\n",
       "      <td>...</td>\n",
       "      <td>...</td>\n",
       "      <td>...</td>\n",
       "      <td>...</td>\n",
       "      <td>...</td>\n",
       "      <td>...</td>\n",
       "      <td>...</td>\n",
       "      <td>...</td>\n",
       "      <td>...</td>\n",
       "      <td>...</td>\n",
       "      <td>...</td>\n",
       "      <td>...</td>\n",
       "      <td>...</td>\n",
       "      <td>...</td>\n",
       "      <td>...</td>\n",
       "      <td>...</td>\n",
       "      <td>...</td>\n",
       "      <td>...</td>\n",
       "    </tr>\n",
       "    <tr>\n",
       "      <th>465</th>\n",
       "      <td>466</td>\n",
       "      <td>DGN2</td>\n",
       "      <td>3.88</td>\n",
       "      <td>2.12</td>\n",
       "      <td>PRZ1</td>\n",
       "      <td>F</td>\n",
       "      <td>F</td>\n",
       "      <td>F</td>\n",
       "      <td>T</td>\n",
       "      <td>F</td>\n",
       "      <td>OC13</td>\n",
       "      <td>F</td>\n",
       "      <td>F</td>\n",
       "      <td>F</td>\n",
       "      <td>T</td>\n",
       "      <td>F</td>\n",
       "      <td>63</td>\n",
       "      <td>F</td>\n",
       "    </tr>\n",
       "    <tr>\n",
       "      <th>466</th>\n",
       "      <td>467</td>\n",
       "      <td>DGN3</td>\n",
       "      <td>3.76</td>\n",
       "      <td>3.12</td>\n",
       "      <td>PRZ0</td>\n",
       "      <td>F</td>\n",
       "      <td>F</td>\n",
       "      <td>F</td>\n",
       "      <td>F</td>\n",
       "      <td>F</td>\n",
       "      <td>OC11</td>\n",
       "      <td>F</td>\n",
       "      <td>F</td>\n",
       "      <td>F</td>\n",
       "      <td>T</td>\n",
       "      <td>F</td>\n",
       "      <td>61</td>\n",
       "      <td>F</td>\n",
       "    </tr>\n",
       "    <tr>\n",
       "      <th>467</th>\n",
       "      <td>468</td>\n",
       "      <td>DGN3</td>\n",
       "      <td>3.04</td>\n",
       "      <td>2.08</td>\n",
       "      <td>PRZ1</td>\n",
       "      <td>F</td>\n",
       "      <td>F</td>\n",
       "      <td>F</td>\n",
       "      <td>T</td>\n",
       "      <td>F</td>\n",
       "      <td>OC13</td>\n",
       "      <td>F</td>\n",
       "      <td>F</td>\n",
       "      <td>F</td>\n",
       "      <td>F</td>\n",
       "      <td>F</td>\n",
       "      <td>52</td>\n",
       "      <td>F</td>\n",
       "    </tr>\n",
       "    <tr>\n",
       "      <th>468</th>\n",
       "      <td>469</td>\n",
       "      <td>DGN3</td>\n",
       "      <td>1.96</td>\n",
       "      <td>1.68</td>\n",
       "      <td>PRZ1</td>\n",
       "      <td>F</td>\n",
       "      <td>F</td>\n",
       "      <td>F</td>\n",
       "      <td>T</td>\n",
       "      <td>T</td>\n",
       "      <td>OC12</td>\n",
       "      <td>F</td>\n",
       "      <td>F</td>\n",
       "      <td>F</td>\n",
       "      <td>T</td>\n",
       "      <td>F</td>\n",
       "      <td>79</td>\n",
       "      <td>F</td>\n",
       "    </tr>\n",
       "    <tr>\n",
       "      <th>469</th>\n",
       "      <td>470</td>\n",
       "      <td>DGN3</td>\n",
       "      <td>4.72</td>\n",
       "      <td>3.56</td>\n",
       "      <td>PRZ0</td>\n",
       "      <td>F</td>\n",
       "      <td>F</td>\n",
       "      <td>F</td>\n",
       "      <td>F</td>\n",
       "      <td>F</td>\n",
       "      <td>OC12</td>\n",
       "      <td>F</td>\n",
       "      <td>F</td>\n",
       "      <td>F</td>\n",
       "      <td>T</td>\n",
       "      <td>F</td>\n",
       "      <td>51</td>\n",
       "      <td>F</td>\n",
       "    </tr>\n",
       "  </tbody>\n",
       "</table>\n",
       "<p>470 rows × 18 columns</p>\n",
       "</div>"
      ],
      "text/plain": [
       "      id   DGN  PRE4  PRE5  PRE6 PRE7 PRE8 PRE9 PRE10 PRE11 PRE14 PRE17 PRE19  \\\n",
       "0      1  DGN2  2.88  2.16  PRZ1    F    F    F     T     T  OC14     F     F   \n",
       "1      2  DGN3  3.40  1.88  PRZ0    F    F    F     F     F  OC12     F     F   \n",
       "2      3  DGN3  2.76  2.08  PRZ1    F    F    F     T     F  OC11     F     F   \n",
       "3      4  DGN3  3.68  3.04  PRZ0    F    F    F     F     F  OC11     F     F   \n",
       "4      5  DGN3  2.44  0.96  PRZ2    F    T    F     T     T  OC11     F     F   \n",
       "..   ...   ...   ...   ...   ...  ...  ...  ...   ...   ...   ...   ...   ...   \n",
       "465  466  DGN2  3.88  2.12  PRZ1    F    F    F     T     F  OC13     F     F   \n",
       "466  467  DGN3  3.76  3.12  PRZ0    F    F    F     F     F  OC11     F     F   \n",
       "467  468  DGN3  3.04  2.08  PRZ1    F    F    F     T     F  OC13     F     F   \n",
       "468  469  DGN3  1.96  1.68  PRZ1    F    F    F     T     T  OC12     F     F   \n",
       "469  470  DGN3  4.72  3.56  PRZ0    F    F    F     F     F  OC12     F     F   \n",
       "\n",
       "    PRE25 PRE30 PRE32  AGE Risk1Yr  \n",
       "0       F     T     F   60       F  \n",
       "1       F     T     F   51       F  \n",
       "2       F     T     F   59       F  \n",
       "3       F     F     F   54       F  \n",
       "4       F     T     F   73       T  \n",
       "..    ...   ...   ...  ...     ...  \n",
       "465     F     T     F   63       F  \n",
       "466     F     T     F   61       F  \n",
       "467     F     F     F   52       F  \n",
       "468     F     T     F   79       F  \n",
       "469     F     T     F   51       F  \n",
       "\n",
       "[470 rows x 18 columns]"
      ]
     },
     "execution_count": 452,
     "metadata": {},
     "output_type": "execute_result"
    }
   ],
   "source": [
    "TS"
   ]
  },
  {
   "cell_type": "code",
   "execution_count": 393,
   "id": "fc14bb64",
   "metadata": {},
   "outputs": [],
   "source": [
    "import pandas as pd\n",
    "import numpy as np\n",
    "import matplotlib.pyplot as plt"
   ]
  },
  {
   "cell_type": "code",
   "execution_count": 395,
   "id": "ff2d6829",
   "metadata": {},
   "outputs": [
    {
     "data": {
      "text/plain": [
       "<matplotlib.collections.PathCollection at 0x11d3479caf0>"
      ]
     },
     "execution_count": 395,
     "metadata": {},
     "output_type": "execute_result"
    },
    {
     "data": {
      "image/png": "[encoded data removed]",
      "text/plain": [
       "<Figure size 432x288 with 1 Axes>"
      ]
     },
     "metadata": {
      "needs_background": "light"
     },
     "output_type": "display_data"
    }
   ],
   "source": [
    "plt.scatter(TS.AGE,TS.PRE4)"
   ]
  },
  {
   "cell_type": "markdown",
   "id": "6f48fa30",
   "metadata": {},
   "source": [
    "#### 2) AGE에 대한 히스토그램"
   ]
  },
  {
   "cell_type": "code",
   "execution_count": 406,
   "id": "6e6ccf52",
   "metadata": {},
   "outputs": [
    {
     "data": {
      "text/plain": [
       "(array([ 1.,  0.,  0.,  0.,  1.,  4.,  3.,  8.,  9., 31., 74., 70., 77.,\n",
       "        50., 48., 40., 39., 10.,  3.,  2.]),\n",
       " array([21. , 24.3, 27.6, 30.9, 34.2, 37.5, 40.8, 44.1, 47.4, 50.7, 54. ,\n",
       "        57.3, 60.6, 63.9, 67.2, 70.5, 73.8, 77.1, 80.4, 83.7, 87. ]),\n",
       " <BarContainer object of 20 artists>)"
      ]
     },
     "execution_count": 406,
     "metadata": {},
     "output_type": "execute_result"
    },
    {
     "data": {
      "image/png": "[encoded data removed]",
      "text/plain": [
       "<Figure size 432x288 with 2 Axes>"
      ]
     },
     "metadata": {
      "needs_background": "light"
     },
     "output_type": "display_data"
    }
   ],
   "source": [
    "plt.subplot(1,2,1)\n",
    "plt.hist(TS.AGE,bins=10)\n",
    "plt.subplot(1,2,2)\n",
    "plt.hist(TS.AGE,bins=20)"
   ]
  },
  {
   "cell_type": "markdown",
   "id": "dcb105ab",
   "metadata": {},
   "source": [
    "#### 3) Risk1Yr에 대한 파이차트(pie chart)"
   ]
  },
  {
   "cell_type": "code",
   "execution_count": 418,
   "id": "64f6135d",
   "metadata": {},
   "outputs": [
    {
     "data": {
      "text/plain": [
       "F    400\n",
       "T     70\n",
       "Name: Risk1Yr, dtype: int64"
      ]
     },
     "execution_count": 418,
     "metadata": {},
     "output_type": "execute_result"
    }
   ],
   "source": [
    "TS[\"Risk1Yr\"].value_counts()"
   ]
  },
  {
   "cell_type": "code",
   "execution_count": 419,
   "id": "8ac02bfe",
   "metadata": {
    "scrolled": true
   },
   "outputs": [
    {
     "data": {
      "image/png": "[encoded data removed]",
      "text/plain": [
       "<Figure size 432x288 with 1 Axes>"
      ]
     },
     "metadata": {},
     "output_type": "display_data"
    }
   ],
   "source": [
    "plt.pie(TS[\"Risk1Yr\"].value_counts())\n",
    "plt.show()"
   ]
  },
  {
   "cell_type": "markdown",
   "id": "fe947e10",
   "metadata": {},
   "source": [
    "#### 4) FRE14별 PRE5평균의 막대그래프"
   ]
  },
  {
   "cell_type": "code",
   "execution_count": 453,
   "id": "99142070",
   "metadata": {
    "scrolled": true
   },
   "outputs": [
    {
     "data": {
      "text/plain": [
       "OC12    56.252299\n",
       "OC11    38.741856\n",
       "OC13     4.158730\n",
       "OC14     3.720969\n",
       "Name: PRE14, dtype: float64"
      ]
     },
     "execution_count": 453,
     "metadata": {},
     "output_type": "execute_result"
    }
   ],
   "source": [
    "TS[\"PRE14\"].value_counts()/TS[\"PRE5\"].mean()"
   ]
  },
  {
   "cell_type": "code",
   "execution_count": 454,
   "id": "eba077cc",
   "metadata": {},
   "outputs": [],
   "source": [
    "df=pd.DataFrame({'PRE14':['OC12','OC11','OC13','OC14'],'val':[56.252299,38.741856,4.158730,3.720969]})"
   ]
  },
  {
   "cell_type": "code",
   "execution_count": 455,
   "id": "201cae92",
   "metadata": {},
   "outputs": [
    {
     "data": {
      "text/plain": [
       "<AxesSubplot:xlabel='PRE14'>"
      ]
     },
     "execution_count": 455,
     "metadata": {},
     "output_type": "execute_result"
    },
    {
     "data": {
      "image/png": "[encoded data removed]",
      "text/plain": [
       "<Figure size 432x288 with 1 Axes>"
      ]
     },
     "metadata": {
      "needs_background": "light"
     },
     "output_type": "display_data"
    }
   ],
   "source": [
    "df.plot.bar(x='PRE14',y='val')"
   ]
  }
 ],
 "metadata": {
  "kernelspec": {
   "display_name": "Python 3 (ipykernel)",
   "language": "python",
   "name": "python3"
  },
  "language_info": {
   "codemirror_mode": {
    "name": "ipython",
    "version": 3
   },
   "file_extension": ".py",
   "mimetype": "text/x-python",
   "name": "python",
   "nbconvert_exporter": "python",
   "pygments_lexer": "ipython3",
   "version": "3.8.8"
  }
 },
 "nbformat": 4,
 "nbformat_minor": 5
}
