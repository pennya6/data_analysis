{
 "cells": [
  {
   "cell_type": "code",
   "execution_count": 1,
   "id": "0bdc9615",
   "metadata": {},
   "outputs": [],
   "source": [
    "# 이진분류\n",
    "# positive class (1) : 좀더 중요한(심각한)클래스 'M'\n",
    "# negativce class(0) : 'B'"
   ]
  },
  {
   "cell_type": "code",
   "execution_count": 2,
   "id": "0357eea6",
   "metadata": {},
   "outputs": [],
   "source": [
    "import numpy as np\n",
    "import pandas as pd\n",
    "import matplotlib.pyplot as plt"
   ]
  },
  {
   "cell_type": "code",
   "execution_count": 6,
   "id": "579caf35",
   "metadata": {},
   "outputs": [],
   "source": [
    "path='https://archive.ics.uci.edu/ml/machine-learning-databases/breast-cancer-wisconsin/wdbc.data'"
   ]
  },
  {
   "cell_type": "code",
   "execution_count": 7,
   "id": "a03943dd",
   "metadata": {},
   "outputs": [],
   "source": [
    "df=pd.read_csv(path,header=None)"
   ]
  },
  {
   "cell_type": "code",
   "execution_count": 9,
   "id": "99d7343d",
   "metadata": {},
   "outputs": [],
   "source": [
    "X = df.iloc[:,2:] #2번째 열부터 마지막까지\n",
    "y = df.iloc[:, 1] #1번째 열"
   ]
  },
  {
   "cell_type": "code",
   "execution_count": 10,
   "id": "a9f38131",
   "metadata": {},
   "outputs": [
    {
     "data": {
      "text/plain": [
       "0    357\n",
       "1    212\n",
       "dtype: int64"
      ]
     },
     "execution_count": 10,
     "metadata": {},
     "output_type": "execute_result"
    }
   ],
   "source": [
    "from sklearn.preprocessing import LabelEncoder\n",
    "label_encoder = LabelEncoder()\n",
    "y = label_encoder.fit_transform(y)\n",
    "pd.DataFrame(y).value_counts()"
   ]
  },
  {
   "cell_type": "code",
   "execution_count": 11,
   "id": "9cc493c4",
   "metadata": {},
   "outputs": [],
   "source": [
    "from sklearn.model_selection import train_test_split\n",
    "X_train, X_test, y_train, y_test = train_test_split(X, y, test_size=0.2, stratify=y, random_state=1)"
   ]
  },
  {
   "cell_type": "code",
   "execution_count": 12,
   "id": "d434e507",
   "metadata": {},
   "outputs": [],
   "source": [
    "from sklearn.preprocessing import StandardScaler\n",
    "from sklearn.decomposition import PCA\n",
    "from sklearn.linear_model import LogisticRegression\n",
    "from sklearn.pipeline import make_pipeline\n",
    "pipe_line = make_pipeline(StandardScaler(), PCA(n_components=2),\n",
    "LogisticRegression(random_state=1))"
   ]
  },
  {
   "cell_type": "code",
   "execution_count": 13,
   "id": "31709b4d",
   "metadata": {},
   "outputs": [
    {
     "data": {
      "text/plain": [
       "Pipeline(steps=[('standardscaler', StandardScaler()),\n",
       "                ('pca', PCA(n_components=2)),\n",
       "                ('logisticregression', LogisticRegression(random_state=1))])"
      ]
     },
     "execution_count": 13,
     "metadata": {},
     "output_type": "execute_result"
    }
   ],
   "source": [
    "pipe_line.fit(X_train,y_train)"
   ]
  },
  {
   "cell_type": "code",
   "execution_count": 16,
   "id": "a82949f9",
   "metadata": {},
   "outputs": [],
   "source": [
    "p=pipe_line.predict(X_test)"
   ]
  },
  {
   "cell_type": "code",
   "execution_count": 15,
   "id": "9791d304",
   "metadata": {},
   "outputs": [
    {
     "data": {
      "text/plain": [
       "0.956140350877193"
      ]
     },
     "execution_count": 15,
     "metadata": {},
     "output_type": "execute_result"
    }
   ],
   "source": [
    "pipe_line.score(X_test,y_test)"
   ]
  },
  {
   "cell_type": "code",
   "execution_count": 18,
   "id": "c9bf00de",
   "metadata": {},
   "outputs": [
    {
     "data": {
      "text/plain": [
       "array([[71,  1],\n",
       "       [ 4, 38]], dtype=int64)"
      ]
     },
     "execution_count": 18,
     "metadata": {},
     "output_type": "execute_result"
    }
   ],
   "source": [
    "from sklearn.metrics import confusion_matrix\n",
    "confusion_matrix(y_test,p) #실제값, 예측값 순\n",
    "# 4명은 실제 맞는데 아니라고 한거\n",
    "# 1명은 아닌데 맞다고 오진단한거"
   ]
  },
  {
   "cell_type": "markdown",
   "id": "9af4dbd3",
   "metadata": {},
   "source": [
    "### 모델튜닝 : 모델의 하이퍼 파라미터 조정하는 법\n",
    "#### 모델튜닝=모델선택\n",
    "인수 선택및 조정 방법  \n",
    "여러개 시도후 좋은 모델 선택  \n",
    "모델 튜닝에 사용하는 데이터를 검증용 데이터라고 한다.  \n",
    "#### 교차검증 \n",
    "#### 5-fold  : 4/5는 훈련, 1/5는 검증 이런식으로 검증데이터를 바꿈 즉 5번 반복해서 할 수 있는 방법\n",
    "#### C, gamma를 알아내기 위해서는 교차검증등의 방법을 활용해서 구한다"
   ]
  },
  {
   "cell_type": "code",
   "execution_count": 22,
   "id": "76ac1132",
   "metadata": {},
   "outputs": [],
   "source": [
    "from sklearn.model_selection import cross_val_score\n",
    "scores=cross_val_score(estimator=pipe_line,X=X_train,y=y_train,cv=10,n_jobs=-1)"
   ]
  },
  {
   "cell_type": "code",
   "execution_count": 23,
   "id": "c7ea5b8c",
   "metadata": {},
   "outputs": [
    {
     "data": {
      "text/plain": [
       "array([0.93478261, 0.93478261, 0.95652174, 0.95652174, 0.93478261,\n",
       "       0.95555556, 0.97777778, 0.93333333, 0.95555556, 0.95555556])"
      ]
     },
     "execution_count": 23,
     "metadata": {},
     "output_type": "execute_result"
    }
   ],
   "source": [
    "scores"
   ]
  },
  {
   "cell_type": "code",
   "execution_count": 24,
   "id": "d1bf4902",
   "metadata": {},
   "outputs": [
    {
     "data": {
      "text/plain": [
       "0.9495169082125603"
      ]
     },
     "execution_count": 24,
     "metadata": {},
     "output_type": "execute_result"
    }
   ],
   "source": [
    "np.mean(scores)"
   ]
  },
  {
   "cell_type": "code",
   "execution_count": 25,
   "id": "b7a8a369",
   "metadata": {},
   "outputs": [],
   "source": [
    "# 하이퍼파라미터 선택방법\n",
    "#결정트리 사용\n",
    "from sklearn.tree import DecisionTreeClassifier"
   ]
  },
  {
   "cell_type": "code",
   "execution_count": 29,
   "id": "591f640c",
   "metadata": {},
   "outputs": [
    {
     "name": "stdout",
     "output_type": "stream",
     "text": [
      "1 0.8813186813186814\n",
      "2 0.9318681318681319\n",
      "3 0.9296703296703297\n",
      "4 0.9406593406593406\n",
      "5 0.9384615384615385\n",
      "6 0.9362637362637363\n",
      "7 0.9406593406593406\n",
      "8 0.9406593406593406\n",
      "9 0.9406593406593406\n",
      "10 0.9406593406593406\n"
     ]
    }
   ],
   "source": [
    "best_score=0\n",
    "#반복문으로 작성\n",
    "for k in range(1,11):\n",
    "    scores=cross_val_score(estimator=DecisionTreeClassifier(max_depth=k,random_state=1),X=X_train,y=y_train,cv=5,n_jobs=-1)\n",
    "    print(k,np.mean(scores))\n",
    "    if np.mean(scores)>best_score:\n",
    "        best_score=np.mean(scores)\n",
    "        best_parameter={'max_depth':k}"
   ]
  },
  {
   "cell_type": "code",
   "execution_count": 30,
   "id": "8db08636",
   "metadata": {},
   "outputs": [
    {
     "data": {
      "text/plain": [
       "0.9406593406593406"
      ]
     },
     "execution_count": 30,
     "metadata": {},
     "output_type": "execute_result"
    }
   ],
   "source": [
    "best_score"
   ]
  },
  {
   "cell_type": "code",
   "execution_count": 31,
   "id": "c4dedb0e",
   "metadata": {},
   "outputs": [
    {
     "data": {
      "text/plain": [
       "{'max_depth': 4}"
      ]
     },
     "execution_count": 31,
     "metadata": {},
     "output_type": "execute_result"
    }
   ],
   "source": [
    "best_parameter"
   ]
  },
  {
   "cell_type": "code",
   "execution_count": 34,
   "id": "b0bb4874",
   "metadata": {},
   "outputs": [],
   "source": [
    "best_tree=DecisionTreeClassifier(**best_parameter)"
   ]
  },
  {
   "cell_type": "code",
   "execution_count": 36,
   "id": "30c64c4c",
   "metadata": {},
   "outputs": [
    {
     "data": {
      "text/plain": [
       "DecisionTreeClassifier(max_depth=4)"
      ]
     },
     "execution_count": 36,
     "metadata": {},
     "output_type": "execute_result"
    }
   ],
   "source": [
    "best_tree.fit(X_train,y_train)"
   ]
  },
  {
   "cell_type": "code",
   "execution_count": 37,
   "id": "c52e9238",
   "metadata": {},
   "outputs": [
    {
     "data": {
      "text/plain": [
       "0.9385964912280702"
      ]
     },
     "execution_count": 37,
     "metadata": {},
     "output_type": "execute_result"
    }
   ],
   "source": [
    "best_tree.score(X_test,y_test)"
   ]
  },
  {
   "cell_type": "markdown",
   "id": "1c40b4ef",
   "metadata": {},
   "source": [
    "### 그리드 서치 방법으로 위의 내용을 대신 처리할 수 있음 "
   ]
  },
  {
   "cell_type": "code",
   "execution_count": 38,
   "id": "3512e7e4",
   "metadata": {},
   "outputs": [],
   "source": [
    "from sklearn.model_selection import GridSearchCV"
   ]
  },
  {
   "cell_type": "code",
   "execution_count": 39,
   "id": "7cff9c96",
   "metadata": {},
   "outputs": [],
   "source": [
    "my_grid={'max_depth':range(1,11)}"
   ]
  },
  {
   "cell_type": "code",
   "execution_count": 40,
   "id": "23ebb022",
   "metadata": {},
   "outputs": [],
   "source": [
    "gscv=GridSearchCV(estimator=DecisionTreeClassifier(random_state=1), param_grid=my_grid,scoring='accuracy',cv=5,n_jobs=-1)"
   ]
  },
  {
   "cell_type": "code",
   "execution_count": 41,
   "id": "1fd71a6f",
   "metadata": {},
   "outputs": [
    {
     "data": {
      "text/plain": [
       "GridSearchCV(cv=5, estimator=DecisionTreeClassifier(random_state=1), n_jobs=-1,\n",
       "             param_grid={'max_depth': range(1, 11)}, scoring='accuracy')"
      ]
     },
     "execution_count": 41,
     "metadata": {},
     "output_type": "execute_result"
    }
   ],
   "source": [
    "gscv.fit(X_train,y_train)"
   ]
  },
  {
   "cell_type": "code",
   "execution_count": 42,
   "id": "fe258051",
   "metadata": {},
   "outputs": [
    {
     "data": {
      "text/plain": [
       "0.9406593406593406"
      ]
     },
     "execution_count": 42,
     "metadata": {},
     "output_type": "execute_result"
    }
   ],
   "source": [
    "gscv.best_score_"
   ]
  },
  {
   "cell_type": "code",
   "execution_count": 43,
   "id": "57d6a171",
   "metadata": {},
   "outputs": [
    {
     "data": {
      "text/plain": [
       "{'max_depth': 4}"
      ]
     },
     "execution_count": 43,
     "metadata": {},
     "output_type": "execute_result"
    }
   ],
   "source": [
    "gscv.best_params_"
   ]
  },
  {
   "cell_type": "code",
   "execution_count": 45,
   "id": "37f87508",
   "metadata": {},
   "outputs": [
    {
     "name": "stdout",
     "output_type": "stream",
     "text": [
      "{'svc__C': 10.0, 'svc__gamma': 0.01}\n",
      "0.9736842105263158\n"
     ]
    }
   ],
   "source": [
    "# 6*6=36개 \n",
    "from sklearn.svm import SVC\n",
    "pipe_svc = make_pipeline(StandardScaler(), SVC(kernel='rbf', random_state=1))\n",
    "p_list = [0.001,0.01,0.1,1.0,10.0,100.0]\n",
    "param_grid = {'svc__C':p_list, 'svc__gamma':p_list}\n",
    "gs = GridSearchCV(estimator=pipe_svc, param_grid=param_grid, scoring='accuracy', cv=5, n_jobs=-1)\n",
    "gs.fit(X_train, y_train)\n",
    "print(gs.best_params_) #{'svc__C': 10.0, 'svc__gamma': 0.01}\n",
    "print(gs.score(X_test, y_test)) #0.9739"
   ]
  },
  {
   "cell_type": "code",
   "execution_count": null,
   "id": "9764e58f",
   "metadata": {},
   "outputs": [],
   "source": []
  },
  {
   "cell_type": "code",
   "execution_count": null,
   "id": "e71ced16",
   "metadata": {},
   "outputs": [],
   "source": []
  },
  {
   "cell_type": "markdown",
   "id": "f59496e2",
   "metadata": {},
   "source": [
    "### 과제 4 : y는 yes,no 로 나옴\n",
    "앞 정보를 가지고 가입할지 안할지 분류 모델을 만들기"
   ]
  },
  {
   "cell_type": "code",
   "execution_count": 47,
   "id": "dbc7d395",
   "metadata": {},
   "outputs": [],
   "source": [
    "# 앞으로는 딥러닝과 신경망 부분 학습\n",
    "# 텐서플로우 설치해서 오기"
   ]
  }
 ],
 "metadata": {
  "kernelspec": {
   "display_name": "Python 3 (ipykernel)",
   "language": "python",
   "name": "python3"
  },
  "language_info": {
   "codemirror_mode": {
    "name": "ipython",
    "version": 3
   },
   "file_extension": ".py",
   "mimetype": "text/x-python",
   "name": "python",
   "nbconvert_exporter": "python",
   "pygments_lexer": "ipython3",
   "version": "3.8.8"
  }
 },
 "nbformat": 4,
 "nbformat_minor": 5
}
