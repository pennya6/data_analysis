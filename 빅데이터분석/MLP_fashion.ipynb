{
 "cells": [
  {
   "cell_type": "code",
   "execution_count": 1,
   "id": "ca4032e4",
   "metadata": {},
   "outputs": [],
   "source": [
    "import tensorflow as tf\n",
    "import numpy as np\n",
    "import pandas as pd\n",
    "import matplotlib.pyplot as plt"
   ]
  },
  {
   "cell_type": "code",
   "execution_count": 2,
   "id": "6d205d26",
   "metadata": {},
   "outputs": [],
   "source": [
    "(X_train,y_train),(X_test,y_test)=tf.keras.datasets.fashion_mnist.load_data()"
   ]
  },
  {
   "cell_type": "code",
   "execution_count": 3,
   "id": "62708656",
   "metadata": {},
   "outputs": [],
   "source": [
    "#각 이미지는 28*28, 회색 스케일이며 숫자 0~255 정수로 이루어져 있음\n",
    "#따라서 간단하게 255.0로 나눔으로써 (0~255)->(0.0~1.0) 변환 \n",
    "X_train=X_train / 255.0\n",
    "X_test=X_test/255.0 #표준화"
   ]
  },
  {
   "cell_type": "code",
   "execution_count": 4,
   "id": "1c98abe4",
   "metadata": {},
   "outputs": [],
   "source": [
    "model=tf.keras.models.Sequential([\n",
    "    tf.keras.layers.Flatten(input_shape=[28,28]), #input shape 입력층\n",
    "    tf.keras.layers.Dense(300,activation='relu'), #은닉층, 유닛의 수 300, relu \n",
    "    tf.keras.layers.Dense(100,activation='relu'), #은닉층, 유닛의 수 100\n",
    "    tf.keras.layers.Dense(10,activation='softmax') #출력층 범주가 10개 이므로 유닛의 수 반드시 10개, 다진 분류이기 떄문에 softmax!\n",
    "])"
   ]
  },
  {
   "cell_type": "code",
   "execution_count": 5,
   "id": "faca3546",
   "metadata": {},
   "outputs": [],
   "source": [
    "#모델 컴파일 : 손실함수, 최적화알고리즘, 지표\n",
    "model.compile(loss='sparse_categorical_crossentropy', #sparse는 원핫인코딩하면 없고 인덱스로 하기 때문에 sparse을 붙어야함\n",
    "             optimizer='sgd',#확률적 경사 하강법\n",
    "             metrics=['accuracy'])"
   ]
  },
  {
   "cell_type": "code",
   "execution_count": 6,
   "id": "3c57e3a0",
   "metadata": {},
   "outputs": [
    {
     "name": "stdout",
     "output_type": "stream",
     "text": [
      "Epoch 1/10\n",
      "1688/1688 [==============================] - 7s 4ms/step - loss: 0.7396 - accuracy: 0.7564 - val_loss: 0.5329 - val_accuracy: 0.8152\n",
      "Epoch 2/10\n",
      "1688/1688 [==============================] - 7s 4ms/step - loss: 0.4903 - accuracy: 0.8299 - val_loss: 0.5508 - val_accuracy: 0.8018\n",
      "Epoch 3/10\n",
      "1688/1688 [==============================] - 6s 3ms/step - loss: 0.4447 - accuracy: 0.8448 - val_loss: 0.4579 - val_accuracy: 0.8430\n",
      "Epoch 4/10\n",
      "1688/1688 [==============================] - 5s 3ms/step - loss: 0.4176 - accuracy: 0.8538 - val_loss: 0.4041 - val_accuracy: 0.8553\n",
      "Epoch 5/10\n",
      "1688/1688 [==============================] - 6s 3ms/step - loss: 0.3972 - accuracy: 0.8605 - val_loss: 0.3997 - val_accuracy: 0.8535\n",
      "Epoch 6/10\n",
      "1688/1688 [==============================] - 8s 4ms/step - loss: 0.3822 - accuracy: 0.8655 - val_loss: 0.3881 - val_accuracy: 0.8625\n",
      "Epoch 7/10\n",
      "1688/1688 [==============================] - 6s 3ms/step - loss: 0.3681 - accuracy: 0.8711 - val_loss: 0.3853 - val_accuracy: 0.8597\n",
      "Epoch 8/10\n",
      "1688/1688 [==============================] - 6s 3ms/step - loss: 0.3562 - accuracy: 0.8752 - val_loss: 0.3874 - val_accuracy: 0.8628\n",
      "Epoch 9/10\n",
      "1688/1688 [==============================] - 6s 3ms/step - loss: 0.3455 - accuracy: 0.8781 - val_loss: 0.3824 - val_accuracy: 0.8588\n",
      "Epoch 10/10\n",
      "1688/1688 [==============================] - 6s 4ms/step - loss: 0.3354 - accuracy: 0.8812 - val_loss: 0.3664 - val_accuracy: 0.8700\n"
     ]
    }
   ],
   "source": [
    "#모델 훈련\n",
    "history = model.fit(X_train,y_train,epochs=10,validation_split=0.1)"
   ]
  },
  {
   "cell_type": "code",
   "execution_count": 7,
   "id": "94afdff7",
   "metadata": {},
   "outputs": [
    {
     "data": {
      "text/plain": [
       "tensorflow.python.keras.callbacks.History"
      ]
     },
     "execution_count": 7,
     "metadata": {},
     "output_type": "execute_result"
    }
   ],
   "source": [
    "type(history)"
   ]
  },
  {
   "cell_type": "code",
   "execution_count": 8,
   "id": "ab6ea518",
   "metadata": {},
   "outputs": [
    {
     "data": {
      "text/plain": [
       "<AxesSubplot:>"
      ]
     },
     "execution_count": 8,
     "metadata": {},
     "output_type": "execute_result"
    },
    {
     "data": {
      "image/png": "[encoded data removed]",
      "text/plain": [
       "<Figure size 432x288 with 1 Axes>"
      ]
     },
     "metadata": {
      "needs_background": "light"
     },
     "output_type": "display_data"
    }
   ],
   "source": [
    "#history 활용\n",
    "#그림 그리기\n",
    "#X축 에포크\n",
    "#학습곡선이라고 부름\n",
    "pd.DataFrame(history.history).plot()"
   ]
  },
  {
   "cell_type": "code",
   "execution_count": 9,
   "id": "64022f6b",
   "metadata": {},
   "outputs": [
    {
     "data": {
      "text/plain": [
       "array([[7.9471010e-06, 7.9595475e-06, 3.6379257e-05, 4.5097433e-05,\n",
       "        4.4382941e-05, 3.6046945e-02, 1.7040576e-04, 3.1133142e-01,\n",
       "        1.9052618e-03, 6.5040410e-01],\n",
       "       [9.5671247e-05, 2.6170903e-07, 9.6748233e-01, 8.6779937e-06,\n",
       "        2.0613361e-02, 1.0682362e-09, 1.1792075e-02, 1.7382363e-09,\n",
       "        7.4402151e-06, 1.1192783e-08],\n",
       "       [4.3589294e-05, 9.9990654e-01, 4.7251360e-06, 3.2067710e-05,\n",
       "        1.0892752e-05, 9.5151842e-09, 4.9704823e-07, 8.0134903e-09,\n",
       "        1.6945012e-06, 6.0660570e-09]], dtype=float32)"
      ]
     },
     "execution_count": 9,
     "metadata": {},
     "output_type": "execute_result"
    }
   ],
   "source": [
    "#예측방법\n",
    "#결과가 값이 10개씩 있음 -> 각 범주에 속할 확률을 의미\n",
    "#즉 가장 큰 값의 번호를 찾기\n",
    "model.predict(X_test[:3])"
   ]
  },
  {
   "cell_type": "code",
   "execution_count": 10,
   "id": "f9e57c3e",
   "metadata": {},
   "outputs": [
    {
     "data": {
      "text/plain": [
       "array([9, 2, 1], dtype=int64)"
      ]
     },
     "execution_count": 10,
     "metadata": {},
     "output_type": "execute_result"
    }
   ],
   "source": [
    "np.argmax(model.predict(X_test[:3]),axis=1) #예측값"
   ]
  },
  {
   "cell_type": "code",
   "execution_count": 11,
   "id": "42cdfee5",
   "metadata": {},
   "outputs": [
    {
     "data": {
      "text/plain": [
       "array([9, 2, 1], dtype=uint8)"
      ]
     },
     "execution_count": 11,
     "metadata": {},
     "output_type": "execute_result"
    }
   ],
   "source": [
    "y_test[:3] #진짜 값"
   ]
  },
  {
   "cell_type": "code",
   "execution_count": 12,
   "id": "4299d279",
   "metadata": {},
   "outputs": [
    {
     "name": "stdout",
     "output_type": "stream",
     "text": [
      "313/313 [==============================] - 1s 2ms/step - loss: 0.3874 - accuracy: 0.8624\n"
     ]
    },
    {
     "data": {
      "text/plain": [
       "[0.38736313581466675, 0.8623999953269958]"
      ]
     },
     "execution_count": 12,
     "metadata": {},
     "output_type": "execute_result"
    }
   ],
   "source": [
    "#정확도\n",
    "model.evaluate(X_test,y_test)"
   ]
  },
  {
   "cell_type": "code",
   "execution_count": 13,
   "id": "839df330",
   "metadata": {},
   "outputs": [],
   "source": [
    "p=np.argmax(model.predict(X_test),axis=1) #confusion matrix"
   ]
  },
  {
   "cell_type": "code",
   "execution_count": 14,
   "id": "59a177f7",
   "metadata": {},
   "outputs": [],
   "source": [
    "from sklearn.metrics import confusion_matrix"
   ]
  },
  {
   "cell_type": "code",
   "execution_count": 15,
   "id": "c772efb6",
   "metadata": {},
   "outputs": [
    {
     "data": {
      "text/plain": [
       "array([[784,   0,   8,  64,   2,   2, 127,   0,  13,   0],\n",
       "       [  3, 956,   2,  29,   3,   0,   6,   0,   1,   0],\n",
       "       [ 13,   2, 715,  19, 144,   0, 100,   1,   6,   0],\n",
       "       [ 15,   5,  10, 915,  21,   0,  29,   0,   5,   0],\n",
       "       [  0,   1,  63,  58, 800,   1,  74,   0,   3,   0],\n",
       "       [  0,   0,   0,   1,   0, 942,   0,  45,   1,  11],\n",
       "       [113,   1,  66,  51,  89,   0, 667,   0,  13,   0],\n",
       "       [  0,   0,   0,   0,   0,  15,   0, 973,   2,  10],\n",
       "       [  2,   1,   4,  11,   2,   1,  16,   7, 956,   0],\n",
       "       [  0,   0,   0,   0,   0,   9,   0,  74,   1, 916]], dtype=int64)"
      ]
     },
     "execution_count": 15,
     "metadata": {},
     "output_type": "execute_result"
    }
   ],
   "source": [
    "confusion_matrix(y_test,p) #대각선을 정확하게 맞친것"
   ]
  },
  {
   "cell_type": "code",
   "execution_count": null,
   "id": "660add49",
   "metadata": {},
   "outputs": [],
   "source": []
  }
 ],
 "metadata": {
  "kernelspec": {
   "display_name": "Python 3 (ipykernel)",
   "language": "python",
   "name": "python3"
  },
  "language_info": {
   "codemirror_mode": {
    "name": "ipython",
    "version": 3
   },
   "file_extension": ".py",
   "mimetype": "text/x-python",
   "name": "python",
   "nbconvert_exporter": "python",
   "pygments_lexer": "ipython3",
   "version": "3.8.8"
  }
 },
 "nbformat": 4,
 "nbformat_minor": 5
}
