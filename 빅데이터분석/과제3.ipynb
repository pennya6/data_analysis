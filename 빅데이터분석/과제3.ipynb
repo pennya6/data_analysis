{
 "cells": [
  {
   "cell_type": "markdown",
   "id": "4f800edc",
   "metadata": {},
   "source": [
    "### 컴퓨터공학부 201958008 김시연\n",
    "### 과제 #3 Regression\n"
   ]
  },
  {
   "cell_type": "markdown",
   "id": "9b69fb9d",
   "metadata": {},
   "source": [
    "#### 1) 데이터프레인 생성 3개의 샘플 출력, 특성개수와 샘플 개수 파악후 결측치 파악, 수치형과 범주형 특성 파악 "
   ]
  },
  {
   "cell_type": "code",
   "execution_count": 1,
   "id": "d78b48fa",
   "metadata": {},
   "outputs": [],
   "source": [
    "import numpy as np\n",
    "import pandas as pd\n",
    "import matplotlib.pyplot as plt"
   ]
  },
  {
   "cell_type": "code",
   "execution_count": 2,
   "id": "de64e96d",
   "metadata": {},
   "outputs": [],
   "source": [
    "data=pd.read_csv(\"HW3.csv\")"
   ]
  },
  {
   "cell_type": "code",
   "execution_count": 3,
   "id": "515a0ec4",
   "metadata": {},
   "outputs": [
    {
     "data": {
      "text/html": [
       "<div>\n",
       "<style scoped>\n",
       "    .dataframe tbody tr th:only-of-type {\n",
       "        vertical-align: middle;\n",
       "    }\n",
       "\n",
       "    .dataframe tbody tr th {\n",
       "        vertical-align: top;\n",
       "    }\n",
       "\n",
       "    .dataframe thead th {\n",
       "        text-align: right;\n",
       "    }\n",
       "</style>\n",
       "<table border=\"1\" class=\"dataframe\">\n",
       "  <thead>\n",
       "    <tr style=\"text-align: right;\">\n",
       "      <th></th>\n",
       "      <th>Unnamed: 0</th>\n",
       "      <th>Income</th>\n",
       "      <th>Limit</th>\n",
       "      <th>Rating</th>\n",
       "      <th>Cards</th>\n",
       "      <th>Age</th>\n",
       "      <th>Education</th>\n",
       "      <th>Gender</th>\n",
       "      <th>Student</th>\n",
       "      <th>Married</th>\n",
       "      <th>Ethnicity</th>\n",
       "      <th>Balance</th>\n",
       "    </tr>\n",
       "  </thead>\n",
       "  <tbody>\n",
       "    <tr>\n",
       "      <th>0</th>\n",
       "      <td>1</td>\n",
       "      <td>14.891</td>\n",
       "      <td>3606</td>\n",
       "      <td>283</td>\n",
       "      <td>2</td>\n",
       "      <td>34</td>\n",
       "      <td>11</td>\n",
       "      <td>Male</td>\n",
       "      <td>No</td>\n",
       "      <td>Yes</td>\n",
       "      <td>Caucasian</td>\n",
       "      <td>333</td>\n",
       "    </tr>\n",
       "    <tr>\n",
       "      <th>1</th>\n",
       "      <td>2</td>\n",
       "      <td>106.025</td>\n",
       "      <td>6645</td>\n",
       "      <td>483</td>\n",
       "      <td>3</td>\n",
       "      <td>82</td>\n",
       "      <td>15</td>\n",
       "      <td>Female</td>\n",
       "      <td>Yes</td>\n",
       "      <td>Yes</td>\n",
       "      <td>Asian</td>\n",
       "      <td>903</td>\n",
       "    </tr>\n",
       "    <tr>\n",
       "      <th>2</th>\n",
       "      <td>3</td>\n",
       "      <td>104.593</td>\n",
       "      <td>7075</td>\n",
       "      <td>514</td>\n",
       "      <td>4</td>\n",
       "      <td>71</td>\n",
       "      <td>11</td>\n",
       "      <td>Male</td>\n",
       "      <td>No</td>\n",
       "      <td>No</td>\n",
       "      <td>Asian</td>\n",
       "      <td>580</td>\n",
       "    </tr>\n",
       "  </tbody>\n",
       "</table>\n",
       "</div>"
      ],
      "text/plain": [
       "   Unnamed: 0   Income  Limit  Rating  Cards  Age  Education  Gender Student  \\\n",
       "0           1   14.891   3606     283      2   34         11    Male      No   \n",
       "1           2  106.025   6645     483      3   82         15  Female     Yes   \n",
       "2           3  104.593   7075     514      4   71         11    Male      No   \n",
       "\n",
       "  Married  Ethnicity  Balance  \n",
       "0     Yes  Caucasian      333  \n",
       "1     Yes      Asian      903  \n",
       "2      No      Asian      580  "
      ]
     },
     "execution_count": 3,
     "metadata": {},
     "output_type": "execute_result"
    }
   ],
   "source": [
    "data.head(3)"
   ]
  },
  {
   "cell_type": "code",
   "execution_count": 5,
   "id": "11ca0216",
   "metadata": {},
   "outputs": [
    {
     "name": "stdout",
     "output_type": "stream",
     "text": [
      "<class 'pandas.core.frame.DataFrame'>\n",
      "RangeIndex: 400 entries, 0 to 399\n",
      "Data columns (total 12 columns):\n",
      " #   Column      Non-Null Count  Dtype  \n",
      "---  ------      --------------  -----  \n",
      " 0   Unnamed: 0  400 non-null    int64  \n",
      " 1   Income      400 non-null    float64\n",
      " 2   Limit       400 non-null    int64  \n",
      " 3   Rating      400 non-null    int64  \n",
      " 4   Cards       400 non-null    int64  \n",
      " 5   Age         400 non-null    int64  \n",
      " 6   Education   400 non-null    int64  \n",
      " 7   Gender      400 non-null    object \n",
      " 8   Student     400 non-null    object \n",
      " 9   Married     400 non-null    object \n",
      " 10  Ethnicity   400 non-null    object \n",
      " 11  Balance     400 non-null    int64  \n",
      "dtypes: float64(1), int64(7), object(4)\n",
      "memory usage: 37.6+ KB\n"
     ]
    }
   ],
   "source": [
    "data.info()"
   ]
  },
  {
   "cell_type": "markdown",
   "id": "5badd0e0",
   "metadata": {},
   "source": [
    "#### 샘플수 400개 "
   ]
  },
  {
   "cell_type": "code",
   "execution_count": 6,
   "id": "6fa4cc86",
   "metadata": {},
   "outputs": [
    {
     "data": {
      "text/html": [
       "<div>\n",
       "<style scoped>\n",
       "    .dataframe tbody tr th:only-of-type {\n",
       "        vertical-align: middle;\n",
       "    }\n",
       "\n",
       "    .dataframe tbody tr th {\n",
       "        vertical-align: top;\n",
       "    }\n",
       "\n",
       "    .dataframe thead th {\n",
       "        text-align: right;\n",
       "    }\n",
       "</style>\n",
       "<table border=\"1\" class=\"dataframe\">\n",
       "  <thead>\n",
       "    <tr style=\"text-align: right;\">\n",
       "      <th></th>\n",
       "      <th>Unnamed: 0</th>\n",
       "      <th>Income</th>\n",
       "      <th>Limit</th>\n",
       "      <th>Rating</th>\n",
       "      <th>Cards</th>\n",
       "      <th>Age</th>\n",
       "      <th>Education</th>\n",
       "      <th>Balance</th>\n",
       "    </tr>\n",
       "  </thead>\n",
       "  <tbody>\n",
       "    <tr>\n",
       "      <th>count</th>\n",
       "      <td>400.000000</td>\n",
       "      <td>400.000000</td>\n",
       "      <td>400.000000</td>\n",
       "      <td>400.000000</td>\n",
       "      <td>400.000000</td>\n",
       "      <td>400.000000</td>\n",
       "      <td>400.000000</td>\n",
       "      <td>400.000000</td>\n",
       "    </tr>\n",
       "    <tr>\n",
       "      <th>mean</th>\n",
       "      <td>200.500000</td>\n",
       "      <td>45.218885</td>\n",
       "      <td>4735.600000</td>\n",
       "      <td>354.940000</td>\n",
       "      <td>2.957500</td>\n",
       "      <td>55.667500</td>\n",
       "      <td>13.450000</td>\n",
       "      <td>520.015000</td>\n",
       "    </tr>\n",
       "    <tr>\n",
       "      <th>std</th>\n",
       "      <td>115.614301</td>\n",
       "      <td>35.244273</td>\n",
       "      <td>2308.198848</td>\n",
       "      <td>154.724143</td>\n",
       "      <td>1.371275</td>\n",
       "      <td>17.249807</td>\n",
       "      <td>3.125207</td>\n",
       "      <td>459.758877</td>\n",
       "    </tr>\n",
       "    <tr>\n",
       "      <th>min</th>\n",
       "      <td>1.000000</td>\n",
       "      <td>10.354000</td>\n",
       "      <td>855.000000</td>\n",
       "      <td>93.000000</td>\n",
       "      <td>1.000000</td>\n",
       "      <td>23.000000</td>\n",
       "      <td>5.000000</td>\n",
       "      <td>0.000000</td>\n",
       "    </tr>\n",
       "    <tr>\n",
       "      <th>25%</th>\n",
       "      <td>100.750000</td>\n",
       "      <td>21.007250</td>\n",
       "      <td>3088.000000</td>\n",
       "      <td>247.250000</td>\n",
       "      <td>2.000000</td>\n",
       "      <td>41.750000</td>\n",
       "      <td>11.000000</td>\n",
       "      <td>68.750000</td>\n",
       "    </tr>\n",
       "    <tr>\n",
       "      <th>50%</th>\n",
       "      <td>200.500000</td>\n",
       "      <td>33.115500</td>\n",
       "      <td>4622.500000</td>\n",
       "      <td>344.000000</td>\n",
       "      <td>3.000000</td>\n",
       "      <td>56.000000</td>\n",
       "      <td>14.000000</td>\n",
       "      <td>459.500000</td>\n",
       "    </tr>\n",
       "    <tr>\n",
       "      <th>75%</th>\n",
       "      <td>300.250000</td>\n",
       "      <td>57.470750</td>\n",
       "      <td>5872.750000</td>\n",
       "      <td>437.250000</td>\n",
       "      <td>4.000000</td>\n",
       "      <td>70.000000</td>\n",
       "      <td>16.000000</td>\n",
       "      <td>863.000000</td>\n",
       "    </tr>\n",
       "    <tr>\n",
       "      <th>max</th>\n",
       "      <td>400.000000</td>\n",
       "      <td>186.634000</td>\n",
       "      <td>13913.000000</td>\n",
       "      <td>982.000000</td>\n",
       "      <td>9.000000</td>\n",
       "      <td>98.000000</td>\n",
       "      <td>20.000000</td>\n",
       "      <td>1999.000000</td>\n",
       "    </tr>\n",
       "  </tbody>\n",
       "</table>\n",
       "</div>"
      ],
      "text/plain": [
       "       Unnamed: 0      Income         Limit      Rating       Cards  \\\n",
       "count  400.000000  400.000000    400.000000  400.000000  400.000000   \n",
       "mean   200.500000   45.218885   4735.600000  354.940000    2.957500   \n",
       "std    115.614301   35.244273   2308.198848  154.724143    1.371275   \n",
       "min      1.000000   10.354000    855.000000   93.000000    1.000000   \n",
       "25%    100.750000   21.007250   3088.000000  247.250000    2.000000   \n",
       "50%    200.500000   33.115500   4622.500000  344.000000    3.000000   \n",
       "75%    300.250000   57.470750   5872.750000  437.250000    4.000000   \n",
       "max    400.000000  186.634000  13913.000000  982.000000    9.000000   \n",
       "\n",
       "              Age   Education      Balance  \n",
       "count  400.000000  400.000000   400.000000  \n",
       "mean    55.667500   13.450000   520.015000  \n",
       "std     17.249807    3.125207   459.758877  \n",
       "min     23.000000    5.000000     0.000000  \n",
       "25%     41.750000   11.000000    68.750000  \n",
       "50%     56.000000   14.000000   459.500000  \n",
       "75%     70.000000   16.000000   863.000000  \n",
       "max     98.000000   20.000000  1999.000000  "
      ]
     },
     "execution_count": 6,
     "metadata": {},
     "output_type": "execute_result"
    }
   ],
   "source": [
    "data.describe()"
   ]
  },
  {
   "cell_type": "markdown",
   "id": "64997a16",
   "metadata": {},
   "source": [
    "#### 수치형특성 : Income, Limit, Rating, Cards, Age,  Education, Balance"
   ]
  },
  {
   "cell_type": "code",
   "execution_count": 8,
   "id": "3875a891",
   "metadata": {},
   "outputs": [
    {
     "data": {
      "text/plain": [
       "array(['Male', 'Female'], dtype=object)"
      ]
     },
     "execution_count": 8,
     "metadata": {},
     "output_type": "execute_result"
    }
   ],
   "source": [
    "data.Gender.unique()"
   ]
  },
  {
   "cell_type": "code",
   "execution_count": 9,
   "id": "24a9cd21",
   "metadata": {},
   "outputs": [
    {
     "data": {
      "text/plain": [
       "array(['No', 'Yes'], dtype=object)"
      ]
     },
     "execution_count": 9,
     "metadata": {},
     "output_type": "execute_result"
    }
   ],
   "source": [
    "data.Student.unique()"
   ]
  },
  {
   "cell_type": "code",
   "execution_count": 10,
   "id": "4e0a480e",
   "metadata": {},
   "outputs": [
    {
     "data": {
      "text/plain": [
       "array(['Yes', 'No'], dtype=object)"
      ]
     },
     "execution_count": 10,
     "metadata": {},
     "output_type": "execute_result"
    }
   ],
   "source": [
    "data.Married.unique()"
   ]
  },
  {
   "cell_type": "code",
   "execution_count": 11,
   "id": "83cc63ea",
   "metadata": {},
   "outputs": [
    {
     "data": {
      "text/plain": [
       "array(['Caucasian', 'Asian', 'African American'], dtype=object)"
      ]
     },
     "execution_count": 11,
     "metadata": {},
     "output_type": "execute_result"
    }
   ],
   "source": [
    "data.Ethnicity.unique()"
   ]
  },
  {
   "cell_type": "markdown",
   "id": "7696bef7",
   "metadata": {},
   "source": [
    "#### 범주형 특성 : Gender, Student, Married, Ethnicity "
   ]
  },
  {
   "cell_type": "code",
   "execution_count": 17,
   "id": "81eb7163",
   "metadata": {},
   "outputs": [
    {
     "data": {
      "text/plain": [
       "Index(['Unnamed: 0', 'Income', 'Limit', 'Rating', 'Cards', 'Age', 'Education',\n",
       "       'Gender', 'Student', 'Married', 'Ethnicity', 'Balance'],\n",
       "      dtype='object')"
      ]
     },
     "execution_count": 17,
     "metadata": {},
     "output_type": "execute_result"
    }
   ],
   "source": [
    "data.columns"
   ]
  },
  {
   "cell_type": "markdown",
   "id": "4219e512",
   "metadata": {},
   "source": [
    "#### 특성수 : 11개"
   ]
  },
  {
   "cell_type": "code",
   "execution_count": 14,
   "id": "0ff465f8",
   "metadata": {},
   "outputs": [
    {
     "data": {
      "text/plain": [
       "Unnamed: 0    0\n",
       "Income        0\n",
       "Limit         0\n",
       "Rating        0\n",
       "Cards         0\n",
       "Age           0\n",
       "Education     0\n",
       "Gender        0\n",
       "Student       0\n",
       "Married       0\n",
       "Ethnicity     0\n",
       "Balance       0\n",
       "dtype: int64"
      ]
     },
     "execution_count": 14,
     "metadata": {},
     "output_type": "execute_result"
    }
   ],
   "source": [
    "data.isnull().sum()"
   ]
  },
  {
   "cell_type": "markdown",
   "id": "0d8d3454",
   "metadata": {},
   "source": [
    "####  결측치 없음"
   ]
  },
  {
   "cell_type": "markdown",
   "id": "f13fa77c",
   "metadata": {},
   "source": [
    "#### 2) 수치형 특성과 레이블로 히스토그램 작성, 범주형은 막대그래프 "
   ]
  },
  {
   "cell_type": "code",
   "execution_count": 33,
   "id": "ac698b2b",
   "metadata": {
    "scrolled": true
   },
   "outputs": [
    {
     "data": {
      "image/png": "[encoded data removed]",
      "text/plain": [
       "<Figure size 432x288 with 6 Axes>"
      ]
     },
     "metadata": {
      "needs_background": "light"
     },
     "output_type": "display_data"
    }
   ],
   "source": [
    "#레이블은 balance\n",
    "plt.subplot(2,3,1)\n",
    "plt.hist(data.Income,label=[data.Balance])\n",
    "plt.title(\"Income\")\n",
    "plt.subplot(2,3,2)\n",
    "plt.hist(data.Limit,label=[data.Balance])\n",
    "plt.title(\"Limit\")\n",
    "plt.subplot(2,3,3)\n",
    "plt.hist(data.Rating,label=[data.Balance])\n",
    "plt.title(\"Rating\")\n",
    "plt.subplot(2,3,4)\n",
    "plt.hist(data.Cards,label=[data.Balance])\n",
    "plt.title(\"Cards\")\n",
    "plt.subplot(2,3,5)\n",
    "plt.hist(data.Age,label=[data.Balance])\n",
    "plt.title(\"Age\")\n",
    "plt.subplot(2,3,6)\n",
    "plt.hist(data.Education,label=[data.Balance])\n",
    "plt.title(\"Education\")\n",
    "plt.tight_layout()"
   ]
  },
  {
   "cell_type": "markdown",
   "id": "1832f808",
   "metadata": {},
   "source": [
    "#### 수치형 특성에서 Card에서 이상치가 보이며 Income, Limit, Rating에서는 왼쪽으로 치우친 그래프이다."
   ]
  },
  {
   "cell_type": "code",
   "execution_count": 34,
   "id": "32632b47",
   "metadata": {},
   "outputs": [
    {
     "data": {
      "image/png": "[encoded data removed]",
      "text/plain": [
       "<Figure size 432x288 with 4 Axes>"
      ]
     },
     "metadata": {
      "needs_background": "light"
     },
     "output_type": "display_data"
    }
   ],
   "source": [
    "plt.subplot(2,2,1)\n",
    "plt.bar(data.Gender,data.Balance)\n",
    "plt.subplot(2,2,2)\n",
    "plt.bar(data.Student,data.Balance)\n",
    "plt.subplot(2,2,3)\n",
    "plt.bar(data.Married,data.Balance)\n",
    "plt.subplot(2,2,4)\n",
    "plt.bar(data.Ethnicity,data.Balance)\n",
    "plt.tight_layout()"
   ]
  },
  {
   "cell_type": "markdown",
   "id": "1e2c49b0",
   "metadata": {},
   "source": [
    "####  범주형 특성에서는 큰 특징은 찾지 못했다"
   ]
  },
  {
   "cell_type": "markdown",
   "id": "8133a75c",
   "metadata": {},
   "source": [
    "#### 3) corr() 메서드를 통해 상관계수 출력후 해석 "
   ]
  },
  {
   "cell_type": "code",
   "execution_count": 28,
   "id": "d393aed2",
   "metadata": {},
   "outputs": [
    {
     "data": {
      "text/html": [
       "<div>\n",
       "<style scoped>\n",
       "    .dataframe tbody tr th:only-of-type {\n",
       "        vertical-align: middle;\n",
       "    }\n",
       "\n",
       "    .dataframe tbody tr th {\n",
       "        vertical-align: top;\n",
       "    }\n",
       "\n",
       "    .dataframe thead th {\n",
       "        text-align: right;\n",
       "    }\n",
       "</style>\n",
       "<table border=\"1\" class=\"dataframe\">\n",
       "  <thead>\n",
       "    <tr style=\"text-align: right;\">\n",
       "      <th></th>\n",
       "      <th>Unnamed: 0</th>\n",
       "      <th>Income</th>\n",
       "      <th>Limit</th>\n",
       "      <th>Rating</th>\n",
       "      <th>Cards</th>\n",
       "      <th>Age</th>\n",
       "      <th>Education</th>\n",
       "      <th>Balance</th>\n",
       "    </tr>\n",
       "  </thead>\n",
       "  <tbody>\n",
       "    <tr>\n",
       "      <th>Unnamed: 0</th>\n",
       "      <td>1.000000</td>\n",
       "      <td>0.037203</td>\n",
       "      <td>0.024172</td>\n",
       "      <td>0.021985</td>\n",
       "      <td>-0.036304</td>\n",
       "      <td>0.058603</td>\n",
       "      <td>-0.001415</td>\n",
       "      <td>0.006064</td>\n",
       "    </tr>\n",
       "    <tr>\n",
       "      <th>Income</th>\n",
       "      <td>0.037203</td>\n",
       "      <td>1.000000</td>\n",
       "      <td>0.792088</td>\n",
       "      <td>0.791378</td>\n",
       "      <td>-0.018273</td>\n",
       "      <td>0.175338</td>\n",
       "      <td>-0.027692</td>\n",
       "      <td>0.463656</td>\n",
       "    </tr>\n",
       "    <tr>\n",
       "      <th>Limit</th>\n",
       "      <td>0.024172</td>\n",
       "      <td>0.792088</td>\n",
       "      <td>1.000000</td>\n",
       "      <td>0.996880</td>\n",
       "      <td>0.010231</td>\n",
       "      <td>0.100888</td>\n",
       "      <td>-0.023549</td>\n",
       "      <td>0.861697</td>\n",
       "    </tr>\n",
       "    <tr>\n",
       "      <th>Rating</th>\n",
       "      <td>0.021985</td>\n",
       "      <td>0.791378</td>\n",
       "      <td>0.996880</td>\n",
       "      <td>1.000000</td>\n",
       "      <td>0.053239</td>\n",
       "      <td>0.103165</td>\n",
       "      <td>-0.030136</td>\n",
       "      <td>0.863625</td>\n",
       "    </tr>\n",
       "    <tr>\n",
       "      <th>Cards</th>\n",
       "      <td>-0.036304</td>\n",
       "      <td>-0.018273</td>\n",
       "      <td>0.010231</td>\n",
       "      <td>0.053239</td>\n",
       "      <td>1.000000</td>\n",
       "      <td>0.042948</td>\n",
       "      <td>-0.051084</td>\n",
       "      <td>0.086456</td>\n",
       "    </tr>\n",
       "    <tr>\n",
       "      <th>Age</th>\n",
       "      <td>0.058603</td>\n",
       "      <td>0.175338</td>\n",
       "      <td>0.100888</td>\n",
       "      <td>0.103165</td>\n",
       "      <td>0.042948</td>\n",
       "      <td>1.000000</td>\n",
       "      <td>0.003619</td>\n",
       "      <td>0.001835</td>\n",
       "    </tr>\n",
       "    <tr>\n",
       "      <th>Education</th>\n",
       "      <td>-0.001415</td>\n",
       "      <td>-0.027692</td>\n",
       "      <td>-0.023549</td>\n",
       "      <td>-0.030136</td>\n",
       "      <td>-0.051084</td>\n",
       "      <td>0.003619</td>\n",
       "      <td>1.000000</td>\n",
       "      <td>-0.008062</td>\n",
       "    </tr>\n",
       "    <tr>\n",
       "      <th>Balance</th>\n",
       "      <td>0.006064</td>\n",
       "      <td>0.463656</td>\n",
       "      <td>0.861697</td>\n",
       "      <td>0.863625</td>\n",
       "      <td>0.086456</td>\n",
       "      <td>0.001835</td>\n",
       "      <td>-0.008062</td>\n",
       "      <td>1.000000</td>\n",
       "    </tr>\n",
       "  </tbody>\n",
       "</table>\n",
       "</div>"
      ],
      "text/plain": [
       "            Unnamed: 0    Income     Limit    Rating     Cards       Age  \\\n",
       "Unnamed: 0    1.000000  0.037203  0.024172  0.021985 -0.036304  0.058603   \n",
       "Income        0.037203  1.000000  0.792088  0.791378 -0.018273  0.175338   \n",
       "Limit         0.024172  0.792088  1.000000  0.996880  0.010231  0.100888   \n",
       "Rating        0.021985  0.791378  0.996880  1.000000  0.053239  0.103165   \n",
       "Cards        -0.036304 -0.018273  0.010231  0.053239  1.000000  0.042948   \n",
       "Age           0.058603  0.175338  0.100888  0.103165  0.042948  1.000000   \n",
       "Education    -0.001415 -0.027692 -0.023549 -0.030136 -0.051084  0.003619   \n",
       "Balance       0.006064  0.463656  0.861697  0.863625  0.086456  0.001835   \n",
       "\n",
       "            Education   Balance  \n",
       "Unnamed: 0  -0.001415  0.006064  \n",
       "Income      -0.027692  0.463656  \n",
       "Limit       -0.023549  0.861697  \n",
       "Rating      -0.030136  0.863625  \n",
       "Cards       -0.051084  0.086456  \n",
       "Age          0.003619  0.001835  \n",
       "Education    1.000000 -0.008062  \n",
       "Balance     -0.008062  1.000000  "
      ]
     },
     "execution_count": 28,
     "metadata": {},
     "output_type": "execute_result"
    }
   ],
   "source": [
    "data.corr()"
   ]
  },
  {
   "cell_type": "markdown",
   "id": "264b976b",
   "metadata": {},
   "source": [
    "#### label인 Balance와는 Limit, Rating이 강한 상관을 보인다."
   ]
  },
  {
   "cell_type": "markdown",
   "id": "70e17d70",
   "metadata": {},
   "source": [
    "#### 4) 수치형 특성과 Balance 변수와의 산점도를 subplot으로 그려라"
   ]
  },
  {
   "cell_type": "code",
   "execution_count": 37,
   "id": "61dff18a",
   "metadata": {},
   "outputs": [
    {
     "data": {
      "image/png": "[encoded data removed]",
      "text/plain": [
       "<Figure size 432x288 with 6 Axes>"
      ]
     },
     "metadata": {
      "needs_background": "light"
     },
     "output_type": "display_data"
    }
   ],
   "source": [
    "plt.subplot(2,3,1)\n",
    "plt.scatter(data.Income,data.Balance)\n",
    "plt.title(\"Education\")\n",
    "plt.subplot(2,3,2)\n",
    "plt.scatter(data.Limit,data.Balance)\n",
    "plt.title(\"Limit\")\n",
    "plt.subplot(2,3,3)\n",
    "plt.scatter(data.Rating,data.Balance)\n",
    "plt.title(\"Rating\")\n",
    "plt.subplot(2,3,4)\n",
    "plt.scatter(data.Cards,data.Balance)\n",
    "plt.title(\"Cards\")\n",
    "plt.subplot(2,3,5)\n",
    "plt.scatter(data.Age,data.Balance)\n",
    "plt.title(\"Age\")\n",
    "plt.subplot(2,3,6)\n",
    "plt.scatter(data.Education,data.Balance)\n",
    "plt.title(\"Education\")\n",
    "\n",
    "plt.tight_layout()"
   ]
  },
  {
   "cell_type": "markdown",
   "id": "6c960312",
   "metadata": {},
   "source": [
    "#### 5) Rating 변수를 특성으로 하고 Balance를 레이블로 단순선형회귀모델 훈련 "
   ]
  },
  {
   "cell_type": "code",
   "execution_count": 38,
   "id": "deeb69d6",
   "metadata": {},
   "outputs": [],
   "source": [
    "from sklearn.linear_model import LinearRegression"
   ]
  },
  {
   "cell_type": "code",
   "execution_count": 44,
   "id": "9431811f",
   "metadata": {},
   "outputs": [],
   "source": [
    "reg=LinearRegression()"
   ]
  },
  {
   "cell_type": "code",
   "execution_count": 46,
   "id": "46df8adc",
   "metadata": {},
   "outputs": [],
   "source": [
    "X=data.Rating.to_numpy()"
   ]
  },
  {
   "cell_type": "code",
   "execution_count": 49,
   "id": "a1ed8782",
   "metadata": {},
   "outputs": [],
   "source": [
    "X=X.reshape(-1,1)"
   ]
  },
  {
   "cell_type": "code",
   "execution_count": 50,
   "id": "a36b1762",
   "metadata": {},
   "outputs": [],
   "source": [
    "Y=data.Balance.to_numpy().reshape(-1,1)"
   ]
  },
  {
   "cell_type": "code",
   "execution_count": 52,
   "id": "5198b75e",
   "metadata": {},
   "outputs": [
    {
     "data": {
      "text/plain": [
       "LinearRegression()"
      ]
     },
     "execution_count": 52,
     "metadata": {},
     "output_type": "execute_result"
    }
   ],
   "source": [
    "reg.fit(X,Y)"
   ]
  },
  {
   "cell_type": "code",
   "execution_count": 53,
   "id": "e143f5fa",
   "metadata": {},
   "outputs": [
    {
     "name": "stdout",
     "output_type": "stream",
     "text": [
      "[[2.56624033]] [-390.84634179]\n"
     ]
    }
   ],
   "source": [
    "print(reg.coef_,reg.intercept_)"
   ]
  },
  {
   "cell_type": "code",
   "execution_count": 55,
   "id": "a28d1b20",
   "metadata": {},
   "outputs": [],
   "source": [
    "pred=reg.predict(X)"
   ]
  },
  {
   "cell_type": "code",
   "execution_count": 57,
   "id": "48b061ea",
   "metadata": {},
   "outputs": [
    {
     "data": {
      "text/plain": [
       "[<matplotlib.lines.Line2D at 0x23e98e52e50>]"
      ]
     },
     "execution_count": 57,
     "metadata": {},
     "output_type": "execute_result"
    },
    {
     "data": {
      "image/png": "[encoded data removed]",
      "text/plain": [
       "<Figure size 432x288 with 1 Axes>"
      ]
     },
     "metadata": {
      "needs_background": "light"
     },
     "output_type": "display_data"
    }
   ],
   "source": [
    "plt.scatter(X,Y)\n",
    "plt.plot(X,pred,c=\"red\")"
   ]
  },
  {
   "cell_type": "code",
   "execution_count": 59,
   "id": "0e00753c",
   "metadata": {},
   "outputs": [
    {
     "data": {
      "text/plain": [
       "0.7458484180585037"
      ]
     },
     "execution_count": 59,
     "metadata": {},
     "output_type": "execute_result"
    }
   ],
   "source": [
    "reg.score(X,Y) #결정계수"
   ]
  },
  {
   "cell_type": "markdown",
   "id": "5840e786",
   "metadata": {},
   "source": [
    "#### 6) 수치형 특성만 포함하여 훈련용, 테스트용 7:3 분할후 선형회귀 훈련, 결정계수 구하라"
   ]
  },
  {
   "cell_type": "code",
   "execution_count": 115,
   "id": "e42b86bf",
   "metadata": {},
   "outputs": [],
   "source": [
    "A=data.drop(['Gender','Student','Married','Balance','Ethnicity','Unnamed: 0'],axis=1).to_numpy()"
   ]
  },
  {
   "cell_type": "code",
   "execution_count": 116,
   "id": "5363734c",
   "metadata": {},
   "outputs": [],
   "source": [
    "B=data['Balance'].to_numpy()"
   ]
  },
  {
   "cell_type": "code",
   "execution_count": 117,
   "id": "dc992b30",
   "metadata": {},
   "outputs": [],
   "source": [
    "from sklearn.model_selection import train_test_split"
   ]
  },
  {
   "cell_type": "code",
   "execution_count": 118,
   "id": "eec7c299",
   "metadata": {
    "scrolled": true
   },
   "outputs": [],
   "source": [
    "A_train,A_test,B_train,B_test=train_test_split(A,B,train_size=0.7,random_state=1)"
   ]
  },
  {
   "cell_type": "code",
   "execution_count": 119,
   "id": "67032d02",
   "metadata": {},
   "outputs": [
    {
     "data": {
      "text/plain": [
       "(280, 6)"
      ]
     },
     "execution_count": 119,
     "metadata": {},
     "output_type": "execute_result"
    }
   ],
   "source": [
    "A_train.shape"
   ]
  },
  {
   "cell_type": "code",
   "execution_count": 120,
   "id": "b88f1140",
   "metadata": {},
   "outputs": [
    {
     "data": {
      "text/plain": [
       "(280,)"
      ]
     },
     "execution_count": 120,
     "metadata": {},
     "output_type": "execute_result"
    }
   ],
   "source": [
    "B_train.shape"
   ]
  },
  {
   "cell_type": "code",
   "execution_count": 121,
   "id": "7b48a19b",
   "metadata": {},
   "outputs": [],
   "source": [
    "new_reg=LinearRegression()"
   ]
  },
  {
   "cell_type": "code",
   "execution_count": 122,
   "id": "7bf07d00",
   "metadata": {},
   "outputs": [
    {
     "data": {
      "text/plain": [
       "LinearRegression()"
      ]
     },
     "execution_count": 122,
     "metadata": {},
     "output_type": "execute_result"
    }
   ],
   "source": [
    "new_reg.fit(A_train,B_train)"
   ]
  },
  {
   "cell_type": "code",
   "execution_count": 123,
   "id": "fd44b92a",
   "metadata": {
    "scrolled": true
   },
   "outputs": [
    {
     "name": "stdout",
     "output_type": "stream",
     "text": [
      "[-7.31861767  0.10453828  2.36325486 12.56245135 -0.90775398  2.597831  ] -508.7496583830859\n"
     ]
    }
   ],
   "source": [
    "print(new_reg.coef_,new_reg.intercept_)"
   ]
  },
  {
   "cell_type": "markdown",
   "id": "e4bacdc2",
   "metadata": {},
   "source": [
    "#### 결정계수"
   ]
  },
  {
   "cell_type": "code",
   "execution_count": 124,
   "id": "7c2833a8",
   "metadata": {},
   "outputs": [
    {
     "data": {
      "text/plain": [
       "0.8790707625358731"
      ]
     },
     "execution_count": 124,
     "metadata": {},
     "output_type": "execute_result"
    }
   ],
   "source": [
    "new_reg.score(A_train,B_train)"
   ]
  },
  {
   "cell_type": "code",
   "execution_count": 125,
   "id": "7964a580",
   "metadata": {
    "scrolled": true
   },
   "outputs": [
    {
     "data": {
      "text/plain": [
       "0.8747547884667081"
      ]
     },
     "execution_count": 125,
     "metadata": {},
     "output_type": "execute_result"
    }
   ],
   "source": [
    "new_reg.score(A_test,B_test)"
   ]
  },
  {
   "cell_type": "markdown",
   "id": "793cadcd",
   "metadata": {},
   "source": [
    "#### 훈련과 검증이 성능은 비슷하나 그리 좋은 성능은 아니므로 과소적합이 의심스럽다"
   ]
  },
  {
   "cell_type": "code",
   "execution_count": 139,
   "id": "0473a70a",
   "metadata": {},
   "outputs": [],
   "source": [
    "# 값 예측\n",
    "test=np.array(['100','6000','550','5','55','20'],dtype=float).reshape(1,-1)"
   ]
  },
  {
   "cell_type": "code",
   "execution_count": 140,
   "id": "7babb472",
   "metadata": {},
   "outputs": [
    {
     "data": {
      "text/plain": [
       "array([[1.0e+02, 6.0e+03, 5.5e+02, 5.0e+00, 5.5e+01, 2.0e+01]])"
      ]
     },
     "execution_count": 140,
     "metadata": {},
     "output_type": "execute_result"
    }
   ],
   "source": [
    "test"
   ]
  },
  {
   "cell_type": "code",
   "execution_count": 141,
   "id": "d771db65",
   "metadata": {},
   "outputs": [
    {
     "data": {
      "text/plain": [
       "(1, 6)"
      ]
     },
     "execution_count": 141,
     "metadata": {},
     "output_type": "execute_result"
    }
   ],
   "source": [
    "test.shape"
   ]
  },
  {
   "cell_type": "code",
   "execution_count": 142,
   "id": "17bd5ebe",
   "metadata": {},
   "outputs": [
    {
     "data": {
      "text/plain": [
       "array([751.25081278])"
      ]
     },
     "execution_count": 142,
     "metadata": {},
     "output_type": "execute_result"
    }
   ],
   "source": [
    "new_reg.predict(test)"
   ]
  },
  {
   "cell_type": "markdown",
   "id": "2d960c1d",
   "metadata": {},
   "source": [
    "#### 751.25081278로 예측 "
   ]
  },
  {
   "cell_type": "code",
   "execution_count": null,
   "id": "6ea292e7",
   "metadata": {},
   "outputs": [],
   "source": []
  }
 ],
 "metadata": {
  "kernelspec": {
   "display_name": "Python 3 (ipykernel)",
   "language": "python",
   "name": "python3"
  },
  "language_info": {
   "codemirror_mode": {
    "name": "ipython",
    "version": 3
   },
   "file_extension": ".py",
   "mimetype": "text/x-python",
   "name": "python",
   "nbconvert_exporter": "python",
   "pygments_lexer": "ipython3",
   "version": "3.8.8"
  }
 },
 "nbformat": 4,
 "nbformat_minor": 5
}
