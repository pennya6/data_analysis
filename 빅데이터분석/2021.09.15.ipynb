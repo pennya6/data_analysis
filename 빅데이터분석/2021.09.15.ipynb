{
 "cells": [
  {
   "cell_type": "markdown",
   "id": "1241f61c",
   "metadata": {},
   "source": [
    "# 2021.09.15 빅데이터 분석 실습"
   ]
  },
  {
   "cell_type": "markdown",
   "id": "a437dfa1",
   "metadata": {},
   "source": [
    "작성자 : 김시연  \n",
    "작성일 : 2021.09.15"
   ]
  },
  {
   "cell_type": "code",
   "execution_count": 10,
   "id": "100438a7",
   "metadata": {},
   "outputs": [],
   "source": [
    "x=100\n",
    "y=200"
   ]
  },
  {
   "cell_type": "code",
   "execution_count": 11,
   "id": "81075375",
   "metadata": {},
   "outputs": [],
   "source": [
    "x,y=y,x"
   ]
  },
  {
   "cell_type": "code",
   "execution_count": 12,
   "id": "9464e663",
   "metadata": {},
   "outputs": [
    {
     "data": {
      "text/plain": [
       "200"
      ]
     },
     "execution_count": 12,
     "metadata": {},
     "output_type": "execute_result"
    }
   ],
   "source": [
    "x\n"
   ]
  },
  {
   "cell_type": "code",
   "execution_count": 13,
   "id": "f0feba01",
   "metadata": {},
   "outputs": [
    {
     "data": {
      "text/plain": [
       "100"
      ]
     },
     "execution_count": 13,
     "metadata": {},
     "output_type": "execute_result"
    }
   ],
   "source": [
    "y"
   ]
  },
  {
   "cell_type": "markdown",
   "id": "ec0ab2cb",
   "metadata": {},
   "source": [
    "# 2021.09.24 실습"
   ]
  },
  {
   "cell_type": "markdown",
   "id": "d0d1e464",
   "metadata": {},
   "source": [
    "## 파이썬 키워드"
   ]
  },
  {
   "cell_type": "code",
   "execution_count": 6,
   "id": "dea773d6",
   "metadata": {},
   "outputs": [],
   "source": [
    "import keyword"
   ]
  },
  {
   "cell_type": "code",
   "execution_count": 7,
   "id": "5ad4ccf3",
   "metadata": {},
   "outputs": [
    {
     "data": {
      "text/plain": [
       "35"
      ]
     },
     "execution_count": 7,
     "metadata": {},
     "output_type": "execute_result"
    }
   ],
   "source": [
    "len(keyword.kwlist)"
   ]
  },
  {
   "cell_type": "code",
   "execution_count": 8,
   "id": "ff287d57",
   "metadata": {},
   "outputs": [
    {
     "data": {
      "text/plain": [
       "False"
      ]
     },
     "execution_count": 8,
     "metadata": {},
     "output_type": "execute_result"
    }
   ],
   "source": [
    "#keyword는 문자열 따라서 '' 붙어야 한다.\n",
    "keyword.iskeyword('true')"
   ]
  },
  {
   "cell_type": "markdown",
   "id": "ae50f337",
   "metadata": {},
   "source": [
    "## 조건문"
   ]
  },
  {
   "cell_type": "code",
   "execution_count": 9,
   "id": "225fe160",
   "metadata": {},
   "outputs": [],
   "source": [
    "size=\"M\"\n",
    "if size==\"S\":\n",
    "    length=68.0\n",
    "    width=52.0\n",
    "    # length,width=68.0,52.0\n",
    "elif size==\"M\":\n",
    "    length,width=70.0,54.5\n",
    "else:\n",
    "    length,width=72.0,57.0"
   ]
  },
  {
   "cell_type": "code",
   "execution_count": 10,
   "id": "d433f5a1",
   "metadata": {},
   "outputs": [
    {
     "name": "stdout",
     "output_type": "stream",
     "text": [
      "길이= 70.0 너비= 54.5\n"
     ]
    }
   ],
   "source": [
    "print('길이=',length,'너비=', width)"
   ]
  },
  {
   "cell_type": "code",
   "execution_count": 11,
   "id": "961ae44a",
   "metadata": {},
   "outputs": [
    {
     "name": "stdout",
     "output_type": "stream",
     "text": [
      "Variable   Type      Data/Info\n",
      "------------------------------\n",
      "keyword    module    <module 'keyword' from 'C<...>conda3\\\\lib\\\\keyword.py'>\n",
      "length     float     70.0\n",
      "size       str       M\n",
      "width      float     54.5\n"
     ]
    }
   ],
   "source": [
    "%whos"
   ]
  },
  {
   "cell_type": "code",
   "execution_count": 12,
   "id": "05a339ab",
   "metadata": {},
   "outputs": [],
   "source": [
    "%xdel size"
   ]
  },
  {
   "cell_type": "code",
   "execution_count": 13,
   "id": "b8223d31",
   "metadata": {},
   "outputs": [
    {
     "name": "stdout",
     "output_type": "stream",
     "text": [
      "Variable   Type      Data/Info\n",
      "------------------------------\n",
      "keyword    module    <module 'keyword' from 'C<...>conda3\\\\lib\\\\keyword.py'>\n",
      "length     float     70.0\n",
      "width      float     54.5\n"
     ]
    }
   ],
   "source": [
    "%whos"
   ]
  },
  {
   "cell_type": "code",
   "execution_count": 14,
   "id": "eca262ce",
   "metadata": {},
   "outputs": [
    {
     "name": "stdout",
     "output_type": "stream",
     "text": [
      "Once deleted, variables cannot be recovered. Proceed (y/[n])? y\n"
     ]
    }
   ],
   "source": [
    "%reset"
   ]
  },
  {
   "cell_type": "code",
   "execution_count": 15,
   "id": "91e84df3",
   "metadata": {},
   "outputs": [
    {
     "name": "stdout",
     "output_type": "stream",
     "text": [
      "Interactive namespace is empty.\n"
     ]
    }
   ],
   "source": [
    "%whos"
   ]
  },
  {
   "cell_type": "code",
   "execution_count": 21,
   "id": "2298b3fb",
   "metadata": {},
   "outputs": [
    {
     "name": "stdout",
     "output_type": "stream",
     "text": [
      "Overwriting tsize.py\n"
     ]
    }
   ],
   "source": [
    "%%writefile tsize.py\n",
    "\n",
    "#파이썬에서 main 만드는법\n",
    "if __name__ == \"__main__\":\n",
    "    size=\"L\"\n",
    "    if size==\"S\":\n",
    "        length=68.0\n",
    "        width=52.0\n",
    "        # length,width=68.0,52.0\n",
    "    elif size==\"M\":\n",
    "        length,width=70.0,54.5\n",
    "    else:\n",
    "        length,width=72.0,57.0\n",
    "    print('길이=',length,'너비=', width)"
   ]
  },
  {
   "cell_type": "code",
   "execution_count": 22,
   "id": "13279907",
   "metadata": {},
   "outputs": [
    {
     "name": "stdout",
     "output_type": "stream",
     "text": [
      "길이= 72.0 너비= 57.0\n"
     ]
    }
   ],
   "source": [
    "%run tsize.py"
   ]
  },
  {
   "cell_type": "markdown",
   "id": "541b9b5b",
   "metadata": {},
   "source": [
    "## 반복문"
   ]
  },
  {
   "cell_type": "code",
   "execution_count": 26,
   "id": "31f5f644",
   "metadata": {},
   "outputs": [
    {
     "name": "stdout",
     "output_type": "stream",
     "text": [
      "소수아니다.\n"
     ]
    }
   ],
   "source": [
    "#997이 소수인지 아닌지 확인하는 반복문 만들기\n",
    "n=9970\n",
    "i=2\n",
    "while i<n:\n",
    "    if n%i==0:\n",
    "        break #while문 빠져나가기\n",
    "    i=i+1\n",
    "if i==n: #한번도 break 못했다는 이야기 => 2~(n-1)로 나누어 떨어지는 i가 없다는 의미\n",
    "    print('소수이다.')\n",
    "else:\n",
    "    print(\"소수아니다.\")"
   ]
  },
  {
   "cell_type": "code",
   "execution_count": 27,
   "id": "f7de1c40",
   "metadata": {},
   "outputs": [
    {
     "name": "stdout",
     "output_type": "stream",
     "text": [
      "4\n",
      "2\n",
      "5\n",
      "7\n",
      "3\n"
     ]
    }
   ],
   "source": [
    "my_list=[4,2,5,7,3] #리스트\n",
    "for x in my_list:\n",
    "    print(x)"
   ]
  },
  {
   "cell_type": "code",
   "execution_count": 28,
   "id": "e0cc1635",
   "metadata": {},
   "outputs": [],
   "source": [
    "my_list=[4,2,5,7,3] #리스트\n",
    "sum=0\n",
    "for x in my_list:\n",
    "    sum+=x"
   ]
  },
  {
   "cell_type": "code",
   "execution_count": 29,
   "id": "12b45407",
   "metadata": {},
   "outputs": [
    {
     "data": {
      "text/plain": [
       "21"
      ]
     },
     "execution_count": 29,
     "metadata": {},
     "output_type": "execute_result"
    }
   ],
   "source": [
    "sum"
   ]
  },
  {
   "cell_type": "code",
   "execution_count": 34,
   "id": "27ba1772",
   "metadata": {},
   "outputs": [
    {
     "name": "stdout",
     "output_type": "stream",
     "text": [
      "1 3 5 7 9 "
     ]
    }
   ],
   "source": [
    "for x in range(1,10,2):\n",
    "    print(x, end=' ')"
   ]
  },
  {
   "cell_type": "code",
   "execution_count": 35,
   "id": "84ac9720",
   "metadata": {},
   "outputs": [
    {
     "name": "stdout",
     "output_type": "stream",
     "text": [
      "1 0 -1 -2 -3 -4 "
     ]
    }
   ],
   "source": [
    "for x in range(1,-5,-1):\n",
    "    print(x, end=' ')"
   ]
  },
  {
   "cell_type": "code",
   "execution_count": 36,
   "id": "3f9ced19",
   "metadata": {},
   "outputs": [
    {
     "name": "stdout",
     "output_type": "stream",
     "text": [
      "Hello\n",
      "Hello\n",
      "Hello\n",
      "Hello\n",
      "Hello\n"
     ]
    }
   ],
   "source": [
    "for _ in range(5):\n",
    "    print('Hello')"
   ]
  },
  {
   "cell_type": "code",
   "execution_count": null,
   "id": "e2876654",
   "metadata": {},
   "outputs": [],
   "source": []
  },
  {
   "cell_type": "code",
   "execution_count": null,
   "id": "6280a459",
   "metadata": {},
   "outputs": [],
   "source": []
  },
  {
   "cell_type": "code",
   "execution_count": null,
   "id": "c754eacf",
   "metadata": {},
   "outputs": [],
   "source": []
  },
  {
   "cell_type": "code",
   "execution_count": null,
   "id": "39f8a38e",
   "metadata": {},
   "outputs": [],
   "source": []
  }
 ],
 "metadata": {
  "kernelspec": {
   "display_name": "Python 3 (ipykernel)",
   "language": "python",
   "name": "python3"
  },
  "language_info": {
   "codemirror_mode": {
    "name": "ipython",
    "version": 3
   },
   "file_extension": ".py",
   "mimetype": "text/x-python",
   "name": "python",
   "nbconvert_exporter": "python",
   "pygments_lexer": "ipython3",
   "version": "3.8.8"
  }
 },
 "nbformat": 4,
 "nbformat_minor": 5
}
