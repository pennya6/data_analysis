{
 "cells": [
  {
   "cell_type": "markdown",
   "id": "1241f61c",
   "metadata": {},
   "source": [
    "# 2021.09.15 빅데이터 분석 실습"
   ]
  },
  {
   "cell_type": "markdown",
   "id": "a437dfa1",
   "metadata": {},
   "source": [
    "작성자 : 김시연  \n",
    "작성일 : 2021.09.15"
   ]
  },
  {
   "cell_type": "code",
   "execution_count": 10,
   "id": "100438a7",
   "metadata": {},
   "outputs": [],
   "source": [
    "x=100\n",
    "y=200"
   ]
  },
  {
   "cell_type": "code",
   "execution_count": 11,
   "id": "81075375",
   "metadata": {},
   "outputs": [],
   "source": [
    "x,y=y,x"
   ]
  },
  {
   "cell_type": "code",
   "execution_count": 12,
   "id": "9464e663",
   "metadata": {},
   "outputs": [
    {
     "data": {
      "text/plain": [
       "200"
      ]
     },
     "execution_count": 12,
     "metadata": {},
     "output_type": "execute_result"
    }
   ],
   "source": [
    "x\n"
   ]
  },
  {
   "cell_type": "code",
   "execution_count": 13,
   "id": "f0feba01",
   "metadata": {},
   "outputs": [
    {
     "data": {
      "text/plain": [
       "100"
      ]
     },
     "execution_count": 13,
     "metadata": {},
     "output_type": "execute_result"
    }
   ],
   "source": [
    "y"
   ]
  },
  {
   "cell_type": "markdown",
   "id": "ec0ab2cb",
   "metadata": {},
   "source": [
    "# 2021.09.24 실습"
   ]
  },
  {
   "cell_type": "markdown",
   "id": "d0d1e464",
   "metadata": {},
   "source": [
    "## 파이썬 키워드"
   ]
  },
  {
   "cell_type": "code",
   "execution_count": 1,
   "id": "dea773d6",
   "metadata": {},
   "outputs": [],
   "source": [
    "import keyword"
   ]
  },
  {
   "cell_type": "code",
   "execution_count": 3,
   "id": "5ad4ccf3",
   "metadata": {},
   "outputs": [
    {
     "data": {
      "text/plain": [
       "35"
      ]
     },
     "execution_count": 3,
     "metadata": {},
     "output_type": "execute_result"
    }
   ],
   "source": [
    "len(keyword.kwlist)"
   ]
  },
  {
   "cell_type": "code",
   "execution_count": 5,
   "id": "ff287d57",
   "metadata": {},
   "outputs": [
    {
     "data": {
      "text/plain": [
       "False"
      ]
     },
     "execution_count": 5,
     "metadata": {},
     "output_type": "execute_result"
    }
   ],
   "source": [
    "#keyword는 문자열 따라서 '' 붙어야 한다.\n",
    "keyword.iskeyword('true')"
   ]
  },
  {
   "cell_type": "markdown",
   "id": "ae50f337",
   "metadata": {},
   "source": [
    "## 조건문"
   ]
  },
  {
   "cell_type": "code",
   "execution_count": 6,
   "id": "225fe160",
   "metadata": {},
   "outputs": [],
   "source": [
    "size=\"M\"\n",
    "if size==\"S\":\n",
    "    length=68.0\n",
    "    width=52.0\n",
    "    # length,width=68.0,52.0\n",
    "elif size==\"M\":\n",
    "    length,width=70.0,54.5\n",
    "else:\n",
    "    length,width=72.0,57.0"
   ]
  },
  {
   "cell_type": "code",
   "execution_count": 11,
   "id": "d433f5a1",
   "metadata": {},
   "outputs": [
    {
     "name": "stdout",
     "output_type": "stream",
     "text": [
      "길이= 70.0 너비= 54.5\n"
     ]
    }
   ],
   "source": [
    "print('길이=',length,'너비=', width)"
   ]
  },
  {
   "cell_type": "code",
   "execution_count": 13,
   "id": "961ae44a",
   "metadata": {},
   "outputs": [
    {
     "name": "stdout",
     "output_type": "stream",
     "text": [
      "Variable   Type      Data/Info\n",
      "------------------------------\n",
      "keyword    module    <module 'keyword' from 'C<...>conda3\\\\lib\\\\keyword.py'>\n",
      "length     float     70.0\n",
      "size       str       M\n",
      "width      float     54.5\n"
     ]
    }
   ],
   "source": [
    "%whos"
   ]
  },
  {
   "cell_type": "code",
   "execution_count": 14,
   "id": "05a339ab",
   "metadata": {},
   "outputs": [],
   "source": [
    "%xdel size"
   ]
  },
  {
   "cell_type": "code",
   "execution_count": 15,
   "id": "b8223d31",
   "metadata": {},
   "outputs": [
    {
     "name": "stdout",
     "output_type": "stream",
     "text": [
      "Variable   Type      Data/Info\n",
      "------------------------------\n",
      "keyword    module    <module 'keyword' from 'C<...>conda3\\\\lib\\\\keyword.py'>\n",
      "length     float     70.0\n",
      "width      float     54.5\n"
     ]
    }
   ],
   "source": [
    "%whos"
   ]
  },
  {
   "cell_type": "code",
   "execution_count": 17,
   "id": "eca262ce",
   "metadata": {},
   "outputs": [
    {
     "name": "stdout",
     "output_type": "stream",
     "text": [
      "Once deleted, variables cannot be recovered. Proceed (y/[n])? y\n"
     ]
    }
   ],
   "source": [
    "%reset"
   ]
  },
  {
   "cell_type": "code",
   "execution_count": 18,
   "id": "91e84df3",
   "metadata": {},
   "outputs": [
    {
     "name": "stdout",
     "output_type": "stream",
     "text": [
      "Interactive namespace is empty.\n"
     ]
    }
   ],
   "source": [
    "%whos"
   ]
  },
  {
   "cell_type": "code",
   "execution_count": 23,
   "id": "2298b3fb",
   "metadata": {},
   "outputs": [
    {
     "name": "stdout",
     "output_type": "stream",
     "text": [
      "Overwriting tsize.py\n"
     ]
    }
   ],
   "source": [
    "%%writefile tsize.py\n",
    "\n",
    "size=\"M\"\n",
    "if size==\"S\":\n",
    "    length=68.0\n",
    "    width=52.0\n",
    "    # length,width=68.0,52.0\n",
    "elif size==\"M\":\n",
    "    length,width=70.0,54.5\n",
    "else:\n",
    "    length,width=72.0,57.0\n",
    "print('길이=',length,'너비=', width)"
   ]
  },
  {
   "cell_type": "code",
   "execution_count": 24,
   "id": "13279907",
   "metadata": {},
   "outputs": [
    {
     "name": "stdout",
     "output_type": "stream",
     "text": [
      "길이= 70.0 너비= 54.5\n"
     ]
    }
   ],
   "source": [
    "%run tsize.py"
   ]
  },
  {
   "cell_type": "code",
   "execution_count": null,
   "id": "8a950340",
   "metadata": {},
   "outputs": [],
   "source": [
    "24.35"
   ]
  },
  {
   "cell_type": "code",
   "execution_count": null,
   "id": "c754eacf",
   "metadata": {},
   "outputs": [],
   "source": []
  },
  {
   "cell_type": "code",
   "execution_count": null,
   "id": "39f8a38e",
   "metadata": {},
   "outputs": [],
   "source": []
  }
 ],
 "metadata": {
  "kernelspec": {
   "display_name": "Python 3 (ipykernel)",
   "language": "python",
   "name": "python3"
  },
  "language_info": {
   "codemirror_mode": {
    "name": "ipython",
    "version": 3
   },
   "file_extension": ".py",
   "mimetype": "text/x-python",
   "name": "python",
   "nbconvert_exporter": "python",
   "pygments_lexer": "ipython3",
   "version": "3.8.8"
  }
 },
 "nbformat": 4,
 "nbformat_minor": 5
}
