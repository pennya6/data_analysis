{
 "cells": [
  {
   "cell_type": "markdown",
   "id": "3837f1ce",
   "metadata": {},
   "source": [
    "## 함수"
   ]
  },
  {
   "cell_type": "code",
   "execution_count": 1,
   "id": "847b0c67",
   "metadata": {},
   "outputs": [],
   "source": [
    "def square(x):\n",
    "    return x*x"
   ]
  },
  {
   "cell_type": "code",
   "execution_count": 2,
   "id": "1e80e441",
   "metadata": {},
   "outputs": [
    {
     "data": {
      "text/plain": [
       "9"
      ]
     },
     "execution_count": 2,
     "metadata": {},
     "output_type": "execute_result"
    }
   ],
   "source": [
    "square(3)"
   ]
  },
  {
   "cell_type": "code",
   "execution_count": 3,
   "id": "277ca2d3",
   "metadata": {},
   "outputs": [],
   "source": [
    "def abs(x):\n",
    "    if x<0:\n",
    "        return -x\n",
    "    else:\n",
    "        return x"
   ]
  },
  {
   "cell_type": "code",
   "execution_count": 5,
   "id": "85e63f33",
   "metadata": {},
   "outputs": [
    {
     "data": {
      "text/plain": [
       "5.6"
      ]
     },
     "execution_count": 5,
     "metadata": {},
     "output_type": "execute_result"
    }
   ],
   "source": [
    "abs(-5.6)"
   ]
  },
  {
   "cell_type": "code",
   "execution_count": 6,
   "id": "cc788a7f",
   "metadata": {},
   "outputs": [],
   "source": [
    "def min_max(a,b):\n",
    "    if a<b:\n",
    "        return a,b\n",
    "    else:\n",
    "        return b,a"
   ]
  },
  {
   "cell_type": "code",
   "execution_count": 10,
   "id": "091d6bec",
   "metadata": {},
   "outputs": [
    {
     "name": "stdout",
     "output_type": "stream",
     "text": [
      "200 300\n"
     ]
    }
   ],
   "source": [
    "min,max=min_max(300,200)\n",
    "print(min,max)"
   ]
  },
  {
   "cell_type": "code",
   "execution_count": 31,
   "id": "b3252780",
   "metadata": {},
   "outputs": [],
   "source": [
    "def sum_to_n(n):\n",
    "    \"\"\"\n",
    "    n까지의 자연수의 합을 반환하는 함수\n",
    "    n이 정수가 아니면 TypeError 발생\n",
    "    n이 음수이면 ValueError 발생\n",
    "    \"\"\"\n",
    "    if n < 0:\n",
    "        raise ValueError('n must be bigger 0')\n",
    "    if type is not int:\n",
    "        raise TypeError('n is not int')\n",
    "\n",
    "    sum=0\n",
    "    for x in range(n+1): #range는 반드시 정수\n",
    "        sum+=x\n",
    "    return sum"
   ]
  },
  {
   "cell_type": "code",
   "execution_count": 19,
   "id": "0c4ec264",
   "metadata": {},
   "outputs": [
    {
     "name": "stdout",
     "output_type": "stream",
     "text": [
      "55\n"
     ]
    }
   ],
   "source": [
    "print(sum_to_n(10))"
   ]
  },
  {
   "cell_type": "code",
   "execution_count": 20,
   "id": "98b59063",
   "metadata": {},
   "outputs": [],
   "source": [
    "sum_to_n?"
   ]
  },
  {
   "cell_type": "code",
   "execution_count": 21,
   "id": "266d66cf",
   "metadata": {},
   "outputs": [],
   "source": [
    "sum_to_n??"
   ]
  },
  {
   "cell_type": "code",
   "execution_count": 33,
   "id": "c16e2f52",
   "metadata": {},
   "outputs": [
    {
     "ename": "TypeError",
     "evalue": "n is not int",
     "output_type": "error",
     "traceback": [
      "\u001b[1;31m---------------------------------------------------------------------------\u001b[0m",
      "\u001b[1;31mTypeError\u001b[0m                                 Traceback (most recent call last)",
      "\u001b[1;32m~\\AppData\\Local\\Temp/ipykernel_6216/884844056.py\u001b[0m in \u001b[0;36m<module>\u001b[1;34m\u001b[0m\n\u001b[1;32m----> 1\u001b[1;33m \u001b[0msum_to_n\u001b[0m\u001b[1;33m(\u001b[0m\u001b[1;36m5.5\u001b[0m\u001b[1;33m)\u001b[0m \u001b[1;31m#정수가 아니라 타입 오류\u001b[0m\u001b[1;33m\u001b[0m\u001b[1;33m\u001b[0m\u001b[0m\n\u001b[0m",
      "\u001b[1;32m~\\AppData\\Local\\Temp/ipykernel_6216/3931097902.py\u001b[0m in \u001b[0;36msum_to_n\u001b[1;34m(n)\u001b[0m\n\u001b[0;32m      8\u001b[0m         \u001b[1;32mraise\u001b[0m \u001b[0mValueError\u001b[0m\u001b[1;33m(\u001b[0m\u001b[1;34m'n must be bigger 0'\u001b[0m\u001b[1;33m)\u001b[0m\u001b[1;33m\u001b[0m\u001b[1;33m\u001b[0m\u001b[0m\n\u001b[0;32m      9\u001b[0m     \u001b[1;32mif\u001b[0m \u001b[0mtype\u001b[0m \u001b[1;32mis\u001b[0m \u001b[1;32mnot\u001b[0m \u001b[0mint\u001b[0m\u001b[1;33m:\u001b[0m\u001b[1;33m\u001b[0m\u001b[1;33m\u001b[0m\u001b[0m\n\u001b[1;32m---> 10\u001b[1;33m         \u001b[1;32mraise\u001b[0m \u001b[0mTypeError\u001b[0m\u001b[1;33m(\u001b[0m\u001b[1;34m'n is not int'\u001b[0m\u001b[1;33m)\u001b[0m\u001b[1;33m\u001b[0m\u001b[1;33m\u001b[0m\u001b[0m\n\u001b[0m\u001b[0;32m     11\u001b[0m \u001b[1;33m\u001b[0m\u001b[0m\n\u001b[0;32m     12\u001b[0m     \u001b[0msum\u001b[0m\u001b[1;33m=\u001b[0m\u001b[1;36m0\u001b[0m\u001b[1;33m\u001b[0m\u001b[1;33m\u001b[0m\u001b[0m\n",
      "\u001b[1;31mTypeError\u001b[0m: n is not int"
     ]
    }
   ],
   "source": [
    "sum_to_n(5.5) #정수가 아니라 타입 오류"
   ]
  },
  {
   "cell_type": "code",
   "execution_count": 32,
   "id": "73b801da",
   "metadata": {},
   "outputs": [
    {
     "ename": "ValueError",
     "evalue": "n must be bigger 0",
     "output_type": "error",
     "traceback": [
      "\u001b[1;31m---------------------------------------------------------------------------\u001b[0m",
      "\u001b[1;31mValueError\u001b[0m                                Traceback (most recent call last)",
      "\u001b[1;32m~\\AppData\\Local\\Temp/ipykernel_6216/615045157.py\u001b[0m in \u001b[0;36m<module>\u001b[1;34m\u001b[0m\n\u001b[1;32m----> 1\u001b[1;33m \u001b[0msum_to_n\u001b[0m\u001b[1;33m(\u001b[0m\u001b[1;33m-\u001b[0m \u001b[1;36m5\u001b[0m\u001b[1;33m)\u001b[0m\u001b[1;33m\u001b[0m\u001b[1;33m\u001b[0m\u001b[0m\n\u001b[0m",
      "\u001b[1;32m~\\AppData\\Local\\Temp/ipykernel_6216/3931097902.py\u001b[0m in \u001b[0;36msum_to_n\u001b[1;34m(n)\u001b[0m\n\u001b[0;32m      6\u001b[0m     \"\"\"\n\u001b[0;32m      7\u001b[0m     \u001b[1;32mif\u001b[0m \u001b[0mn\u001b[0m \u001b[1;33m<\u001b[0m \u001b[1;36m0\u001b[0m\u001b[1;33m:\u001b[0m\u001b[1;33m\u001b[0m\u001b[1;33m\u001b[0m\u001b[0m\n\u001b[1;32m----> 8\u001b[1;33m         \u001b[1;32mraise\u001b[0m \u001b[0mValueError\u001b[0m\u001b[1;33m(\u001b[0m\u001b[1;34m'n must be bigger 0'\u001b[0m\u001b[1;33m)\u001b[0m\u001b[1;33m\u001b[0m\u001b[1;33m\u001b[0m\u001b[0m\n\u001b[0m\u001b[0;32m      9\u001b[0m     \u001b[1;32mif\u001b[0m \u001b[0mtype\u001b[0m \u001b[1;32mis\u001b[0m \u001b[1;32mnot\u001b[0m \u001b[0mint\u001b[0m\u001b[1;33m:\u001b[0m\u001b[1;33m\u001b[0m\u001b[1;33m\u001b[0m\u001b[0m\n\u001b[0;32m     10\u001b[0m         \u001b[1;32mraise\u001b[0m \u001b[0mTypeError\u001b[0m\u001b[1;33m(\u001b[0m\u001b[1;34m'n is not int'\u001b[0m\u001b[1;33m)\u001b[0m\u001b[1;33m\u001b[0m\u001b[1;33m\u001b[0m\u001b[0m\n",
      "\u001b[1;31mValueError\u001b[0m: n must be bigger 0"
     ]
    }
   ],
   "source": [
    "sum_to_n(- 5)"
   ]
  },
  {
   "cell_type": "code",
   "execution_count": 43,
   "id": "9be81975",
   "metadata": {},
   "outputs": [],
   "source": [
    "def sum_f(a,f=lambda x:x):\n",
    "    \"\"\"\n",
    "    시퀀스 a의 각 원소에 함수 f를 취한 값의 합\n",
    "    \n",
    "    파라미터\n",
    "    --------\n",
    "    a : sequence\n",
    "    f : function, default : 항등함수\n",
    "    만약 f가 없으면 a를 다 더하라\n",
    "    \"\"\"\n",
    "    sum=0\n",
    "    for v in a:\n",
    "        sum+=f(v)\n",
    "    return sum"
   ]
  },
  {
   "cell_type": "code",
   "execution_count": 44,
   "id": "c79bab05",
   "metadata": {},
   "outputs": [
    {
     "data": {
      "text/plain": [
       "45"
      ]
     },
     "execution_count": 44,
     "metadata": {},
     "output_type": "execute_result"
    }
   ],
   "source": [
    "my_list=[5,2,4]\n",
    "\n",
    "def sq(x):\n",
    "    return x*x\n",
    "\n",
    "sum_f(my_list,sq)"
   ]
  },
  {
   "cell_type": "code",
   "execution_count": 39,
   "id": "df069b43",
   "metadata": {},
   "outputs": [],
   "source": [
    "import math"
   ]
  },
  {
   "cell_type": "code",
   "execution_count": 40,
   "id": "098f9a83",
   "metadata": {},
   "outputs": [
    {
     "data": {
      "text/plain": [
       "5.650281539872885"
      ]
     },
     "execution_count": 40,
     "metadata": {},
     "output_type": "execute_result"
    }
   ],
   "source": [
    "sum_f(my_list,math.sqrt)"
   ]
  },
  {
   "cell_type": "code",
   "execution_count": 41,
   "id": "8892dc0b",
   "metadata": {},
   "outputs": [
    {
     "data": {
      "text/plain": [
       "45"
      ]
     },
     "execution_count": 41,
     "metadata": {},
     "output_type": "execute_result"
    }
   ],
   "source": [
    "sum_f(my_list,lambda x: x*x)"
   ]
  },
  {
   "cell_type": "code",
   "execution_count": 42,
   "id": "3693157e",
   "metadata": {},
   "outputs": [
    {
     "data": {
      "text/plain": [
       "1"
      ]
     },
     "execution_count": 42,
     "metadata": {},
     "output_type": "execute_result"
    }
   ],
   "source": [
    "sum_f(my_list,lambda x:x%2)"
   ]
  },
  {
   "cell_type": "code",
   "execution_count": 46,
   "id": "3c2e21eb",
   "metadata": {},
   "outputs": [
    {
     "data": {
      "text/plain": [
       "11"
      ]
     },
     "execution_count": 46,
     "metadata": {},
     "output_type": "execute_result"
    }
   ],
   "source": [
    "sum_f(my_list)"
   ]
  },
  {
   "cell_type": "code",
   "execution_count": 47,
   "id": "d94cb51a",
   "metadata": {},
   "outputs": [],
   "source": [
    "s=['tiger','giraffe','cat','dog']"
   ]
  },
  {
   "cell_type": "code",
   "execution_count": 48,
   "id": "986dadb0",
   "metadata": {},
   "outputs": [],
   "source": [
    "s.sort()"
   ]
  },
  {
   "cell_type": "code",
   "execution_count": 49,
   "id": "b6a71cac",
   "metadata": {},
   "outputs": [
    {
     "data": {
      "text/plain": [
       "['cat', 'dog', 'giraffe', 'tiger']"
      ]
     },
     "execution_count": 49,
     "metadata": {},
     "output_type": "execute_result"
    }
   ],
   "source": [
    "s"
   ]
  },
  {
   "cell_type": "code",
   "execution_count": 50,
   "id": "883d3249",
   "metadata": {},
   "outputs": [],
   "source": [
    "s.sort(key=lambda x:len(x))"
   ]
  },
  {
   "cell_type": "code",
   "execution_count": 51,
   "id": "ff86f91d",
   "metadata": {},
   "outputs": [
    {
     "data": {
      "text/plain": [
       "['cat', 'dog', 'tiger', 'giraffe']"
      ]
     },
     "execution_count": 51,
     "metadata": {},
     "output_type": "execute_result"
    }
   ],
   "source": [
    "s"
   ]
  },
  {
   "cell_type": "code",
   "execution_count": null,
   "id": "83365f31",
   "metadata": {},
   "outputs": [],
   "source": []
  },
  {
   "cell_type": "code",
   "execution_count": null,
   "id": "e2d37428",
   "metadata": {},
   "outputs": [],
   "source": []
  }
 ],
 "metadata": {
  "kernelspec": {
   "display_name": "Python 3 (ipykernel)",
   "language": "python",
   "name": "python3"
  },
  "language_info": {
   "codemirror_mode": {
    "name": "ipython",
    "version": 3
   },
   "file_extension": ".py",
   "mimetype": "text/x-python",
   "name": "python",
   "nbconvert_exporter": "python",
   "pygments_lexer": "ipython3",
   "version": "3.8.8"
  }
 },
 "nbformat": 4,
 "nbformat_minor": 5
}
